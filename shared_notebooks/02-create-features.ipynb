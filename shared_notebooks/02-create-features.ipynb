{
 "cells": [
  {
   "cell_type": "code",
   "execution_count": null,
   "metadata": {},
   "outputs": [],
   "source": [
    "# # Reminder\n",
    "# import os, sys\n",
    "\n",
    "# os.chdir('/Users/herve/code/hervelao/bakery-products')\n",
    "# sys.path.append('/Users/herve/code/hervelao/bakery-products')"
   ]
  },
  {
   "cell_type": "markdown",
   "metadata": {},
   "source": [
    "# Create features"
   ]
  },
  {
   "cell_type": "code",
   "execution_count": 1,
   "metadata": {},
   "outputs": [],
   "source": [
    "# Import packages\n",
    "import pandas as pd\n",
    "import numpy as np\n",
    "\n",
    "import matplotlib.pyplot as plt\n",
    "\n",
    "# Autoreload\n",
    "%load_ext autoreload\n",
    "%autoreload 2\n",
    "\n",
    "# Warnings\n",
    "import warnings\n",
    "warnings.filterwarnings('ignore')\n",
    "\n",
    "# Import data\n",
    "from bimbo.data import Bimbo\n",
    "\n",
    "data = Bimbo().get_data()\n",
    "\n",
    "# Load in the train and test datasets\n",
    "train_df = data['train']\n",
    "test_df = data['test']\n",
    "cliente_tabla_df = data['cliente_tabla']\n",
    "producto_tabla_df = data['producto_tabla']\n",
    "town_state_df = data['town_state']\n",
    "sample_submission_df = data['sample_submission']"
   ]
  },
  {
   "cell_type": "markdown",
   "metadata": {},
   "source": [
    "### Prepare data"
   ]
  },
  {
   "cell_type": "code",
   "execution_count": 2,
   "metadata": {},
   "outputs": [
    {
     "data": {
      "text/plain": [
       "Counter({3: 11165207,\n",
       "         4: 11009593,\n",
       "         5: 10615397,\n",
       "         6: 10191837,\n",
       "         7: 10382849,\n",
       "         8: 10406868,\n",
       "         9: 10408713})"
      ]
     },
     "execution_count": 2,
     "metadata": {},
     "output_type": "execute_result"
    }
   ],
   "source": [
    "# Let's count the number of elements each week ('semana')\n",
    "from collections import Counter\n",
    "\n",
    "Counter(train_df['Semana'])"
   ]
  },
  {
   "cell_type": "markdown",
   "metadata": {},
   "source": [
    "Therefore, we have **seven weeks** worth of data.\n",
    "\n",
    "We are going to validate on the last week of our train_df, i.e. `train_df['Semana'] == 9`"
   ]
  },
  {
   "cell_type": "code",
   "execution_count": 11,
   "metadata": {},
   "outputs": [],
   "source": [
    "val_X = train_df[train_df['Semana'] < 9]\n",
    "val_y = train_df[train_df['Semana'] == 9]"
   ]
  },
  {
   "cell_type": "markdown",
   "metadata": {},
   "source": [
    "### Feature Engineering"
   ]
  },
  {
   "cell_type": "markdown",
   "metadata": {},
   "source": [
    "#### for the val data"
   ]
  },
  {
   "cell_type": "code",
   "execution_count": 12,
   "metadata": {},
   "outputs": [],
   "source": [
    "from bimbo.preprocessing import *\n",
    "from bimbo.feature_engineering import *\n",
    "from bimbo.utils import *"
   ]
  },
  {
   "cell_type": "code",
   "execution_count": 13,
   "metadata": {},
   "outputs": [],
   "source": [
    "# Create a new column log_demanda_uni_equil on the val_X val_y \n",
    "# log1p => Return the natural logarithm of one plus the input array\n",
    "# Why log1p ? => log1p produces only positive values and removes the 'danger' of large negative numbers\n",
    "# Indeed, if our dataset contains numbers much larger than zero, they can be distorted towards large negative numbers\n",
    "val_X = data_preprocess(val_X)\n",
    "\n",
    "val_y['log_demanda_uni_equil'] = pd.DataFrame(np.log1p(val_y['Demanda_uni_equil']))"
   ]
  },
  {
   "cell_type": "code",
   "execution_count": 14,
   "metadata": {},
   "outputs": [],
   "source": [
    "# Here, we change the features [Agencia_ID' , 'Canal_ID' , 'Ruta_SAK' , 'Cliente_ID' , 'Producto_ID'] into categories\n",
    "val_X = change_type2cate(val_X)"
   ]
  },
  {
   "cell_type": "code",
   "execution_count": 16,
   "metadata": {},
   "outputs": [],
   "source": [
    "# We aggregate the existent features to get the mean.\n",
    "# Indeed, we need XGBoost to capture the time series nature of the data, and this is the way.\n",
    "temp = feature_engineering(val_X)"
   ]
  },
  {
   "cell_type": "code",
   "execution_count": 23,
   "metadata": {},
   "outputs": [],
   "source": [
    "# Merge all the features with \n",
    "val = merge_feature(val_y, temp, 'val')"
   ]
  },
  {
   "cell_type": "code",
   "execution_count": 24,
   "metadata": {},
   "outputs": [
    {
     "data": {
      "text/html": [
       "<div>\n",
       "<style scoped>\n",
       "    .dataframe tbody tr th:only-of-type {\n",
       "        vertical-align: middle;\n",
       "    }\n",
       "\n",
       "    .dataframe tbody tr th {\n",
       "        vertical-align: top;\n",
       "    }\n",
       "\n",
       "    .dataframe thead th {\n",
       "        text-align: right;\n",
       "    }\n",
       "</style>\n",
       "<table border=\"1\" class=\"dataframe\">\n",
       "  <thead>\n",
       "    <tr style=\"text-align: right;\">\n",
       "      <th></th>\n",
       "      <th>Demanda_uni_equil</th>\n",
       "      <th>log_demanda_uni_equil</th>\n",
       "      <th>mean_due_age</th>\n",
       "      <th>mean_due_can</th>\n",
       "      <th>mean_due_rut</th>\n",
       "      <th>mean_due_cli</th>\n",
       "      <th>mean_due_pa</th>\n",
       "      <th>mean_due_pr</th>\n",
       "      <th>mean_due_pcli</th>\n",
       "      <th>mean_due_pcan</th>\n",
       "      <th>mean_due_pca</th>\n",
       "      <th>mean_vh_age</th>\n",
       "      <th>sd_due_acrcp</th>\n",
       "      <th>mean_due_acrcp</th>\n",
       "    </tr>\n",
       "  </thead>\n",
       "  <tbody>\n",
       "    <tr>\n",
       "      <th>0</th>\n",
       "      <td>1</td>\n",
       "      <td>0.693147</td>\n",
       "      <td>2.010012</td>\n",
       "      <td>1.996967</td>\n",
       "      <td>2.08378</td>\n",
       "      <td>1.719464</td>\n",
       "      <td>1.587694</td>\n",
       "      <td>1.556331</td>\n",
       "      <td>1.599232</td>\n",
       "      <td>1.512998</td>\n",
       "      <td>1.599232</td>\n",
       "      <td>4.113977</td>\n",
       "      <td>0.165949</td>\n",
       "      <td>1.599232</td>\n",
       "    </tr>\n",
       "    <tr>\n",
       "      <th>1</th>\n",
       "      <td>2</td>\n",
       "      <td>1.098612</td>\n",
       "      <td>2.010012</td>\n",
       "      <td>1.996967</td>\n",
       "      <td>2.08378</td>\n",
       "      <td>1.719464</td>\n",
       "      <td>1.680625</td>\n",
       "      <td>1.553152</td>\n",
       "      <td>1.212066</td>\n",
       "      <td>1.601887</td>\n",
       "      <td>1.212066</td>\n",
       "      <td>4.113977</td>\n",
       "      <td>0.320511</td>\n",
       "      <td>1.212066</td>\n",
       "    </tr>\n",
       "    <tr>\n",
       "      <th>2</th>\n",
       "      <td>2</td>\n",
       "      <td>1.098612</td>\n",
       "      <td>2.010012</td>\n",
       "      <td>1.996967</td>\n",
       "      <td>2.08378</td>\n",
       "      <td>1.719464</td>\n",
       "      <td>1.931563</td>\n",
       "      <td>1.803948</td>\n",
       "      <td>1.746179</td>\n",
       "      <td>1.819226</td>\n",
       "      <td>1.746179</td>\n",
       "      <td>4.113977</td>\n",
       "      <td>0.500848</td>\n",
       "      <td>1.746179</td>\n",
       "    </tr>\n",
       "    <tr>\n",
       "      <th>3</th>\n",
       "      <td>1</td>\n",
       "      <td>0.693147</td>\n",
       "      <td>2.010012</td>\n",
       "      <td>1.996967</td>\n",
       "      <td>2.08378</td>\n",
       "      <td>1.719464</td>\n",
       "      <td>1.655291</td>\n",
       "      <td>1.937759</td>\n",
       "      <td>1.174876</td>\n",
       "      <td>1.782192</td>\n",
       "      <td>1.174876</td>\n",
       "      <td>4.113977</td>\n",
       "      <td>0.274877</td>\n",
       "      <td>1.174876</td>\n",
       "    </tr>\n",
       "    <tr>\n",
       "      <th>4</th>\n",
       "      <td>10</td>\n",
       "      <td>2.397895</td>\n",
       "      <td>2.010012</td>\n",
       "      <td>1.996967</td>\n",
       "      <td>2.08378</td>\n",
       "      <td>1.719464</td>\n",
       "      <td>2.266708</td>\n",
       "      <td>1.903195</td>\n",
       "      <td>1.828950</td>\n",
       "      <td>1.979976</td>\n",
       "      <td>1.828950</td>\n",
       "      <td>4.113977</td>\n",
       "      <td>0.711540</td>\n",
       "      <td>1.828950</td>\n",
       "    </tr>\n",
       "  </tbody>\n",
       "</table>\n",
       "</div>"
      ],
      "text/plain": [
       "   Demanda_uni_equil  log_demanda_uni_equil  mean_due_age  mean_due_can  \\\n",
       "0                  1               0.693147      2.010012      1.996967   \n",
       "1                  2               1.098612      2.010012      1.996967   \n",
       "2                  2               1.098612      2.010012      1.996967   \n",
       "3                  1               0.693147      2.010012      1.996967   \n",
       "4                 10               2.397895      2.010012      1.996967   \n",
       "\n",
       "   mean_due_rut  mean_due_cli  mean_due_pa  mean_due_pr  mean_due_pcli  \\\n",
       "0       2.08378      1.719464     1.587694     1.556331       1.599232   \n",
       "1       2.08378      1.719464     1.680625     1.553152       1.212066   \n",
       "2       2.08378      1.719464     1.931563     1.803948       1.746179   \n",
       "3       2.08378      1.719464     1.655291     1.937759       1.174876   \n",
       "4       2.08378      1.719464     2.266708     1.903195       1.828950   \n",
       "\n",
       "   mean_due_pcan  mean_due_pca  mean_vh_age  sd_due_acrcp  mean_due_acrcp  \n",
       "0       1.512998      1.599232     4.113977      0.165949        1.599232  \n",
       "1       1.601887      1.212066     4.113977      0.320511        1.212066  \n",
       "2       1.819226      1.746179     4.113977      0.500848        1.746179  \n",
       "3       1.782192      1.174876     4.113977      0.274877        1.174876  \n",
       "4       1.979976      1.828950     4.113977      0.711540        1.828950  "
      ]
     },
     "execution_count": 24,
     "metadata": {},
     "output_type": "execute_result"
    }
   ],
   "source": [
    "val.head()"
   ]
  },
  {
   "cell_type": "code",
   "execution_count": 25,
   "metadata": {},
   "outputs": [],
   "source": [
    "val.to_csv('../data/processed_val.csv', index=False)"
   ]
  },
  {
   "cell_type": "markdown",
   "metadata": {},
   "source": [
    "#### for the test data"
   ]
  },
  {
   "cell_type": "code",
   "execution_count": 26,
   "metadata": {},
   "outputs": [],
   "source": [
    "train_df = data_preprocess(train_df)"
   ]
  },
  {
   "cell_type": "code",
   "execution_count": 27,
   "metadata": {},
   "outputs": [],
   "source": [
    "train_df = change_type2cate(train_df)"
   ]
  },
  {
   "cell_type": "code",
   "execution_count": 28,
   "metadata": {},
   "outputs": [],
   "source": [
    "temp = feature_engineering(train_df)"
   ]
  },
  {
   "cell_type": "code",
   "execution_count": 30,
   "metadata": {},
   "outputs": [],
   "source": [
    "test = merge_feature(test_df, temp, 'test')"
   ]
  },
  {
   "cell_type": "code",
   "execution_count": 31,
   "metadata": {},
   "outputs": [],
   "source": [
    "test_id = test['id']\n",
    "test.drop(['id','Semana'], axis=1, inplace=True)"
   ]
  },
  {
   "cell_type": "code",
   "execution_count": 33,
   "metadata": {},
   "outputs": [
    {
     "data": {
      "text/html": [
       "<div>\n",
       "<style scoped>\n",
       "    .dataframe tbody tr th:only-of-type {\n",
       "        vertical-align: middle;\n",
       "    }\n",
       "\n",
       "    .dataframe tbody tr th {\n",
       "        vertical-align: top;\n",
       "    }\n",
       "\n",
       "    .dataframe thead th {\n",
       "        text-align: right;\n",
       "    }\n",
       "</style>\n",
       "<table border=\"1\" class=\"dataframe\">\n",
       "  <thead>\n",
       "    <tr style=\"text-align: right;\">\n",
       "      <th></th>\n",
       "      <th>mean_due_age</th>\n",
       "      <th>mean_due_can</th>\n",
       "      <th>mean_due_rut</th>\n",
       "      <th>mean_due_cli</th>\n",
       "      <th>mean_due_pa</th>\n",
       "      <th>mean_due_pr</th>\n",
       "      <th>mean_due_pcli</th>\n",
       "      <th>mean_due_pcan</th>\n",
       "      <th>mean_due_pca</th>\n",
       "      <th>mean_vh_age</th>\n",
       "      <th>sd_due_acrcp</th>\n",
       "      <th>mean_due_acrcp</th>\n",
       "    </tr>\n",
       "  </thead>\n",
       "  <tbody>\n",
       "    <tr>\n",
       "      <th>0</th>\n",
       "      <td>1.433683</td>\n",
       "      <td>1.529564</td>\n",
       "      <td>1.321099</td>\n",
       "      <td>1.179669</td>\n",
       "      <td>1.901905</td>\n",
       "      <td>1.630124</td>\n",
       "      <td>1.609438</td>\n",
       "      <td>2.068613</td>\n",
       "      <td>1.609438</td>\n",
       "      <td>3.295887</td>\n",
       "      <td>NaN</td>\n",
       "      <td>1.609438</td>\n",
       "    </tr>\n",
       "    <tr>\n",
       "      <th>1</th>\n",
       "      <td>1.440236</td>\n",
       "      <td>1.529564</td>\n",
       "      <td>1.392361</td>\n",
       "      <td>1.252450</td>\n",
       "      <td>1.017037</td>\n",
       "      <td>1.006477</td>\n",
       "      <td>NaN</td>\n",
       "      <td>1.192182</td>\n",
       "      <td>NaN</td>\n",
       "      <td>3.351941</td>\n",
       "      <td>NaN</td>\n",
       "      <td>NaN</td>\n",
       "    </tr>\n",
       "    <tr>\n",
       "      <th>2</th>\n",
       "      <td>1.552585</td>\n",
       "      <td>1.529564</td>\n",
       "      <td>1.511835</td>\n",
       "      <td>1.763140</td>\n",
       "      <td>1.527452</td>\n",
       "      <td>1.355031</td>\n",
       "      <td>1.098612</td>\n",
       "      <td>1.422284</td>\n",
       "      <td>1.098612</td>\n",
       "      <td>3.370756</td>\n",
       "      <td>0.0</td>\n",
       "      <td>1.098612</td>\n",
       "    </tr>\n",
       "    <tr>\n",
       "      <th>3</th>\n",
       "      <td>1.387930</td>\n",
       "      <td>1.529564</td>\n",
       "      <td>1.567975</td>\n",
       "      <td>1.341171</td>\n",
       "      <td>0.742755</td>\n",
       "      <td>1.059591</td>\n",
       "      <td>NaN</td>\n",
       "      <td>1.031969</td>\n",
       "      <td>NaN</td>\n",
       "      <td>3.211019</td>\n",
       "      <td>NaN</td>\n",
       "      <td>NaN</td>\n",
       "    </tr>\n",
       "    <tr>\n",
       "      <th>4</th>\n",
       "      <td>1.496363</td>\n",
       "      <td>1.529564</td>\n",
       "      <td>1.617854</td>\n",
       "      <td>1.341662</td>\n",
       "      <td>NaN</td>\n",
       "      <td>NaN</td>\n",
       "      <td>NaN</td>\n",
       "      <td>1.310750</td>\n",
       "      <td>NaN</td>\n",
       "      <td>3.410910</td>\n",
       "      <td>NaN</td>\n",
       "      <td>NaN</td>\n",
       "    </tr>\n",
       "  </tbody>\n",
       "</table>\n",
       "</div>"
      ],
      "text/plain": [
       "   mean_due_age  mean_due_can  mean_due_rut  mean_due_cli  mean_due_pa  \\\n",
       "0      1.433683      1.529564      1.321099      1.179669     1.901905   \n",
       "1      1.440236      1.529564      1.392361      1.252450     1.017037   \n",
       "2      1.552585      1.529564      1.511835      1.763140     1.527452   \n",
       "3      1.387930      1.529564      1.567975      1.341171     0.742755   \n",
       "4      1.496363      1.529564      1.617854      1.341662          NaN   \n",
       "\n",
       "   mean_due_pr  mean_due_pcli  mean_due_pcan  mean_due_pca  mean_vh_age  \\\n",
       "0     1.630124       1.609438       2.068613      1.609438     3.295887   \n",
       "1     1.006477            NaN       1.192182           NaN     3.351941   \n",
       "2     1.355031       1.098612       1.422284      1.098612     3.370756   \n",
       "3     1.059591            NaN       1.031969           NaN     3.211019   \n",
       "4          NaN            NaN       1.310750           NaN     3.410910   \n",
       "\n",
       "   sd_due_acrcp  mean_due_acrcp  \n",
       "0           NaN        1.609438  \n",
       "1           NaN             NaN  \n",
       "2           0.0        1.098612  \n",
       "3           NaN             NaN  \n",
       "4           NaN             NaN  "
      ]
     },
     "execution_count": 33,
     "metadata": {},
     "output_type": "execute_result"
    }
   ],
   "source": [
    "test.head()"
   ]
  },
  {
   "cell_type": "code",
   "execution_count": 32,
   "metadata": {},
   "outputs": [],
   "source": [
    "test.to_csv('../data/processed_test.csv', index=False)"
   ]
  }
 ],
 "metadata": {
  "kernelspec": {
   "display_name": "Python 3",
   "language": "python",
   "name": "python3"
  },
  "language_info": {
   "codemirror_mode": {
    "name": "ipython",
    "version": 3
   },
   "file_extension": ".py",
   "mimetype": "text/x-python",
   "name": "python",
   "nbconvert_exporter": "python",
   "pygments_lexer": "ipython3",
   "version": "3.7.6"
  },
  "toc": {
   "base_numbering": 1,
   "nav_menu": {},
   "number_sections": false,
   "sideBar": true,
   "skip_h1_title": false,
   "title_cell": "Table of Contents",
   "title_sidebar": "Contents",
   "toc_cell": false,
   "toc_position": {
    "height": "calc(100% - 180px)",
    "left": "10px",
    "top": "150px",
    "width": "288px"
   },
   "toc_section_display": true,
   "toc_window_display": false
  }
 },
 "nbformat": 4,
 "nbformat_minor": 4
}
