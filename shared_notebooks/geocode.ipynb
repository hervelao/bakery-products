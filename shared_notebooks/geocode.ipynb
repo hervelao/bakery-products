{
 "cells": [
  {
   "cell_type": "markdown",
   "metadata": {},
   "source": [
    "TL;DR: this notebook loads the town state csv and queries google maps api using a gcp api key\n",
    "in order to retrieve location for all the addresses\n",
    "the adresses are created by conctenating the town and the state\n",
    "since the requests are paid, the result is stored in the town_state_geocoded_google csv"
   ]
  },
  {
   "cell_type": "markdown",
   "metadata": {},
   "source": [
    "# geocode town states"
   ]
  },
  {
   "cell_type": "code",
   "execution_count": 1,
   "metadata": {},
   "outputs": [
    {
     "name": "stdout",
     "output_type": "stream",
     "text": [
      "cliente_tabla.csv         sample_submission_10k.csv town_state.csv\r\n",
      "producto_tabla.csv        test.csv                  train.csv\r\n",
      "sample_submission.csv     test_10k.csv              train_100k.csv\r\n"
     ]
    }
   ],
   "source": [
    "!ls ../data/csv"
   ]
  },
  {
   "cell_type": "code",
   "execution_count": 2,
   "metadata": {},
   "outputs": [
    {
     "data": {
      "text/plain": [
       "(790, 3)"
      ]
     },
     "execution_count": 2,
     "metadata": {},
     "output_type": "execute_result"
    }
   ],
   "source": [
    "import pandas as pd\n",
    "\n",
    "df = pd.read_csv('../data/csv/town_state.csv')\n",
    "df.shape"
   ]
  },
  {
   "cell_type": "code",
   "execution_count": 3,
   "metadata": {},
   "outputs": [
    {
     "data": {
      "text/html": [
       "<div>\n",
       "<style scoped>\n",
       "    .dataframe tbody tr th:only-of-type {\n",
       "        vertical-align: middle;\n",
       "    }\n",
       "\n",
       "    .dataframe tbody tr th {\n",
       "        vertical-align: top;\n",
       "    }\n",
       "\n",
       "    .dataframe thead th {\n",
       "        text-align: right;\n",
       "    }\n",
       "</style>\n",
       "<table border=\"1\" class=\"dataframe\">\n",
       "  <thead>\n",
       "    <tr style=\"text-align: right;\">\n",
       "      <th></th>\n",
       "      <th>Agencia_ID</th>\n",
       "      <th>Town</th>\n",
       "      <th>State</th>\n",
       "    </tr>\n",
       "  </thead>\n",
       "  <tbody>\n",
       "    <tr>\n",
       "      <th>0</th>\n",
       "      <td>1110</td>\n",
       "      <td>2008 AG. LAGO FILT</td>\n",
       "      <td>MÉXICO, D.F.</td>\n",
       "    </tr>\n",
       "    <tr>\n",
       "      <th>1</th>\n",
       "      <td>1111</td>\n",
       "      <td>2002 AG. AZCAPOTZALCO</td>\n",
       "      <td>MÉXICO, D.F.</td>\n",
       "    </tr>\n",
       "    <tr>\n",
       "      <th>2</th>\n",
       "      <td>1112</td>\n",
       "      <td>2004 AG. CUAUTITLAN</td>\n",
       "      <td>ESTADO DE MÉXICO</td>\n",
       "    </tr>\n",
       "  </tbody>\n",
       "</table>\n",
       "</div>"
      ],
      "text/plain": [
       "   Agencia_ID                   Town             State\n",
       "0        1110     2008 AG. LAGO FILT      MÉXICO, D.F.\n",
       "1        1111  2002 AG. AZCAPOTZALCO      MÉXICO, D.F.\n",
       "2        1112    2004 AG. CUAUTITLAN  ESTADO DE MÉXICO"
      ]
     },
     "execution_count": 3,
     "metadata": {},
     "output_type": "execute_result"
    }
   ],
   "source": [
    "df[:3]"
   ]
  },
  {
   "cell_type": "code",
   "execution_count": 4,
   "metadata": {},
   "outputs": [
    {
     "data": {
      "text/html": [
       "<div>\n",
       "<style scoped>\n",
       "    .dataframe tbody tr th:only-of-type {\n",
       "        vertical-align: middle;\n",
       "    }\n",
       "\n",
       "    .dataframe tbody tr th {\n",
       "        vertical-align: top;\n",
       "    }\n",
       "\n",
       "    .dataframe thead th {\n",
       "        text-align: right;\n",
       "    }\n",
       "</style>\n",
       "<table border=\"1\" class=\"dataframe\">\n",
       "  <thead>\n",
       "    <tr style=\"text-align: right;\">\n",
       "      <th></th>\n",
       "      <th>Agencia_ID</th>\n",
       "      <th>Town</th>\n",
       "      <th>State</th>\n",
       "      <th>Location</th>\n",
       "    </tr>\n",
       "  </thead>\n",
       "  <tbody>\n",
       "    <tr>\n",
       "      <th>0</th>\n",
       "      <td>1110</td>\n",
       "      <td>2008 AG. LAGO FILT</td>\n",
       "      <td>MÉXICO, D.F.</td>\n",
       "      <td>2008 AG. LAGO FILT, MÉXICO, D.F.</td>\n",
       "    </tr>\n",
       "    <tr>\n",
       "      <th>1</th>\n",
       "      <td>1111</td>\n",
       "      <td>2002 AG. AZCAPOTZALCO</td>\n",
       "      <td>MÉXICO, D.F.</td>\n",
       "      <td>2002 AG. AZCAPOTZALCO, MÉXICO, D.F.</td>\n",
       "    </tr>\n",
       "    <tr>\n",
       "      <th>2</th>\n",
       "      <td>1112</td>\n",
       "      <td>2004 AG. CUAUTITLAN</td>\n",
       "      <td>ESTADO DE MÉXICO</td>\n",
       "      <td>2004 AG. CUAUTITLAN, ESTADO DE MÉXICO</td>\n",
       "    </tr>\n",
       "  </tbody>\n",
       "</table>\n",
       "</div>"
      ],
      "text/plain": [
       "   Agencia_ID                   Town             State  \\\n",
       "0        1110     2008 AG. LAGO FILT      MÉXICO, D.F.   \n",
       "1        1111  2002 AG. AZCAPOTZALCO      MÉXICO, D.F.   \n",
       "2        1112    2004 AG. CUAUTITLAN  ESTADO DE MÉXICO   \n",
       "\n",
       "                                Location  \n",
       "0       2008 AG. LAGO FILT, MÉXICO, D.F.  \n",
       "1    2002 AG. AZCAPOTZALCO, MÉXICO, D.F.  \n",
       "2  2004 AG. CUAUTITLAN, ESTADO DE MÉXICO  "
      ]
     },
     "execution_count": 4,
     "metadata": {},
     "output_type": "execute_result"
    }
   ],
   "source": [
    "df['Location'] = df.Town + ', ' + df.State\n",
    "df[:3]"
   ]
  },
  {
   "cell_type": "markdown",
   "metadata": {},
   "source": [
    "## open street map nominatim does NOT work\n",
    "the api returns timeouts even with 10 seconds between requests"
   ]
  },
  {
   "cell_type": "code",
   "execution_count": null,
   "metadata": {},
   "outputs": [],
   "source": [
    "from geopy.geocoders import Nominatim\n",
    "locator = Nominatim(user_agent='myGeocoder')"
   ]
  },
  {
   "cell_type": "code",
   "execution_count": null,
   "metadata": {},
   "outputs": [],
   "source": [
    "location = locator.geocode('Champ de Mars, Paris, France')"
   ]
  },
  {
   "cell_type": "code",
   "execution_count": null,
   "metadata": {},
   "outputs": [],
   "source": [
    "print(f'lat {location.latitude}, lon {location.longitude}')"
   ]
  },
  {
   "cell_type": "code",
   "execution_count": null,
   "metadata": {},
   "outputs": [],
   "source": [
    "from geopy.extra.rate_limiter import RateLimiter\n",
    "geocode = RateLimiter(locator.geocode, min_delay_seconds=10, error_wait_seconds=10)"
   ]
  },
  {
   "cell_type": "code",
   "execution_count": null,
   "metadata": {},
   "outputs": [],
   "source": [
    "df['loc'] = df['Location'].apply(geocode)"
   ]
  },
  {
   "cell_type": "code",
   "execution_count": null,
   "metadata": {},
   "outputs": [],
   "source": [
    "df['point'] = df['loc'].apply(lambda loc: tuple(loc.point) if loc else None)"
   ]
  },
  {
   "cell_type": "code",
   "execution_count": null,
   "metadata": {},
   "outputs": [],
   "source": [
    "df[['latitude', 'longitude', 'altitude']] = pd.DataFrame(df['point'].tolist(), index=df.index)"
   ]
  },
  {
   "cell_type": "markdown",
   "metadata": {},
   "source": [
    "## google maps geocoding WORKS"
   ]
  },
  {
   "cell_type": "code",
   "execution_count": 5,
   "metadata": {},
   "outputs": [
    {
     "name": "stdout",
     "output_type": "stream",
     "text": [
      "README.md           \u001b[1m\u001b[36mdata\u001b[m\u001b[m                \u001b[1m\u001b[36mmodels\u001b[m\u001b[m              \u001b[1m\u001b[36mserialize-models\u001b[m\u001b[m\r\n",
      "\u001b[1m\u001b[36m__pycache__\u001b[m\u001b[m         env.py              \u001b[1m\u001b[36mnotebooks\u001b[m\u001b[m           \u001b[1m\u001b[36mshared_notebooks\u001b[m\u001b[m\r\n",
      "\u001b[1m\u001b[36mbimbo\u001b[m\u001b[m               model.joblib        \u001b[1m\u001b[36mpresentation_images\u001b[m\u001b[m\r\n"
     ]
    }
   ],
   "source": [
    "!ls .."
   ]
  },
  {
   "cell_type": "code",
   "execution_count": 6,
   "metadata": {},
   "outputs": [],
   "source": [
    "# env.py should contain a line with google maps api key\n",
    "# GOOGLE_MAPS_API_KEY='your key here'\n",
    "# and should not be stored in git\n",
    "from env import GOOGLE_MAPS_API_KEY"
   ]
  },
  {
   "cell_type": "code",
   "execution_count": 7,
   "metadata": {},
   "outputs": [],
   "source": [
    "import googlemaps\n",
    "from datetime import datetime\n",
    "\n",
    "gmaps = googlemaps.Client(key=GOOGLE_MAPS_API_KEY)"
   ]
  },
  {
   "cell_type": "code",
   "execution_count": 8,
   "metadata": {},
   "outputs": [],
   "source": [
    "geocode_result = gmaps.geocode('1600 Amphitheatre Parkway, Mountain View, CA')"
   ]
  },
  {
   "cell_type": "code",
   "execution_count": 9,
   "metadata": {},
   "outputs": [
    {
     "data": {
      "text/plain": [
       "[{'address_components': [{'long_name': '1600',\n",
       "    'short_name': '1600',\n",
       "    'types': ['street_number']},\n",
       "   {'long_name': 'Amphitheatre Parkway',\n",
       "    'short_name': 'Amphitheatre Pkwy',\n",
       "    'types': ['route']},\n",
       "   {'long_name': 'Mountain View',\n",
       "    'short_name': 'Mountain View',\n",
       "    'types': ['locality', 'political']},\n",
       "   {'long_name': 'Santa Clara County',\n",
       "    'short_name': 'Santa Clara County',\n",
       "    'types': ['administrative_area_level_2', 'political']},\n",
       "   {'long_name': 'California',\n",
       "    'short_name': 'CA',\n",
       "    'types': ['administrative_area_level_1', 'political']},\n",
       "   {'long_name': 'United States',\n",
       "    'short_name': 'US',\n",
       "    'types': ['country', 'political']},\n",
       "   {'long_name': '94043', 'short_name': '94043', 'types': ['postal_code']}],\n",
       "  'formatted_address': '1600 Amphitheatre Pkwy, Mountain View, CA 94043, USA',\n",
       "  'geometry': {'location': {'lat': 37.4223098, 'lng': -122.0846239},\n",
       "   'location_type': 'ROOFTOP',\n",
       "   'viewport': {'northeast': {'lat': 37.4236587802915,\n",
       "     'lng': -122.0832749197085},\n",
       "    'southwest': {'lat': 37.4209608197085, 'lng': -122.0859728802915}}},\n",
       "  'place_id': 'ChIJtYuu0V25j4ARwu5e4wwRYgE',\n",
       "  'plus_code': {'compound_code': 'CWC8+W5 Mountain View, California, United States',\n",
       "   'global_code': '849VCWC8+W5'},\n",
       "  'types': ['street_address']}]"
      ]
     },
     "execution_count": 9,
     "metadata": {},
     "output_type": "execute_result"
    }
   ],
   "source": [
    "geocode_result"
   ]
  },
  {
   "cell_type": "code",
   "execution_count": 10,
   "metadata": {},
   "outputs": [
    {
     "data": {
      "text/plain": [
       "[{'address_components': [{'long_name': 'Calle Lago Filt',\n",
       "    'short_name': 'Calle Lago Filt',\n",
       "    'types': ['route']},\n",
       "   {'long_name': 'Ciudad de México',\n",
       "    'short_name': 'México D.F.',\n",
       "    'types': ['locality', 'political']},\n",
       "   {'long_name': 'Ciudad de México',\n",
       "    'short_name': 'CDMX',\n",
       "    'types': ['administrative_area_level_1', 'political']},\n",
       "   {'long_name': 'Mexico',\n",
       "    'short_name': 'MX',\n",
       "    'types': ['country', 'political']}],\n",
       "  'formatted_address': 'Calle Lago Filt, Ciudad de México, CDMX, Mexico',\n",
       "  'geometry': {'bounds': {'northeast': {'lat': 19.4430976,\n",
       "     'lng': -99.19578930000002},\n",
       "    'southwest': {'lat': 19.4408317, 'lng': -99.1959624}},\n",
       "   'location': {'lat': 19.4419322, 'lng': -99.1957965},\n",
       "   'location_type': 'GEOMETRIC_CENTER',\n",
       "   'viewport': {'northeast': {'lat': 19.4433136302915,\n",
       "     'lng': -99.19452686970851},\n",
       "    'southwest': {'lat': 19.4406156697085, 'lng': -99.19722483029153}}},\n",
       "  'partial_match': True,\n",
       "  'place_id': 'ChIJl_Nv-wUC0oUR3hPQGGVRnUU',\n",
       "  'types': ['route']}]"
      ]
     },
     "execution_count": 10,
     "metadata": {},
     "output_type": "execute_result"
    }
   ],
   "source": [
    "gmaps.geocode('2008 AG. LAGO FILT, MÉXICO, D.F.')"
   ]
  },
  {
   "cell_type": "code",
   "execution_count": 24,
   "metadata": {},
   "outputs": [
    {
     "name": "stdout",
     "output_type": "stream",
     "text": [
      "coucou 0\n",
      "coucou 1\n",
      "coucou 2\n"
     ]
    }
   ],
   "source": [
    "# api rate limit\n",
    "import time\n",
    "for a, i in enumerate(list(range(3))):\n",
    "    time.sleep(1)\n",
    "    print(f'coucou {i}')"
   ]
  },
  {
   "cell_type": "code",
   "execution_count": 40,
   "metadata": {},
   "outputs": [],
   "source": [
    "def google_geocode(location):\n",
    "    time.sleep(.1)\n",
    "    res = gmaps.geocode(location)\n",
    "\n",
    "    route = None\n",
    "    locality = None\n",
    "    area = None\n",
    "    country = None\n",
    "    address = None\n",
    "    lat = None\n",
    "    lng = None\n",
    "    bounds_ne_lat = None\n",
    "    bounds_ne_lng = None\n",
    "    bounds_sw_lat = None\n",
    "    bounds_sw_lng = None\n",
    "    viewport_ne_lat = None\n",
    "    viewport_ne_lng = None\n",
    "    viewport_sw_lat = None\n",
    "    viewport_sw_lng = None\n",
    "\n",
    "    if len(res) > 0:\n",
    "        first_res = res[0]\n",
    "\n",
    "        if 'address_components' in first_res:\n",
    "            address_components = first_res['address_components']\n",
    "\n",
    "            alen = len(address_components)\n",
    "\n",
    "            if alen > 0:\n",
    "                route = address_components[0]['long_name']\n",
    "\n",
    "            if alen > 1:\n",
    "                locality = address_components[1]['long_name']\n",
    "\n",
    "            if alen > 2:\n",
    "                area = address_components[2]['long_name']\n",
    "\n",
    "            if alen > 3:\n",
    "                country = address_components[3]['long_name']\n",
    "\n",
    "        if 'formatted_address' in first_res:\n",
    "            address = first_res['formatted_address']\n",
    "\n",
    "        if 'geometry' in first_res:\n",
    "            geometry = first_res['geometry']\n",
    "\n",
    "            if 'location' in geometry:\n",
    "                location = geometry['location']\n",
    "\n",
    "                lat = location['lat']\n",
    "                lng = location['lng']\n",
    "\n",
    "            if 'bounds' in geometry:\n",
    "                bounds = geometry['bounds']\n",
    "\n",
    "                bounds_ne_lat = bounds['northeast']['lat']\n",
    "                bounds_ne_lng = bounds['northeast']['lng']\n",
    "                bounds_sw_lat = bounds['southwest']['lat']\n",
    "                bounds_sw_lng = bounds['southwest']['lng']\n",
    "\n",
    "            if 'viewport' in geometry:\n",
    "                viewport = geometry['viewport']\n",
    "\n",
    "                viewport_ne_lat = viewport['northeast']['lat']\n",
    "                viewport_ne_lng = viewport['northeast']['lng']\n",
    "                viewport_sw_lat = viewport['southwest']['lat']\n",
    "                viewport_sw_lng = viewport['southwest']['lng']\n",
    "\n",
    "    return pd.Series({\n",
    "        'route': route,\n",
    "        'locality': locality,\n",
    "        'area': area,\n",
    "        'country': country,\n",
    "        'address': address,\n",
    "        'lat': lat,\n",
    "        'lng': lng,\n",
    "        'bounds_ne_lat': bounds_ne_lat,\n",
    "        'bounds_ne_lng': bounds_ne_lng,\n",
    "        'bounds_sw_lat': bounds_sw_lat,\n",
    "        'bounds_sw_lng': bounds_sw_lng,\n",
    "        'viewport_ne_lat': viewport_ne_lat,\n",
    "        'viewport_ne_lng': viewport_ne_lng,\n",
    "        'viewport_sw_lat': viewport_sw_lat,\n",
    "        'viewport_sw_lng': viewport_sw_lng\n",
    "    })"
   ]
  },
  {
   "cell_type": "code",
   "execution_count": 42,
   "metadata": {},
   "outputs": [
    {
     "name": "stdout",
     "output_type": "stream",
     "text": [
      "251.66800689697266 seconds\n"
     ]
    },
    {
     "data": {
      "text/html": [
       "<div>\n",
       "<style scoped>\n",
       "    .dataframe tbody tr th:only-of-type {\n",
       "        vertical-align: middle;\n",
       "    }\n",
       "\n",
       "    .dataframe tbody tr th {\n",
       "        vertical-align: top;\n",
       "    }\n",
       "\n",
       "    .dataframe thead th {\n",
       "        text-align: right;\n",
       "    }\n",
       "</style>\n",
       "<table border=\"1\" class=\"dataframe\">\n",
       "  <thead>\n",
       "    <tr style=\"text-align: right;\">\n",
       "      <th></th>\n",
       "      <th>Agencia_ID</th>\n",
       "      <th>Town</th>\n",
       "      <th>State</th>\n",
       "      <th>Location</th>\n",
       "      <th>route</th>\n",
       "      <th>locality</th>\n",
       "      <th>area</th>\n",
       "      <th>country</th>\n",
       "      <th>address</th>\n",
       "      <th>lat</th>\n",
       "      <th>lng</th>\n",
       "      <th>bounds_ne_lat</th>\n",
       "      <th>bounds_ne_lng</th>\n",
       "      <th>bounds_sw_lat</th>\n",
       "      <th>bounds_sw_lng</th>\n",
       "      <th>viewport_ne_lat</th>\n",
       "      <th>viewport_ne_lng</th>\n",
       "      <th>viewport_sw_lat</th>\n",
       "      <th>viewport_sw_lng</th>\n",
       "    </tr>\n",
       "  </thead>\n",
       "  <tbody>\n",
       "    <tr>\n",
       "      <th>0</th>\n",
       "      <td>1110</td>\n",
       "      <td>2008 AG. LAGO FILT</td>\n",
       "      <td>MÉXICO, D.F.</td>\n",
       "      <td>2008 AG. LAGO FILT, MÉXICO, D.F.</td>\n",
       "      <td>Calle Lago Filt</td>\n",
       "      <td>Ciudad de México</td>\n",
       "      <td>Ciudad de México</td>\n",
       "      <td>Mexico</td>\n",
       "      <td>Calle Lago Filt, Ciudad de México, CDMX, Mexico</td>\n",
       "      <td>19.441932</td>\n",
       "      <td>-99.195797</td>\n",
       "      <td>19.443098</td>\n",
       "      <td>-99.195789</td>\n",
       "      <td>19.440832</td>\n",
       "      <td>-99.195962</td>\n",
       "      <td>19.443314</td>\n",
       "      <td>-99.194527</td>\n",
       "      <td>19.440616</td>\n",
       "      <td>-99.197225</td>\n",
       "    </tr>\n",
       "    <tr>\n",
       "      <th>1</th>\n",
       "      <td>1111</td>\n",
       "      <td>2002 AG. AZCAPOTZALCO</td>\n",
       "      <td>MÉXICO, D.F.</td>\n",
       "      <td>2002 AG. AZCAPOTZALCO, MÉXICO, D.F.</td>\n",
       "      <td>Azcapotzalco</td>\n",
       "      <td>Mexico City</td>\n",
       "      <td>Mexico City</td>\n",
       "      <td>Mexico</td>\n",
       "      <td>Azcapotzalco, Mexico City, CDMX, Mexico</td>\n",
       "      <td>19.484661</td>\n",
       "      <td>-99.188675</td>\n",
       "      <td>19.515136</td>\n",
       "      <td>-99.143055</td>\n",
       "      <td>19.456435</td>\n",
       "      <td>-99.221115</td>\n",
       "      <td>19.515136</td>\n",
       "      <td>-99.143055</td>\n",
       "      <td>19.456435</td>\n",
       "      <td>-99.221115</td>\n",
       "    </tr>\n",
       "    <tr>\n",
       "      <th>2</th>\n",
       "      <td>1112</td>\n",
       "      <td>2004 AG. CUAUTITLAN</td>\n",
       "      <td>ESTADO DE MÉXICO</td>\n",
       "      <td>2004 AG. CUAUTITLAN, ESTADO DE MÉXICO</td>\n",
       "      <td>Cuautitlan</td>\n",
       "      <td>State of Mexico</td>\n",
       "      <td>Mexico</td>\n",
       "      <td>None</td>\n",
       "      <td>Cuautitlan, State of Mexico, Mexico</td>\n",
       "      <td>19.672659</td>\n",
       "      <td>-99.164869</td>\n",
       "      <td>19.693511</td>\n",
       "      <td>-99.139763</td>\n",
       "      <td>19.643411</td>\n",
       "      <td>-99.192603</td>\n",
       "      <td>19.693511</td>\n",
       "      <td>-99.139763</td>\n",
       "      <td>19.643411</td>\n",
       "      <td>-99.192603</td>\n",
       "    </tr>\n",
       "  </tbody>\n",
       "</table>\n",
       "</div>"
      ],
      "text/plain": [
       "   Agencia_ID                   Town             State  \\\n",
       "0        1110     2008 AG. LAGO FILT      MÉXICO, D.F.   \n",
       "1        1111  2002 AG. AZCAPOTZALCO      MÉXICO, D.F.   \n",
       "2        1112    2004 AG. CUAUTITLAN  ESTADO DE MÉXICO   \n",
       "\n",
       "                                Location            route          locality  \\\n",
       "0       2008 AG. LAGO FILT, MÉXICO, D.F.  Calle Lago Filt  Ciudad de México   \n",
       "1    2002 AG. AZCAPOTZALCO, MÉXICO, D.F.     Azcapotzalco       Mexico City   \n",
       "2  2004 AG. CUAUTITLAN, ESTADO DE MÉXICO       Cuautitlan   State of Mexico   \n",
       "\n",
       "               area country                                          address  \\\n",
       "0  Ciudad de México  Mexico  Calle Lago Filt, Ciudad de México, CDMX, Mexico   \n",
       "1       Mexico City  Mexico          Azcapotzalco, Mexico City, CDMX, Mexico   \n",
       "2            Mexico    None              Cuautitlan, State of Mexico, Mexico   \n",
       "\n",
       "         lat        lng  bounds_ne_lat  bounds_ne_lng  bounds_sw_lat  \\\n",
       "0  19.441932 -99.195797      19.443098     -99.195789      19.440832   \n",
       "1  19.484661 -99.188675      19.515136     -99.143055      19.456435   \n",
       "2  19.672659 -99.164869      19.693511     -99.139763      19.643411   \n",
       "\n",
       "   bounds_sw_lng  viewport_ne_lat  viewport_ne_lng  viewport_sw_lat  \\\n",
       "0     -99.195962        19.443314       -99.194527        19.440616   \n",
       "1     -99.221115        19.515136       -99.143055        19.456435   \n",
       "2     -99.192603        19.693511       -99.139763        19.643411   \n",
       "\n",
       "   viewport_sw_lng  \n",
       "0       -99.197225  \n",
       "1       -99.221115  \n",
       "2       -99.192603  "
      ]
     },
     "execution_count": 42,
     "metadata": {},
     "output_type": "execute_result"
    }
   ],
   "source": [
    "# apply geocoding to each row in the dataset\n",
    "start = time.time()\n",
    "full_df = df.join(df.Location.apply(google_geocode))\n",
    "stop = time.time()\n",
    "print(f'{stop - start} seconds')\n",
    "full_df[:3]"
   ]
  },
  {
   "cell_type": "code",
   "execution_count": 44,
   "metadata": {},
   "outputs": [],
   "source": [
    "full_df.to_csv('../data/csv/town_state_geocoded_google.csv')"
   ]
  }
 ],
 "metadata": {
  "kernelspec": {
   "display_name": "Python 3",
   "language": "python",
   "name": "python3"
  },
  "language_info": {
   "codemirror_mode": {
    "name": "ipython",
    "version": 3
   },
   "file_extension": ".py",
   "mimetype": "text/x-python",
   "name": "python",
   "nbconvert_exporter": "python",
   "pygments_lexer": "ipython3",
   "version": "3.7.6"
  },
  "toc": {
   "base_numbering": 1,
   "nav_menu": {},
   "number_sections": true,
   "sideBar": true,
   "skip_h1_title": false,
   "title_cell": "Table of Contents",
   "title_sidebar": "Contents",
   "toc_cell": false,
   "toc_position": {},
   "toc_section_display": true,
   "toc_window_display": false
  }
 },
 "nbformat": 4,
 "nbformat_minor": 4
}
