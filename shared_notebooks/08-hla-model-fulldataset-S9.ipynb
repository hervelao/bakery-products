{
 "cells": [
  {
   "cell_type": "markdown",
   "metadata": {},
   "source": [
    "# Model "
   ]
  },
  {
   "cell_type": "markdown",
   "metadata": {},
   "source": [
    "### Prepare modules and data"
   ]
  },
  {
   "cell_type": "code",
   "execution_count": 1,
   "metadata": {},
   "outputs": [
    {
     "name": "stdout",
     "output_type": "stream",
     "text": [
      "Memory usage of dataframe is 0.04 MB\n",
      "Memory usage after optimization is: 0.11 MB\n",
      "Decreased by -184.7%\n",
      "Memory usage of dataframe is 14.27 MB\n",
      "Memory usage after optimization is: 19.51 MB\n",
      "Decreased by -36.7%\n",
      "Memory usage of dataframe is 373.80 MB\n",
      "Memory usage after optimization is: 120.15 MB\n",
      "Decreased by 67.9%\n",
      "Memory usage of dataframe is 0.02 MB\n",
      "Memory usage after optimization is: 0.02 MB\n",
      "Decreased by 6.0%\n",
      "Memory usage of dataframe is 6225.47 MB\n",
      "Memory usage after optimization is: 2122.32 MB\n",
      "Decreased by 65.9%\n",
      "Memory usage of dataframe is 106.80 MB\n",
      "Memory usage after optimization is: 33.38 MB\n",
      "Decreased by 68.7%\n"
     ]
    },
    {
     "data": {
      "text/plain": [
       "42"
      ]
     },
     "execution_count": 1,
     "metadata": {},
     "output_type": "execute_result"
    }
   ],
   "source": [
    "# Import packages\n",
    "import pandas as pd\n",
    "import numpy as np\n",
    "\n",
    "import matplotlib.pyplot as plt\n",
    "\n",
    "# Autoreload\n",
    "%load_ext autoreload\n",
    "%autoreload 2\n",
    "\n",
    "# Warnings\n",
    "import warnings\n",
    "warnings.filterwarnings('ignore')\n",
    "\n",
    "# Import data\n",
    "from bimbo.data import Bimbo\n",
    "\n",
    "data = Bimbo().get_data()\n",
    "\n",
    "# Load in the train and test datasets\n",
    "train_df = data['train']\n",
    "# test_df = data['test']\n",
    "# cliente_tabla_df = data['cliente_tabla']\n",
    "# producto_tabla_df = data['producto_tabla']\n",
    "town_state_df = data['town_state']\n",
    "# sample_submission_df = data['sample_submission']\n",
    "\n",
    "# Delete data\n",
    "import gc\n",
    "del data\n",
    "gc.collect()"
   ]
  },
  {
   "cell_type": "code",
   "execution_count": 2,
   "metadata": {},
   "outputs": [],
   "source": [
    "# Merge product clusters\n",
    "products_id_clusters_df = pd.read_csv('../data/producto_clusters.csv')\n",
    "new_train_df = pd.merge(train_df, products_id_clusters_df, how='left', on='Producto_ID')\n",
    "\n",
    "# Merge town states\n",
    "new_train_df = pd.merge(new_train_df, town_state_df, how='left', on='Agencia_ID')"
   ]
  },
  {
   "cell_type": "markdown",
   "metadata": {},
   "source": [
    "### Feature engineering"
   ]
  },
  {
   "cell_type": "code",
   "execution_count": 3,
   "metadata": {},
   "outputs": [],
   "source": [
    "from bimbo.preprocessing import *\n",
    "from bimbo.feature_engineering import *"
   ]
  },
  {
   "cell_type": "code",
   "execution_count": 4,
   "metadata": {},
   "outputs": [
    {
     "data": {
      "text/plain": [
       "14"
      ]
     },
     "execution_count": 4,
     "metadata": {},
     "output_type": "execute_result"
    }
   ],
   "source": [
    "val_df = new_train_df[new_train_df['Semana'] == 8]\n",
    "test_df = new_train_df[new_train_df['Semana'] == 9]\n",
    "train_df = new_train_df[new_train_df['Semana'] < 8]\n",
    "\n",
    "final_y_test = test_df['Demanda_uni_equil'] # for later\n",
    "\n",
    "# del new_train_df\n",
    "# gc.collect()"
   ]
  },
  {
   "cell_type": "code",
   "execution_count": 5,
   "metadata": {},
   "outputs": [],
   "source": [
    "train_df = data_preprocess(train_df)\n",
    "val_df = data_preprocess(val_df)\n",
    "test_df = data_preprocess(test_df)"
   ]
  },
  {
   "cell_type": "code",
   "execution_count": 6,
   "metadata": {},
   "outputs": [],
   "source": [
    "train_df = change_type_to_categ2(train_df)\n",
    "val_df = change_type_to_categ2(val_df)\n",
    "test_df = change_type_to_categ2(test_df)"
   ]
  },
  {
   "cell_type": "code",
   "execution_count": 7,
   "metadata": {},
   "outputs": [],
   "source": [
    "temp = feature_engineering2(train_df)"
   ]
  },
  {
   "cell_type": "code",
   "execution_count": 8,
   "metadata": {},
   "outputs": [],
   "source": [
    "val = merge_feature2(val_df, temp, 'val')"
   ]
  },
  {
   "cell_type": "code",
   "execution_count": 9,
   "metadata": {},
   "outputs": [],
   "source": [
    "val.to_csv('../data/processed_val_4.csv', index=False)"
   ]
  },
  {
   "cell_type": "code",
   "execution_count": 10,
   "metadata": {},
   "outputs": [],
   "source": [
    "frames = [train_df, val_df]\n",
    "result = pd.concat(frames)\n",
    "temp = feature_engineering2(result)"
   ]
  },
  {
   "cell_type": "code",
   "execution_count": 11,
   "metadata": {},
   "outputs": [],
   "source": [
    "test = merge_feature2(test_df, temp, 'test')"
   ]
  },
  {
   "cell_type": "code",
   "execution_count": 12,
   "metadata": {},
   "outputs": [],
   "source": [
    "test.to_csv('../data/processed_test_4.csv', index=False)"
   ]
  },
  {
   "cell_type": "code",
   "execution_count": 13,
   "metadata": {},
   "outputs": [],
   "source": [
    "# val = pd.read_csv('../data/processed_val_4.csv')\n",
    "# test = pd.read_csv('../data/processed_test_4.csv')"
   ]
  },
  {
   "cell_type": "markdown",
   "metadata": {},
   "source": [
    "### Bruno's idea to see the improvement of our model"
   ]
  },
  {
   "cell_type": "code",
   "execution_count": 21,
   "metadata": {},
   "outputs": [
    {
     "data": {
      "text/html": [
       "<div>\n",
       "<style scoped>\n",
       "    .dataframe tbody tr th:only-of-type {\n",
       "        vertical-align: middle;\n",
       "    }\n",
       "\n",
       "    .dataframe tbody tr th {\n",
       "        vertical-align: top;\n",
       "    }\n",
       "\n",
       "    .dataframe thead th {\n",
       "        text-align: right;\n",
       "    }\n",
       "</style>\n",
       "<table border=\"1\" class=\"dataframe\">\n",
       "  <thead>\n",
       "    <tr style=\"text-align: right;\">\n",
       "      <th></th>\n",
       "      <th>Agencia_ID</th>\n",
       "      <th>Canal_ID</th>\n",
       "      <th>Ruta_SAK</th>\n",
       "      <th>Cliente_ID</th>\n",
       "      <th>Producto_ID</th>\n",
       "      <th>Demanda_uni_equil_S8</th>\n",
       "    </tr>\n",
       "  </thead>\n",
       "  <tbody>\n",
       "    <tr>\n",
       "      <th>53364883</th>\n",
       "      <td>1110</td>\n",
       "      <td>7</td>\n",
       "      <td>3301</td>\n",
       "      <td>15766</td>\n",
       "      <td>1212</td>\n",
       "      <td>4</td>\n",
       "    </tr>\n",
       "    <tr>\n",
       "      <th>53364884</th>\n",
       "      <td>1110</td>\n",
       "      <td>7</td>\n",
       "      <td>3301</td>\n",
       "      <td>15766</td>\n",
       "      <td>1216</td>\n",
       "      <td>5</td>\n",
       "    </tr>\n",
       "    <tr>\n",
       "      <th>53364885</th>\n",
       "      <td>1110</td>\n",
       "      <td>7</td>\n",
       "      <td>3301</td>\n",
       "      <td>15766</td>\n",
       "      <td>1220</td>\n",
       "      <td>1</td>\n",
       "    </tr>\n",
       "  </tbody>\n",
       "</table>\n",
       "</div>"
      ],
      "text/plain": [
       "         Agencia_ID Canal_ID Ruta_SAK Cliente_ID Producto_ID  \\\n",
       "53364883       1110        7     3301      15766        1212   \n",
       "53364884       1110        7     3301      15766        1216   \n",
       "53364885       1110        7     3301      15766        1220   \n",
       "\n",
       "          Demanda_uni_equil_S8  \n",
       "53364883                     4  \n",
       "53364884                     5  \n",
       "53364885                     1  "
      ]
     },
     "execution_count": 21,
     "metadata": {},
     "output_type": "execute_result"
    }
   ],
   "source": [
    "df_1 = val_df[['Agencia_ID', 'Canal_ID', 'Ruta_SAK', 'Cliente_ID', 'Producto_ID', 'Demanda_uni_equil']]\n",
    "df_1 = df_1.rename(columns={\"Demanda_uni_equil\": \"Demanda_uni_equil_S8\"})\n",
    "df_1.head(3)"
   ]
  },
  {
   "cell_type": "code",
   "execution_count": 22,
   "metadata": {},
   "outputs": [
    {
     "data": {
      "text/html": [
       "<div>\n",
       "<style scoped>\n",
       "    .dataframe tbody tr th:only-of-type {\n",
       "        vertical-align: middle;\n",
       "    }\n",
       "\n",
       "    .dataframe tbody tr th {\n",
       "        vertical-align: top;\n",
       "    }\n",
       "\n",
       "    .dataframe thead th {\n",
       "        text-align: right;\n",
       "    }\n",
       "</style>\n",
       "<table border=\"1\" class=\"dataframe\">\n",
       "  <thead>\n",
       "    <tr style=\"text-align: right;\">\n",
       "      <th></th>\n",
       "      <th>Agencia_ID</th>\n",
       "      <th>Canal_ID</th>\n",
       "      <th>Ruta_SAK</th>\n",
       "      <th>Cliente_ID</th>\n",
       "      <th>Producto_ID</th>\n",
       "      <th>Demanda_uni_equil_S9</th>\n",
       "    </tr>\n",
       "  </thead>\n",
       "  <tbody>\n",
       "    <tr>\n",
       "      <th>63771751</th>\n",
       "      <td>1110</td>\n",
       "      <td>7</td>\n",
       "      <td>3301</td>\n",
       "      <td>15766</td>\n",
       "      <td>1212</td>\n",
       "      <td>1</td>\n",
       "    </tr>\n",
       "    <tr>\n",
       "      <th>63771752</th>\n",
       "      <td>1110</td>\n",
       "      <td>7</td>\n",
       "      <td>3301</td>\n",
       "      <td>15766</td>\n",
       "      <td>1238</td>\n",
       "      <td>2</td>\n",
       "    </tr>\n",
       "    <tr>\n",
       "      <th>63771753</th>\n",
       "      <td>1110</td>\n",
       "      <td>7</td>\n",
       "      <td>3301</td>\n",
       "      <td>15766</td>\n",
       "      <td>1240</td>\n",
       "      <td>2</td>\n",
       "    </tr>\n",
       "  </tbody>\n",
       "</table>\n",
       "</div>"
      ],
      "text/plain": [
       "         Agencia_ID Canal_ID Ruta_SAK Cliente_ID Producto_ID  \\\n",
       "63771751       1110        7     3301      15766        1212   \n",
       "63771752       1110        7     3301      15766        1238   \n",
       "63771753       1110        7     3301      15766        1240   \n",
       "\n",
       "          Demanda_uni_equil_S9  \n",
       "63771751                     1  \n",
       "63771752                     2  \n",
       "63771753                     2  "
      ]
     },
     "execution_count": 22,
     "metadata": {},
     "output_type": "execute_result"
    }
   ],
   "source": [
    "df_2 = test_df[['Agencia_ID', 'Canal_ID', 'Ruta_SAK', 'Cliente_ID', 'Producto_ID', 'Demanda_uni_equil']]\n",
    "df_2 = df_2.rename(columns={\"Demanda_uni_equil\": \"Demanda_uni_equil_S9\"})\n",
    "df_2.head(3)"
   ]
  },
  {
   "cell_type": "code",
   "execution_count": 23,
   "metadata": {},
   "outputs": [],
   "source": [
    "result = pd.merge(df_1, df_2, how='left', on=['Agencia_ID', 'Canal_ID', 'Ruta_SAK', 'Cliente_ID', 'Producto_ID'])"
   ]
  },
  {
   "cell_type": "code",
   "execution_count": 26,
   "metadata": {},
   "outputs": [],
   "source": [
    "result = result.dropna()"
   ]
  },
  {
   "cell_type": "code",
   "execution_count": 28,
   "metadata": {},
   "outputs": [],
   "source": [
    "result['relative_analysis'] = (abs(result['Demanda_uni_equil_S8'] - result['Demanda_uni_equil_S9']) / result['Demanda_uni_equil_S9'])"
   ]
  },
  {
   "cell_type": "code",
   "execution_count": 29,
   "metadata": {},
   "outputs": [
    {
     "name": "stdout",
     "output_type": "stream",
     "text": [
      "median relative value: 0.4025974025974026\n",
      "mae: 3.7452860051098864\n",
      "rmse: 12.121574469249182\n",
      "rmsle: 0.564177389534406\n"
     ]
    }
   ],
   "source": [
    "from sklearn.metrics import mean_absolute_error\n",
    "from sklearn.metrics import mean_squared_error\n",
    "from sklearn.metrics import mean_squared_log_error\n",
    "\n",
    "y_true = result['Demanda_uni_equil_S9']\n",
    "y_pred = result['Demanda_uni_equil_S8']\n",
    "\n",
    "median_relative_value = result['relative_analysis'].median(skipna = True)\n",
    "print(f'median relative value: {median_relative_value}')\n",
    "mae = mean_absolute_error(y_true, y_pred)\n",
    "print(f'mae: {mae}')\n",
    "rmse = np.sqrt(mean_squared_error(y_true, y_pred))\n",
    "print(f'rmse: {rmse}')\n",
    "rmsle = np.sqrt(mean_squared_log_error(y_true, y_pred))\n",
    "print(f'rmsle: {rmsle}')"
   ]
  },
  {
   "cell_type": "markdown",
   "metadata": {},
   "source": [
    "### Model with XGBoost"
   ]
  },
  {
   "cell_type": "code",
   "execution_count": 30,
   "metadata": {},
   "outputs": [],
   "source": [
    "X = val.drop('log_demanda_uni_equil', axis=1)\n",
    "y = val['log_demanda_uni_equil']"
   ]
  },
  {
   "cell_type": "code",
   "execution_count": 31,
   "metadata": {},
   "outputs": [],
   "source": [
    "from bimbo.xgboost_models import *"
   ]
  },
  {
   "cell_type": "code",
   "execution_count": 32,
   "metadata": {},
   "outputs": [
    {
     "name": "stdout",
     "output_type": "stream",
     "text": [
      "[16:33:04] WARNING: src/objective/regression_obj.cu:152: reg:linear is now deprecated in favor of reg:squarederror.\n",
      "[16:33:04] WARNING: src/learner.cc:686: Tree method is automatically selected to be 'approx' for faster speed. To use old behavior (exact greedy algorithm on single machine), set tree_method to 'exact'.\n",
      "[0]\tvalidation_0-mae:0.805051\tvalidation_0-rmse:1.02639\tvalidation_1-mae:0.804493\tvalidation_1-rmse:1.02569\n",
      "Multiple eval metrics have been passed: 'validation_1-rmse' will be used for early stopping.\n",
      "\n",
      "Will train until validation_1-rmse hasn't improved in 1 rounds.\n",
      "[1]\tvalidation_0-mae:0.613926\tvalidation_0-rmse:0.792932\tvalidation_1-mae:0.613452\tvalidation_1-rmse:0.79245\n",
      "[2]\tvalidation_0-mae:0.498906\tvalidation_0-rmse:0.647591\tvalidation_1-mae:0.49851\tvalidation_1-rmse:0.647247\n",
      "[3]\tvalidation_0-mae:0.431862\tvalidation_0-rmse:0.561709\tvalidation_1-mae:0.431603\tvalidation_1-rmse:0.561481\n",
      "[4]\tvalidation_0-mae:0.394195\tvalidation_0-rmse:0.513794\tvalidation_1-mae:0.39401\tvalidation_1-rmse:0.513646\n",
      "[5]\tvalidation_0-mae:0.372927\tvalidation_0-rmse:0.488002\tvalidation_1-mae:0.372772\tvalidation_1-rmse:0.487915\n",
      "[6]\tvalidation_0-mae:0.360615\tvalidation_0-rmse:0.474276\tvalidation_1-mae:0.360519\tvalidation_1-rmse:0.474235\n",
      "[7]\tvalidation_0-mae:0.35371\tvalidation_0-rmse:0.467055\tvalidation_1-mae:0.353625\tvalidation_1-rmse:0.46705\n",
      "[8]\tvalidation_0-mae:0.349769\tvalidation_0-rmse:0.463208\tvalidation_1-mae:0.349773\tvalidation_1-rmse:0.463231\n",
      "[9]\tvalidation_0-mae:0.347257\tvalidation_0-rmse:0.46101\tvalidation_1-mae:0.347268\tvalidation_1-rmse:0.461059\n",
      "[10]\tvalidation_0-mae:0.345511\tvalidation_0-rmse:0.459724\tvalidation_1-mae:0.345543\tvalidation_1-rmse:0.459792\n",
      "[11]\tvalidation_0-mae:0.34444\tvalidation_0-rmse:0.458863\tvalidation_1-mae:0.344496\tvalidation_1-rmse:0.45894\n",
      "[12]\tvalidation_0-mae:0.343725\tvalidation_0-rmse:0.458309\tvalidation_1-mae:0.343798\tvalidation_1-rmse:0.458414\n",
      "[13]\tvalidation_0-mae:0.343283\tvalidation_0-rmse:0.457899\tvalidation_1-mae:0.343353\tvalidation_1-rmse:0.458039\n",
      "[14]\tvalidation_0-mae:0.34281\tvalidation_0-rmse:0.457552\tvalidation_1-mae:0.342881\tvalidation_1-rmse:0.457695\n",
      "[15]\tvalidation_0-mae:0.342586\tvalidation_0-rmse:0.457332\tvalidation_1-mae:0.34267\tvalidation_1-rmse:0.457488\n",
      "[16]\tvalidation_0-mae:0.342287\tvalidation_0-rmse:0.457078\tvalidation_1-mae:0.342379\tvalidation_1-rmse:0.457252\n",
      "[17]\tvalidation_0-mae:0.342168\tvalidation_0-rmse:0.456947\tvalidation_1-mae:0.342258\tvalidation_1-rmse:0.457141\n",
      "[18]\tvalidation_0-mae:0.34194\tvalidation_0-rmse:0.456692\tvalidation_1-mae:0.34204\tvalidation_1-rmse:0.456891\n",
      "[19]\tvalidation_0-mae:0.341859\tvalidation_0-rmse:0.456592\tvalidation_1-mae:0.341964\tvalidation_1-rmse:0.456814\n",
      "[20]\tvalidation_0-mae:0.341742\tvalidation_0-rmse:0.456448\tvalidation_1-mae:0.341852\tvalidation_1-rmse:0.456695\n",
      "[21]\tvalidation_0-mae:0.341635\tvalidation_0-rmse:0.456356\tvalidation_1-mae:0.341765\tvalidation_1-rmse:0.456624\n",
      "[22]\tvalidation_0-mae:0.34139\tvalidation_0-rmse:0.456054\tvalidation_1-mae:0.341554\tvalidation_1-rmse:0.456346\n",
      "[23]\tvalidation_0-mae:0.341238\tvalidation_0-rmse:0.455879\tvalidation_1-mae:0.341395\tvalidation_1-rmse:0.456183\n",
      "[24]\tvalidation_0-mae:0.341099\tvalidation_0-rmse:0.455714\tvalidation_1-mae:0.341264\tvalidation_1-rmse:0.456035\n",
      "[25]\tvalidation_0-mae:0.340964\tvalidation_0-rmse:0.455572\tvalidation_1-mae:0.341143\tvalidation_1-rmse:0.455902\n",
      "[26]\tvalidation_0-mae:0.340859\tvalidation_0-rmse:0.455446\tvalidation_1-mae:0.34103\tvalidation_1-rmse:0.455787\n",
      "[27]\tvalidation_0-mae:0.340796\tvalidation_0-rmse:0.455358\tvalidation_1-mae:0.340965\tvalidation_1-rmse:0.455719\n",
      "[28]\tvalidation_0-mae:0.340619\tvalidation_0-rmse:0.455217\tvalidation_1-mae:0.340792\tvalidation_1-rmse:0.455596\n",
      "[29]\tvalidation_0-mae:0.340571\tvalidation_0-rmse:0.455166\tvalidation_1-mae:0.340764\tvalidation_1-rmse:0.455563\n",
      "[30]\tvalidation_0-mae:0.340431\tvalidation_0-rmse:0.455041\tvalidation_1-mae:0.340641\tvalidation_1-rmse:0.455451\n",
      "[31]\tvalidation_0-mae:0.340328\tvalidation_0-rmse:0.454926\tvalidation_1-mae:0.340552\tvalidation_1-rmse:0.455356\n",
      "[32]\tvalidation_0-mae:0.340268\tvalidation_0-rmse:0.454843\tvalidation_1-mae:0.340501\tvalidation_1-rmse:0.455279\n",
      "[33]\tvalidation_0-mae:0.340256\tvalidation_0-rmse:0.454784\tvalidation_1-mae:0.340489\tvalidation_1-rmse:0.455232\n",
      "[34]\tvalidation_0-mae:0.340221\tvalidation_0-rmse:0.454738\tvalidation_1-mae:0.340466\tvalidation_1-rmse:0.455201\n",
      "[35]\tvalidation_0-mae:0.340168\tvalidation_0-rmse:0.454656\tvalidation_1-mae:0.340422\tvalidation_1-rmse:0.455133\n",
      "[36]\tvalidation_0-mae:0.340104\tvalidation_0-rmse:0.454583\tvalidation_1-mae:0.340365\tvalidation_1-rmse:0.455075\n",
      "[37]\tvalidation_0-mae:0.340069\tvalidation_0-rmse:0.454526\tvalidation_1-mae:0.340335\tvalidation_1-rmse:0.455029\n",
      "[38]\tvalidation_0-mae:0.340019\tvalidation_0-rmse:0.454463\tvalidation_1-mae:0.340283\tvalidation_1-rmse:0.45498\n",
      "[39]\tvalidation_0-mae:0.339962\tvalidation_0-rmse:0.454384\tvalidation_1-mae:0.340242\tvalidation_1-rmse:0.454917\n",
      "[40]\tvalidation_0-mae:0.339906\tvalidation_0-rmse:0.454313\tvalidation_1-mae:0.340199\tvalidation_1-rmse:0.454866\n",
      "[41]\tvalidation_0-mae:0.339876\tvalidation_0-rmse:0.454252\tvalidation_1-mae:0.340175\tvalidation_1-rmse:0.454817\n",
      "[42]\tvalidation_0-mae:0.339805\tvalidation_0-rmse:0.45417\tvalidation_1-mae:0.340112\tvalidation_1-rmse:0.454754\n",
      "[43]\tvalidation_0-mae:0.339764\tvalidation_0-rmse:0.454115\tvalidation_1-mae:0.340079\tvalidation_1-rmse:0.454707\n",
      "[44]\tvalidation_0-mae:0.339712\tvalidation_0-rmse:0.454049\tvalidation_1-mae:0.340039\tvalidation_1-rmse:0.454654\n",
      "[45]\tvalidation_0-mae:0.339597\tvalidation_0-rmse:0.453923\tvalidation_1-mae:0.339931\tvalidation_1-rmse:0.454543\n",
      "[46]\tvalidation_0-mae:0.339546\tvalidation_0-rmse:0.453848\tvalidation_1-mae:0.339889\tvalidation_1-rmse:0.454474\n",
      "[47]\tvalidation_0-mae:0.339498\tvalidation_0-rmse:0.453802\tvalidation_1-mae:0.339858\tvalidation_1-rmse:0.454444\n",
      "[48]\tvalidation_0-mae:0.339361\tvalidation_0-rmse:0.45366\tvalidation_1-mae:0.339724\tvalidation_1-rmse:0.454319\n",
      "[49]\tvalidation_0-mae:0.33931\tvalidation_0-rmse:0.45362\tvalidation_1-mae:0.339685\tvalidation_1-rmse:0.454288\n",
      "[50]\tvalidation_0-mae:0.33927\tvalidation_0-rmse:0.453567\tvalidation_1-mae:0.339656\tvalidation_1-rmse:0.454253\n",
      "[51]\tvalidation_0-mae:0.339262\tvalidation_0-rmse:0.453544\tvalidation_1-mae:0.339653\tvalidation_1-rmse:0.454233\n",
      "[52]\tvalidation_0-mae:0.339219\tvalidation_0-rmse:0.453491\tvalidation_1-mae:0.339608\tvalidation_1-rmse:0.454193\n",
      "[53]\tvalidation_0-mae:0.339187\tvalidation_0-rmse:0.453444\tvalidation_1-mae:0.339592\tvalidation_1-rmse:0.454158\n",
      "[54]\tvalidation_0-mae:0.339155\tvalidation_0-rmse:0.453402\tvalidation_1-mae:0.339569\tvalidation_1-rmse:0.454123\n",
      "[55]\tvalidation_0-mae:0.339131\tvalidation_0-rmse:0.453358\tvalidation_1-mae:0.339553\tvalidation_1-rmse:0.454094\n",
      "[56]\tvalidation_0-mae:0.339084\tvalidation_0-rmse:0.453281\tvalidation_1-mae:0.33951\tvalidation_1-rmse:0.454036\n",
      "[57]\tvalidation_0-mae:0.339042\tvalidation_0-rmse:0.45323\tvalidation_1-mae:0.339478\tvalidation_1-rmse:0.453991\n",
      "[58]\tvalidation_0-mae:0.339014\tvalidation_0-rmse:0.453197\tvalidation_1-mae:0.339456\tvalidation_1-rmse:0.453966\n",
      "[59]\tvalidation_0-mae:0.339005\tvalidation_0-rmse:0.453171\tvalidation_1-mae:0.33945\tvalidation_1-rmse:0.453949\n",
      "[60]\tvalidation_0-mae:0.33895\tvalidation_0-rmse:0.453112\tvalidation_1-mae:0.339403\tvalidation_1-rmse:0.453898\n",
      "[61]\tvalidation_0-mae:0.338912\tvalidation_0-rmse:0.453068\tvalidation_1-mae:0.33938\tvalidation_1-rmse:0.453868\n",
      "[62]\tvalidation_0-mae:0.33887\tvalidation_0-rmse:0.452998\tvalidation_1-mae:0.339343\tvalidation_1-rmse:0.45381\n",
      "[63]\tvalidation_0-mae:0.338807\tvalidation_0-rmse:0.452932\tvalidation_1-mae:0.339283\tvalidation_1-rmse:0.453751\n",
      "[64]\tvalidation_0-mae:0.338782\tvalidation_0-rmse:0.45289\tvalidation_1-mae:0.339269\tvalidation_1-rmse:0.453729\n",
      "[65]\tvalidation_0-mae:0.338771\tvalidation_0-rmse:0.452856\tvalidation_1-mae:0.339263\tvalidation_1-rmse:0.453708\n",
      "[66]\tvalidation_0-mae:0.338723\tvalidation_0-rmse:0.452816\tvalidation_1-mae:0.339234\tvalidation_1-rmse:0.453677\n",
      "[67]\tvalidation_0-mae:0.33868\tvalidation_0-rmse:0.45275\tvalidation_1-mae:0.339187\tvalidation_1-rmse:0.453622\n",
      "[68]\tvalidation_0-mae:0.338612\tvalidation_0-rmse:0.452694\tvalidation_1-mae:0.339135\tvalidation_1-rmse:0.45358\n",
      "[69]\tvalidation_0-mae:0.338582\tvalidation_0-rmse:0.452662\tvalidation_1-mae:0.339113\tvalidation_1-rmse:0.453563\n"
     ]
    },
    {
     "name": "stdout",
     "output_type": "stream",
     "text": [
      "[70]\tvalidation_0-mae:0.33856\tvalidation_0-rmse:0.452623\tvalidation_1-mae:0.339099\tvalidation_1-rmse:0.453544\n",
      "[71]\tvalidation_0-mae:0.338521\tvalidation_0-rmse:0.452587\tvalidation_1-mae:0.339074\tvalidation_1-rmse:0.453518\n",
      "[72]\tvalidation_0-mae:0.338512\tvalidation_0-rmse:0.452562\tvalidation_1-mae:0.33907\tvalidation_1-rmse:0.453502\n",
      "[73]\tvalidation_0-mae:0.338487\tvalidation_0-rmse:0.452535\tvalidation_1-mae:0.339059\tvalidation_1-rmse:0.453479\n",
      "[74]\tvalidation_0-mae:0.338489\tvalidation_0-rmse:0.452518\tvalidation_1-mae:0.33906\tvalidation_1-rmse:0.453466\n",
      "[75]\tvalidation_0-mae:0.338451\tvalidation_0-rmse:0.452475\tvalidation_1-mae:0.339036\tvalidation_1-rmse:0.453438\n",
      "[76]\tvalidation_0-mae:0.338409\tvalidation_0-rmse:0.452432\tvalidation_1-mae:0.338989\tvalidation_1-rmse:0.453405\n",
      "[77]\tvalidation_0-mae:0.338388\tvalidation_0-rmse:0.452406\tvalidation_1-mae:0.338971\tvalidation_1-rmse:0.453387\n",
      "[78]\tvalidation_0-mae:0.338347\tvalidation_0-rmse:0.45234\tvalidation_1-mae:0.338945\tvalidation_1-rmse:0.453335\n",
      "[79]\tvalidation_0-mae:0.338344\tvalidation_0-rmse:0.452321\tvalidation_1-mae:0.338944\tvalidation_1-rmse:0.453325\n",
      "[80]\tvalidation_0-mae:0.3383\tvalidation_0-rmse:0.452251\tvalidation_1-mae:0.338914\tvalidation_1-rmse:0.453272\n",
      "[81]\tvalidation_0-mae:0.338292\tvalidation_0-rmse:0.452239\tvalidation_1-mae:0.338912\tvalidation_1-rmse:0.453266\n",
      "[82]\tvalidation_0-mae:0.338253\tvalidation_0-rmse:0.452183\tvalidation_1-mae:0.338883\tvalidation_1-rmse:0.453235\n",
      "[83]\tvalidation_0-mae:0.338239\tvalidation_0-rmse:0.452155\tvalidation_1-mae:0.338874\tvalidation_1-rmse:0.453213\n",
      "[84]\tvalidation_0-mae:0.338229\tvalidation_0-rmse:0.452141\tvalidation_1-mae:0.338862\tvalidation_1-rmse:0.453204\n",
      "[85]\tvalidation_0-mae:0.338207\tvalidation_0-rmse:0.452109\tvalidation_1-mae:0.338846\tvalidation_1-rmse:0.453183\n",
      "[86]\tvalidation_0-mae:0.338171\tvalidation_0-rmse:0.452076\tvalidation_1-mae:0.338821\tvalidation_1-rmse:0.453167\n",
      "[87]\tvalidation_0-mae:0.338147\tvalidation_0-rmse:0.452044\tvalidation_1-mae:0.338806\tvalidation_1-rmse:0.453146\n",
      "[88]\tvalidation_0-mae:0.338132\tvalidation_0-rmse:0.452029\tvalidation_1-mae:0.338795\tvalidation_1-rmse:0.453144\n",
      "[89]\tvalidation_0-mae:0.33809\tvalidation_0-rmse:0.451991\tvalidation_1-mae:0.33876\tvalidation_1-rmse:0.453122\n",
      "[90]\tvalidation_0-mae:0.338065\tvalidation_0-rmse:0.451953\tvalidation_1-mae:0.338741\tvalidation_1-rmse:0.453089\n",
      "[91]\tvalidation_0-mae:0.338051\tvalidation_0-rmse:0.451938\tvalidation_1-mae:0.338733\tvalidation_1-rmse:0.45308\n",
      "[92]\tvalidation_0-mae:0.338045\tvalidation_0-rmse:0.451927\tvalidation_1-mae:0.338729\tvalidation_1-rmse:0.453075\n",
      "[93]\tvalidation_0-mae:0.338025\tvalidation_0-rmse:0.451886\tvalidation_1-mae:0.338726\tvalidation_1-rmse:0.453048\n",
      "[94]\tvalidation_0-mae:0.338016\tvalidation_0-rmse:0.451871\tvalidation_1-mae:0.338722\tvalidation_1-rmse:0.453041\n",
      "[95]\tvalidation_0-mae:0.337987\tvalidation_0-rmse:0.451845\tvalidation_1-mae:0.338707\tvalidation_1-rmse:0.453025\n",
      "[96]\tvalidation_0-mae:0.337976\tvalidation_0-rmse:0.45182\tvalidation_1-mae:0.338703\tvalidation_1-rmse:0.453006\n",
      "[97]\tvalidation_0-mae:0.33794\tvalidation_0-rmse:0.451787\tvalidation_1-mae:0.338673\tvalidation_1-rmse:0.452988\n",
      "[98]\tvalidation_0-mae:0.3379\tvalidation_0-rmse:0.451748\tvalidation_1-mae:0.33864\tvalidation_1-rmse:0.452961\n",
      "[99]\tvalidation_0-mae:0.337837\tvalidation_0-rmse:0.451694\tvalidation_1-mae:0.338583\tvalidation_1-rmse:0.452916\n",
      "[100]\tvalidation_0-mae:0.337827\tvalidation_0-rmse:0.451676\tvalidation_1-mae:0.338575\tvalidation_1-rmse:0.452906\n",
      "[101]\tvalidation_0-mae:0.337816\tvalidation_0-rmse:0.451651\tvalidation_1-mae:0.338566\tvalidation_1-rmse:0.452894\n",
      "[102]\tvalidation_0-mae:0.3378\tvalidation_0-rmse:0.451603\tvalidation_1-mae:0.338554\tvalidation_1-rmse:0.452863\n",
      "[103]\tvalidation_0-mae:0.337773\tvalidation_0-rmse:0.451576\tvalidation_1-mae:0.338535\tvalidation_1-rmse:0.452843\n",
      "[104]\tvalidation_0-mae:0.337738\tvalidation_0-rmse:0.451528\tvalidation_1-mae:0.338508\tvalidation_1-rmse:0.452809\n",
      "[105]\tvalidation_0-mae:0.337727\tvalidation_0-rmse:0.451506\tvalidation_1-mae:0.338504\tvalidation_1-rmse:0.452798\n",
      "[106]\tvalidation_0-mae:0.337695\tvalidation_0-rmse:0.451471\tvalidation_1-mae:0.338475\tvalidation_1-rmse:0.452774\n",
      "[107]\tvalidation_0-mae:0.337673\tvalidation_0-rmse:0.451445\tvalidation_1-mae:0.338454\tvalidation_1-rmse:0.452757\n",
      "[108]\tvalidation_0-mae:0.337639\tvalidation_0-rmse:0.451419\tvalidation_1-mae:0.338433\tvalidation_1-rmse:0.45274\n",
      "[109]\tvalidation_0-mae:0.33763\tvalidation_0-rmse:0.451396\tvalidation_1-mae:0.338436\tvalidation_1-rmse:0.452726\n",
      "[110]\tvalidation_0-mae:0.33759\tvalidation_0-rmse:0.451354\tvalidation_1-mae:0.338401\tvalidation_1-rmse:0.452691\n",
      "[111]\tvalidation_0-mae:0.337565\tvalidation_0-rmse:0.451332\tvalidation_1-mae:0.338387\tvalidation_1-rmse:0.452675\n",
      "[112]\tvalidation_0-mae:0.337543\tvalidation_0-rmse:0.451307\tvalidation_1-mae:0.338375\tvalidation_1-rmse:0.452666\n",
      "[113]\tvalidation_0-mae:0.337533\tvalidation_0-rmse:0.45128\tvalidation_1-mae:0.338368\tvalidation_1-rmse:0.452651\n",
      "[114]\tvalidation_0-mae:0.337517\tvalidation_0-rmse:0.451258\tvalidation_1-mae:0.338349\tvalidation_1-rmse:0.452634\n",
      "[115]\tvalidation_0-mae:0.337497\tvalidation_0-rmse:0.451231\tvalidation_1-mae:0.338339\tvalidation_1-rmse:0.452622\n",
      "[116]\tvalidation_0-mae:0.337487\tvalidation_0-rmse:0.451213\tvalidation_1-mae:0.338338\tvalidation_1-rmse:0.452615\n",
      "[117]\tvalidation_0-mae:0.337474\tvalidation_0-rmse:0.45119\tvalidation_1-mae:0.338335\tvalidation_1-rmse:0.452607\n",
      "[118]\tvalidation_0-mae:0.337462\tvalidation_0-rmse:0.451168\tvalidation_1-mae:0.33833\tvalidation_1-rmse:0.452594\n",
      "[119]\tvalidation_0-mae:0.337427\tvalidation_0-rmse:0.451123\tvalidation_1-mae:0.3383\tvalidation_1-rmse:0.452567\n",
      "[120]\tvalidation_0-mae:0.337404\tvalidation_0-rmse:0.451087\tvalidation_1-mae:0.338295\tvalidation_1-rmse:0.452546\n",
      "[121]\tvalidation_0-mae:0.337382\tvalidation_0-rmse:0.451063\tvalidation_1-mae:0.338277\tvalidation_1-rmse:0.452534\n",
      "[122]\tvalidation_0-mae:0.337358\tvalidation_0-rmse:0.451042\tvalidation_1-mae:0.338262\tvalidation_1-rmse:0.452522\n",
      "[123]\tvalidation_0-mae:0.337352\tvalidation_0-rmse:0.45102\tvalidation_1-mae:0.33826\tvalidation_1-rmse:0.452512\n",
      "[124]\tvalidation_0-mae:0.33734\tvalidation_0-rmse:0.450995\tvalidation_1-mae:0.338246\tvalidation_1-rmse:0.452495\n",
      "[125]\tvalidation_0-mae:0.337319\tvalidation_0-rmse:0.450968\tvalidation_1-mae:0.338236\tvalidation_1-rmse:0.452478\n",
      "[126]\tvalidation_0-mae:0.337289\tvalidation_0-rmse:0.45094\tvalidation_1-mae:0.338221\tvalidation_1-rmse:0.452462\n",
      "[127]\tvalidation_0-mae:0.337242\tvalidation_0-rmse:0.450861\tvalidation_1-mae:0.338184\tvalidation_1-rmse:0.452402\n",
      "[128]\tvalidation_0-mae:0.337239\tvalidation_0-rmse:0.450837\tvalidation_1-mae:0.338196\tvalidation_1-rmse:0.452386\n",
      "[129]\tvalidation_0-mae:0.337226\tvalidation_0-rmse:0.450821\tvalidation_1-mae:0.338192\tvalidation_1-rmse:0.452382\n",
      "[130]\tvalidation_0-mae:0.337195\tvalidation_0-rmse:0.450782\tvalidation_1-mae:0.338164\tvalidation_1-rmse:0.452355\n",
      "[131]\tvalidation_0-mae:0.337181\tvalidation_0-rmse:0.450766\tvalidation_1-mae:0.338145\tvalidation_1-rmse:0.452347\n",
      "[132]\tvalidation_0-mae:0.337167\tvalidation_0-rmse:0.450737\tvalidation_1-mae:0.338142\tvalidation_1-rmse:0.452333\n",
      "[133]\tvalidation_0-mae:0.337149\tvalidation_0-rmse:0.450716\tvalidation_1-mae:0.338131\tvalidation_1-rmse:0.452322\n",
      "[134]\tvalidation_0-mae:0.337119\tvalidation_0-rmse:0.450686\tvalidation_1-mae:0.338115\tvalidation_1-rmse:0.452309\n",
      "[135]\tvalidation_0-mae:0.337093\tvalidation_0-rmse:0.450644\tvalidation_1-mae:0.338102\tvalidation_1-rmse:0.45228\n",
      "[136]\tvalidation_0-mae:0.33709\tvalidation_0-rmse:0.450627\tvalidation_1-mae:0.338097\tvalidation_1-rmse:0.452273\n",
      "[137]\tvalidation_0-mae:0.337062\tvalidation_0-rmse:0.450601\tvalidation_1-mae:0.33808\tvalidation_1-rmse:0.452259\n",
      "[138]\tvalidation_0-mae:0.337034\tvalidation_0-rmse:0.450572\tvalidation_1-mae:0.338065\tvalidation_1-rmse:0.45224\n",
      "[139]\tvalidation_0-mae:0.337002\tvalidation_0-rmse:0.450528\tvalidation_1-mae:0.338044\tvalidation_1-rmse:0.452209\n",
      "[140]\tvalidation_0-mae:0.336994\tvalidation_0-rmse:0.450522\tvalidation_1-mae:0.338039\tvalidation_1-rmse:0.452208\n",
      "[141]\tvalidation_0-mae:0.336985\tvalidation_0-rmse:0.450508\tvalidation_1-mae:0.338027\tvalidation_1-rmse:0.452197\n",
      "[142]\tvalidation_0-mae:0.336966\tvalidation_0-rmse:0.450479\tvalidation_1-mae:0.33802\tvalidation_1-rmse:0.452179\n",
      "[143]\tvalidation_0-mae:0.336935\tvalidation_0-rmse:0.450448\tvalidation_1-mae:0.338002\tvalidation_1-rmse:0.452156\n"
     ]
    },
    {
     "name": "stdout",
     "output_type": "stream",
     "text": [
      "[144]\tvalidation_0-mae:0.336915\tvalidation_0-rmse:0.450423\tvalidation_1-mae:0.337997\tvalidation_1-rmse:0.452146\n",
      "[145]\tvalidation_0-mae:0.336908\tvalidation_0-rmse:0.450409\tvalidation_1-mae:0.337992\tvalidation_1-rmse:0.452143\n",
      "[146]\tvalidation_0-mae:0.336892\tvalidation_0-rmse:0.450383\tvalidation_1-mae:0.337987\tvalidation_1-rmse:0.452132\n",
      "[147]\tvalidation_0-mae:0.336876\tvalidation_0-rmse:0.450362\tvalidation_1-mae:0.337979\tvalidation_1-rmse:0.452122\n",
      "[148]\tvalidation_0-mae:0.336867\tvalidation_0-rmse:0.450348\tvalidation_1-mae:0.337966\tvalidation_1-rmse:0.452115\n",
      "[149]\tvalidation_0-mae:0.336845\tvalidation_0-rmse:0.450321\tvalidation_1-mae:0.337958\tvalidation_1-rmse:0.452099\n",
      "[150]\tvalidation_0-mae:0.336843\tvalidation_0-rmse:0.4503\tvalidation_1-mae:0.337963\tvalidation_1-rmse:0.452086\n",
      "[151]\tvalidation_0-mae:0.336835\tvalidation_0-rmse:0.450279\tvalidation_1-mae:0.337957\tvalidation_1-rmse:0.452077\n",
      "[152]\tvalidation_0-mae:0.336816\tvalidation_0-rmse:0.450255\tvalidation_1-mae:0.337942\tvalidation_1-rmse:0.452064\n",
      "[153]\tvalidation_0-mae:0.336812\tvalidation_0-rmse:0.450245\tvalidation_1-mae:0.337942\tvalidation_1-rmse:0.452059\n",
      "[154]\tvalidation_0-mae:0.336793\tvalidation_0-rmse:0.45023\tvalidation_1-mae:0.337928\tvalidation_1-rmse:0.452047\n",
      "[155]\tvalidation_0-mae:0.336777\tvalidation_0-rmse:0.450213\tvalidation_1-mae:0.337925\tvalidation_1-rmse:0.452044\n",
      "[156]\tvalidation_0-mae:0.336769\tvalidation_0-rmse:0.450201\tvalidation_1-mae:0.337916\tvalidation_1-rmse:0.45204\n",
      "[157]\tvalidation_0-mae:0.336752\tvalidation_0-rmse:0.450184\tvalidation_1-mae:0.337901\tvalidation_1-rmse:0.452033\n",
      "[158]\tvalidation_0-mae:0.336738\tvalidation_0-rmse:0.450171\tvalidation_1-mae:0.337891\tvalidation_1-rmse:0.452028\n",
      "[159]\tvalidation_0-mae:0.336729\tvalidation_0-rmse:0.450159\tvalidation_1-mae:0.337891\tvalidation_1-rmse:0.452024\n",
      "[160]\tvalidation_0-mae:0.336716\tvalidation_0-rmse:0.45014\tvalidation_1-mae:0.337879\tvalidation_1-rmse:0.452015\n",
      "[161]\tvalidation_0-mae:0.336693\tvalidation_0-rmse:0.450121\tvalidation_1-mae:0.337861\tvalidation_1-rmse:0.452003\n",
      "[162]\tvalidation_0-mae:0.336688\tvalidation_0-rmse:0.450102\tvalidation_1-mae:0.337865\tvalidation_1-rmse:0.451999\n",
      "[163]\tvalidation_0-mae:0.336675\tvalidation_0-rmse:0.450081\tvalidation_1-mae:0.337855\tvalidation_1-rmse:0.451991\n",
      "[164]\tvalidation_0-mae:0.336661\tvalidation_0-rmse:0.450066\tvalidation_1-mae:0.33785\tvalidation_1-rmse:0.451984\n",
      "[165]\tvalidation_0-mae:0.336633\tvalidation_0-rmse:0.450025\tvalidation_1-mae:0.337823\tvalidation_1-rmse:0.451958\n",
      "[166]\tvalidation_0-mae:0.336616\tvalidation_0-rmse:0.450013\tvalidation_1-mae:0.33781\tvalidation_1-rmse:0.451951\n",
      "[167]\tvalidation_0-mae:0.336599\tvalidation_0-rmse:0.449997\tvalidation_1-mae:0.3378\tvalidation_1-rmse:0.451949\n",
      "[168]\tvalidation_0-mae:0.336583\tvalidation_0-rmse:0.449976\tvalidation_1-mae:0.337793\tvalidation_1-rmse:0.45194\n",
      "[169]\tvalidation_0-mae:0.336551\tvalidation_0-rmse:0.44995\tvalidation_1-mae:0.337769\tvalidation_1-rmse:0.451917\n",
      "[170]\tvalidation_0-mae:0.336527\tvalidation_0-rmse:0.449923\tvalidation_1-mae:0.337752\tvalidation_1-rmse:0.451903\n",
      "[171]\tvalidation_0-mae:0.336518\tvalidation_0-rmse:0.4499\tvalidation_1-mae:0.337745\tvalidation_1-rmse:0.451892\n",
      "[172]\tvalidation_0-mae:0.336503\tvalidation_0-rmse:0.449878\tvalidation_1-mae:0.337738\tvalidation_1-rmse:0.451883\n",
      "[173]\tvalidation_0-mae:0.336496\tvalidation_0-rmse:0.449869\tvalidation_1-mae:0.337736\tvalidation_1-rmse:0.451881\n",
      "[174]\tvalidation_0-mae:0.33648\tvalidation_0-rmse:0.449846\tvalidation_1-mae:0.337723\tvalidation_1-rmse:0.45187\n",
      "[175]\tvalidation_0-mae:0.336473\tvalidation_0-rmse:0.449833\tvalidation_1-mae:0.337721\tvalidation_1-rmse:0.451865\n",
      "[176]\tvalidation_0-mae:0.336467\tvalidation_0-rmse:0.449823\tvalidation_1-mae:0.337714\tvalidation_1-rmse:0.451859\n",
      "[177]\tvalidation_0-mae:0.336449\tvalidation_0-rmse:0.449799\tvalidation_1-mae:0.337708\tvalidation_1-rmse:0.451846\n",
      "[178]\tvalidation_0-mae:0.336436\tvalidation_0-rmse:0.449784\tvalidation_1-mae:0.337704\tvalidation_1-rmse:0.451842\n",
      "[179]\tvalidation_0-mae:0.336416\tvalidation_0-rmse:0.449756\tvalidation_1-mae:0.337698\tvalidation_1-rmse:0.451826\n",
      "[180]\tvalidation_0-mae:0.336398\tvalidation_0-rmse:0.449743\tvalidation_1-mae:0.33769\tvalidation_1-rmse:0.451822\n",
      "[181]\tvalidation_0-mae:0.33639\tvalidation_0-rmse:0.449731\tvalidation_1-mae:0.337684\tvalidation_1-rmse:0.451812\n",
      "[182]\tvalidation_0-mae:0.336369\tvalidation_0-rmse:0.449707\tvalidation_1-mae:0.337673\tvalidation_1-rmse:0.451801\n",
      "[183]\tvalidation_0-mae:0.336358\tvalidation_0-rmse:0.449688\tvalidation_1-mae:0.337672\tvalidation_1-rmse:0.451797\n",
      "[184]\tvalidation_0-mae:0.336346\tvalidation_0-rmse:0.449675\tvalidation_1-mae:0.337668\tvalidation_1-rmse:0.451795\n",
      "[185]\tvalidation_0-mae:0.336334\tvalidation_0-rmse:0.449659\tvalidation_1-mae:0.337663\tvalidation_1-rmse:0.451786\n",
      "[186]\tvalidation_0-mae:0.336311\tvalidation_0-rmse:0.449637\tvalidation_1-mae:0.337639\tvalidation_1-rmse:0.451771\n",
      "[187]\tvalidation_0-mae:0.336306\tvalidation_0-rmse:0.449618\tvalidation_1-mae:0.337639\tvalidation_1-rmse:0.451767\n",
      "[188]\tvalidation_0-mae:0.33629\tvalidation_0-rmse:0.449601\tvalidation_1-mae:0.337634\tvalidation_1-rmse:0.451761\n",
      "[189]\tvalidation_0-mae:0.336284\tvalidation_0-rmse:0.449591\tvalidation_1-mae:0.337626\tvalidation_1-rmse:0.451761\n",
      "Stopping. Best iteration:\n",
      "[188]\tvalidation_0-mae:0.33629\tvalidation_0-rmse:0.449601\tvalidation_1-mae:0.337634\tvalidation_1-rmse:0.451761\n",
      "\n"
     ]
    }
   ],
   "source": [
    "model = build_model(X, y)"
   ]
  },
  {
   "cell_type": "code",
   "execution_count": 33,
   "metadata": {},
   "outputs": [
    {
     "name": "stdout",
     "output_type": "stream",
     "text": [
      "Saved model to: model_fulldataset_1.pickle.dat\n",
      "Saved model to: model_fulldataset_1.joblib.dat\n"
     ]
    }
   ],
   "source": [
    "save_model(model, \"model_fulldataset_1\")"
   ]
  },
  {
   "cell_type": "markdown",
   "metadata": {},
   "source": [
    "### Data analysis"
   ]
  },
  {
   "cell_type": "code",
   "execution_count": null,
   "metadata": {},
   "outputs": [],
   "source": [
    "# library & dataset\n",
    "import seaborn as sns\n",
    "\n",
    "# Use the 'hue' argument to provide a factor variable\n",
    "sns.lmplot( x=\"sepal_length\", y=\"sepal_width\", data=new_train_df, fit_reg=False, hue='species', legend=False)\n",
    " \n",
    "# Move the legend to an empty part of the plot\n",
    "plt.legend(loc='lower right')\n",
    " \n",
    "sns.plt.show()"
   ]
  }
 ],
 "metadata": {
  "kernelspec": {
   "display_name": "Python 3",
   "language": "python",
   "name": "python3"
  },
  "language_info": {
   "codemirror_mode": {
    "name": "ipython",
    "version": 3
   },
   "file_extension": ".py",
   "mimetype": "text/x-python",
   "name": "python",
   "nbconvert_exporter": "python",
   "pygments_lexer": "ipython3",
   "version": "3.7.6"
  },
  "toc": {
   "base_numbering": 1,
   "nav_menu": {},
   "number_sections": false,
   "sideBar": true,
   "skip_h1_title": false,
   "title_cell": "Table of Contents",
   "title_sidebar": "Contents",
   "toc_cell": false,
   "toc_position": {},
   "toc_section_display": true,
   "toc_window_display": false
  }
 },
 "nbformat": 4,
 "nbformat_minor": 4
}
