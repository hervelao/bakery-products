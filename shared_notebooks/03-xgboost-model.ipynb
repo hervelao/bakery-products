{
 "cells": [
  {
   "cell_type": "code",
   "execution_count": 1,
   "metadata": {},
   "outputs": [],
   "source": [
    "# Autoreload\n",
    "%load_ext autoreload\n",
    "%autoreload 2\n",
    "\n",
    "# Warnings\n",
    "import warnings\n",
    "warnings.filterwarnings('ignore')"
   ]
  },
  {
   "cell_type": "markdown",
   "metadata": {},
   "source": [
    "## XGBoost"
   ]
  },
  {
   "cell_type": "markdown",
   "metadata": {},
   "source": [
    "### Import libraries and data"
   ]
  },
  {
   "cell_type": "code",
   "execution_count": 2,
   "metadata": {},
   "outputs": [],
   "source": [
    "import pandas as pd\n",
    "import numpy as np"
   ]
  },
  {
   "cell_type": "code",
   "execution_count": 3,
   "metadata": {},
   "outputs": [],
   "source": [
    "processed_test_df = pd.read_csv('../data/processed_test.csv')\n",
    "processed_val_df = pd.read_csv('../data/processed_val.csv')"
   ]
  },
  {
   "cell_type": "code",
   "execution_count": 4,
   "metadata": {},
   "outputs": [
    {
     "data": {
      "text/html": [
       "<div>\n",
       "<style scoped>\n",
       "    .dataframe tbody tr th:only-of-type {\n",
       "        vertical-align: middle;\n",
       "    }\n",
       "\n",
       "    .dataframe tbody tr th {\n",
       "        vertical-align: top;\n",
       "    }\n",
       "\n",
       "    .dataframe thead th {\n",
       "        text-align: right;\n",
       "    }\n",
       "</style>\n",
       "<table border=\"1\" class=\"dataframe\">\n",
       "  <thead>\n",
       "    <tr style=\"text-align: right;\">\n",
       "      <th></th>\n",
       "      <th>mean_due_age</th>\n",
       "      <th>mean_due_can</th>\n",
       "      <th>mean_due_rut</th>\n",
       "      <th>mean_due_cli</th>\n",
       "      <th>mean_due_pa</th>\n",
       "      <th>mean_due_pr</th>\n",
       "      <th>mean_due_pcli</th>\n",
       "      <th>mean_due_pcan</th>\n",
       "      <th>mean_due_pca</th>\n",
       "      <th>mean_vh_age</th>\n",
       "      <th>sd_due_acrcp</th>\n",
       "      <th>mean_due_acrcp</th>\n",
       "    </tr>\n",
       "  </thead>\n",
       "  <tbody>\n",
       "    <tr>\n",
       "      <th>0</th>\n",
       "      <td>1.433683</td>\n",
       "      <td>1.529564</td>\n",
       "      <td>1.321099</td>\n",
       "      <td>1.179669</td>\n",
       "      <td>1.901905</td>\n",
       "      <td>1.630124</td>\n",
       "      <td>1.609438</td>\n",
       "      <td>2.068613</td>\n",
       "      <td>1.609438</td>\n",
       "      <td>3.295887</td>\n",
       "      <td>NaN</td>\n",
       "      <td>1.609438</td>\n",
       "    </tr>\n",
       "    <tr>\n",
       "      <th>1</th>\n",
       "      <td>1.440236</td>\n",
       "      <td>1.529564</td>\n",
       "      <td>1.392361</td>\n",
       "      <td>1.252450</td>\n",
       "      <td>1.017037</td>\n",
       "      <td>1.006477</td>\n",
       "      <td>NaN</td>\n",
       "      <td>1.192182</td>\n",
       "      <td>NaN</td>\n",
       "      <td>3.351941</td>\n",
       "      <td>NaN</td>\n",
       "      <td>NaN</td>\n",
       "    </tr>\n",
       "    <tr>\n",
       "      <th>2</th>\n",
       "      <td>1.552585</td>\n",
       "      <td>1.529564</td>\n",
       "      <td>1.511835</td>\n",
       "      <td>1.763140</td>\n",
       "      <td>1.527452</td>\n",
       "      <td>1.355031</td>\n",
       "      <td>1.098612</td>\n",
       "      <td>1.422284</td>\n",
       "      <td>1.098612</td>\n",
       "      <td>3.370756</td>\n",
       "      <td>0.0</td>\n",
       "      <td>1.098612</td>\n",
       "    </tr>\n",
       "    <tr>\n",
       "      <th>3</th>\n",
       "      <td>1.387930</td>\n",
       "      <td>1.529564</td>\n",
       "      <td>1.567975</td>\n",
       "      <td>1.341171</td>\n",
       "      <td>0.742755</td>\n",
       "      <td>1.059591</td>\n",
       "      <td>NaN</td>\n",
       "      <td>1.031969</td>\n",
       "      <td>NaN</td>\n",
       "      <td>3.211019</td>\n",
       "      <td>NaN</td>\n",
       "      <td>NaN</td>\n",
       "    </tr>\n",
       "    <tr>\n",
       "      <th>4</th>\n",
       "      <td>1.496363</td>\n",
       "      <td>1.529564</td>\n",
       "      <td>1.617854</td>\n",
       "      <td>1.341662</td>\n",
       "      <td>NaN</td>\n",
       "      <td>NaN</td>\n",
       "      <td>NaN</td>\n",
       "      <td>1.310750</td>\n",
       "      <td>NaN</td>\n",
       "      <td>3.410910</td>\n",
       "      <td>NaN</td>\n",
       "      <td>NaN</td>\n",
       "    </tr>\n",
       "  </tbody>\n",
       "</table>\n",
       "</div>"
      ],
      "text/plain": [
       "   mean_due_age  mean_due_can  mean_due_rut  mean_due_cli  mean_due_pa  \\\n",
       "0      1.433683      1.529564      1.321099      1.179669     1.901905   \n",
       "1      1.440236      1.529564      1.392361      1.252450     1.017037   \n",
       "2      1.552585      1.529564      1.511835      1.763140     1.527452   \n",
       "3      1.387930      1.529564      1.567975      1.341171     0.742755   \n",
       "4      1.496363      1.529564      1.617854      1.341662          NaN   \n",
       "\n",
       "   mean_due_pr  mean_due_pcli  mean_due_pcan  mean_due_pca  mean_vh_age  \\\n",
       "0     1.630124       1.609438       2.068613      1.609438     3.295887   \n",
       "1     1.006477            NaN       1.192182           NaN     3.351941   \n",
       "2     1.355031       1.098612       1.422284      1.098612     3.370756   \n",
       "3     1.059591            NaN       1.031969           NaN     3.211019   \n",
       "4          NaN            NaN       1.310750           NaN     3.410910   \n",
       "\n",
       "   sd_due_acrcp  mean_due_acrcp  \n",
       "0           NaN        1.609438  \n",
       "1           NaN             NaN  \n",
       "2           0.0        1.098612  \n",
       "3           NaN             NaN  \n",
       "4           NaN             NaN  "
      ]
     },
     "execution_count": 4,
     "metadata": {},
     "output_type": "execute_result"
    }
   ],
   "source": [
    "processed_test_df.head()"
   ]
  },
  {
   "cell_type": "code",
   "execution_count": 5,
   "metadata": {},
   "outputs": [
    {
     "data": {
      "text/html": [
       "<div>\n",
       "<style scoped>\n",
       "    .dataframe tbody tr th:only-of-type {\n",
       "        vertical-align: middle;\n",
       "    }\n",
       "\n",
       "    .dataframe tbody tr th {\n",
       "        vertical-align: top;\n",
       "    }\n",
       "\n",
       "    .dataframe thead th {\n",
       "        text-align: right;\n",
       "    }\n",
       "</style>\n",
       "<table border=\"1\" class=\"dataframe\">\n",
       "  <thead>\n",
       "    <tr style=\"text-align: right;\">\n",
       "      <th></th>\n",
       "      <th>Demanda_uni_equil</th>\n",
       "      <th>log_demanda_uni_equil</th>\n",
       "      <th>mean_due_age</th>\n",
       "      <th>mean_due_can</th>\n",
       "      <th>mean_due_rut</th>\n",
       "      <th>mean_due_cli</th>\n",
       "      <th>mean_due_pa</th>\n",
       "      <th>mean_due_pr</th>\n",
       "      <th>mean_due_pcli</th>\n",
       "      <th>mean_due_pcan</th>\n",
       "      <th>mean_due_pca</th>\n",
       "      <th>mean_vh_age</th>\n",
       "      <th>sd_due_acrcp</th>\n",
       "      <th>mean_due_acrcp</th>\n",
       "    </tr>\n",
       "  </thead>\n",
       "  <tbody>\n",
       "    <tr>\n",
       "      <th>0</th>\n",
       "      <td>1</td>\n",
       "      <td>0.693147</td>\n",
       "      <td>2.010012</td>\n",
       "      <td>1.996967</td>\n",
       "      <td>2.08378</td>\n",
       "      <td>1.719464</td>\n",
       "      <td>1.587694</td>\n",
       "      <td>1.556331</td>\n",
       "      <td>1.599232</td>\n",
       "      <td>1.512998</td>\n",
       "      <td>1.599232</td>\n",
       "      <td>4.113977</td>\n",
       "      <td>0.165949</td>\n",
       "      <td>1.599232</td>\n",
       "    </tr>\n",
       "    <tr>\n",
       "      <th>1</th>\n",
       "      <td>2</td>\n",
       "      <td>1.098612</td>\n",
       "      <td>2.010012</td>\n",
       "      <td>1.996967</td>\n",
       "      <td>2.08378</td>\n",
       "      <td>1.719464</td>\n",
       "      <td>1.680625</td>\n",
       "      <td>1.553152</td>\n",
       "      <td>1.212066</td>\n",
       "      <td>1.601887</td>\n",
       "      <td>1.212066</td>\n",
       "      <td>4.113977</td>\n",
       "      <td>0.320511</td>\n",
       "      <td>1.212066</td>\n",
       "    </tr>\n",
       "    <tr>\n",
       "      <th>2</th>\n",
       "      <td>2</td>\n",
       "      <td>1.098612</td>\n",
       "      <td>2.010012</td>\n",
       "      <td>1.996967</td>\n",
       "      <td>2.08378</td>\n",
       "      <td>1.719464</td>\n",
       "      <td>1.931563</td>\n",
       "      <td>1.803948</td>\n",
       "      <td>1.746179</td>\n",
       "      <td>1.819226</td>\n",
       "      <td>1.746179</td>\n",
       "      <td>4.113977</td>\n",
       "      <td>0.500848</td>\n",
       "      <td>1.746179</td>\n",
       "    </tr>\n",
       "    <tr>\n",
       "      <th>3</th>\n",
       "      <td>1</td>\n",
       "      <td>0.693147</td>\n",
       "      <td>2.010012</td>\n",
       "      <td>1.996967</td>\n",
       "      <td>2.08378</td>\n",
       "      <td>1.719464</td>\n",
       "      <td>1.655291</td>\n",
       "      <td>1.937759</td>\n",
       "      <td>1.174876</td>\n",
       "      <td>1.782192</td>\n",
       "      <td>1.174876</td>\n",
       "      <td>4.113977</td>\n",
       "      <td>0.274877</td>\n",
       "      <td>1.174876</td>\n",
       "    </tr>\n",
       "    <tr>\n",
       "      <th>4</th>\n",
       "      <td>10</td>\n",
       "      <td>2.397895</td>\n",
       "      <td>2.010012</td>\n",
       "      <td>1.996967</td>\n",
       "      <td>2.08378</td>\n",
       "      <td>1.719464</td>\n",
       "      <td>2.266708</td>\n",
       "      <td>1.903195</td>\n",
       "      <td>1.828950</td>\n",
       "      <td>1.979976</td>\n",
       "      <td>1.828950</td>\n",
       "      <td>4.113977</td>\n",
       "      <td>0.711540</td>\n",
       "      <td>1.828950</td>\n",
       "    </tr>\n",
       "  </tbody>\n",
       "</table>\n",
       "</div>"
      ],
      "text/plain": [
       "   Demanda_uni_equil  log_demanda_uni_equil  mean_due_age  mean_due_can  \\\n",
       "0                  1               0.693147      2.010012      1.996967   \n",
       "1                  2               1.098612      2.010012      1.996967   \n",
       "2                  2               1.098612      2.010012      1.996967   \n",
       "3                  1               0.693147      2.010012      1.996967   \n",
       "4                 10               2.397895      2.010012      1.996967   \n",
       "\n",
       "   mean_due_rut  mean_due_cli  mean_due_pa  mean_due_pr  mean_due_pcli  \\\n",
       "0       2.08378      1.719464     1.587694     1.556331       1.599232   \n",
       "1       2.08378      1.719464     1.680625     1.553152       1.212066   \n",
       "2       2.08378      1.719464     1.931563     1.803948       1.746179   \n",
       "3       2.08378      1.719464     1.655291     1.937759       1.174876   \n",
       "4       2.08378      1.719464     2.266708     1.903195       1.828950   \n",
       "\n",
       "   mean_due_pcan  mean_due_pca  mean_vh_age  sd_due_acrcp  mean_due_acrcp  \n",
       "0       1.512998      1.599232     4.113977      0.165949        1.599232  \n",
       "1       1.601887      1.212066     4.113977      0.320511        1.212066  \n",
       "2       1.819226      1.746179     4.113977      0.500848        1.746179  \n",
       "3       1.782192      1.174876     4.113977      0.274877        1.174876  \n",
       "4       1.979976      1.828950     4.113977      0.711540        1.828950  "
      ]
     },
     "execution_count": 5,
     "metadata": {},
     "output_type": "execute_result"
    }
   ],
   "source": [
    "processed_val_df.head()"
   ]
  },
  {
   "cell_type": "markdown",
   "metadata": {},
   "source": [
    "### Prepare data"
   ]
  },
  {
   "cell_type": "code",
   "execution_count": 6,
   "metadata": {},
   "outputs": [],
   "source": [
    "import copy"
   ]
  },
  {
   "cell_type": "code",
   "execution_count": 7,
   "metadata": {},
   "outputs": [],
   "source": [
    "val_y = copy.deepcopy(processed_val_df['log_demanda_uni_equil'])\n",
    "val_X = copy.deepcopy(processed_val_df.drop('log_demanda_uni_equil', axis=1))"
   ]
  },
  {
   "cell_type": "code",
   "execution_count": 8,
   "metadata": {},
   "outputs": [],
   "source": [
    "from sklearn.model_selection import train_test_split\n",
    "\n",
    "X_train, X_val, y_train, y_val = train_test_split(val_X, val_y, test_size=0.5, random_state=42)"
   ]
  },
  {
   "cell_type": "code",
   "execution_count": 9,
   "metadata": {},
   "outputs": [
    {
     "data": {
      "text/plain": [
       "33031      1.098612\n",
       "7741310    1.945910\n",
       "4373345    1.098612\n",
       "4058089    0.693147\n",
       "6712458    1.791759\n",
       "Name: log_demanda_uni_equil, dtype: float64"
      ]
     },
     "execution_count": 9,
     "metadata": {},
     "output_type": "execute_result"
    }
   ],
   "source": [
    "y_val.head()"
   ]
  },
  {
   "cell_type": "code",
   "execution_count": 10,
   "metadata": {},
   "outputs": [],
   "source": [
    "# Because what we REALLY want is the \n",
    "real_y_train = copy.deepcopy(X_train['Demanda_uni_equil'])\n",
    "real_y_val = copy.deepcopy(X_val['Demanda_uni_equil'])"
   ]
  },
  {
   "cell_type": "code",
   "execution_count": 11,
   "metadata": {},
   "outputs": [],
   "source": [
    "# We don't need Demanda_uni_equil in the features, so we can drop them now\n",
    "X_train.drop(['Demanda_uni_equil'], axis=1, inplace=True)\n",
    "X_val.drop(['Demanda_uni_equil'], axis=1, inplace=True)"
   ]
  },
  {
   "cell_type": "markdown",
   "metadata": {},
   "source": [
    "### Building the model"
   ]
  },
  {
   "cell_type": "code",
   "execution_count": 12,
   "metadata": {},
   "outputs": [],
   "source": [
    "import xgboost as xgb"
   ]
  },
  {
   "cell_type": "markdown",
   "metadata": {},
   "source": [
    "If you have the following error: **\"XGBoostError: [15:16:32] src/learner.cc:180: XGBoost version not compiled with GPU support.\"**\n",
    "\n",
    "Please try the following:\n",
    "\n",
    "`$ pip install pipdeptree\n",
    "$ pipdeptree --reverse --packages xgboost`"
   ]
  },
  {
   "cell_type": "code",
   "execution_count": 15,
   "metadata": {},
   "outputs": [
    {
     "name": "stdout",
     "output_type": "stream",
     "text": [
      "[09:24:32] WARNING: src/objective/regression_obj.cu:152: reg:linear is now deprecated in favor of reg:squarederror.\n",
      "[09:24:32] WARNING: src/learner.cc:686: Tree method is automatically selected to be 'approx' for faster speed. To use old behavior (exact greedy algorithm on single machine), set tree_method to 'exact'.\n",
      "[0]\tvalidation_0-rmse:1.02133\tvalidation_1-rmse:1.0217\n",
      "Multiple eval metrics have been passed: 'validation_1-rmse' will be used for early stopping.\n",
      "\n",
      "Will train until validation_1-rmse hasn't improved in 1 rounds.\n",
      "[1]\tvalidation_0-rmse:0.790236\tvalidation_1-rmse:0.790651\n",
      "[2]\tvalidation_0-rmse:0.645836\tvalidation_1-rmse:0.646216\n",
      "[3]\tvalidation_0-rmse:0.561392\tvalidation_1-rmse:0.561776\n",
      "[4]\tvalidation_0-rmse:0.513013\tvalidation_1-rmse:0.513397\n",
      "[5]\tvalidation_0-rmse:0.488116\tvalidation_1-rmse:0.488483\n",
      "[6]\tvalidation_0-rmse:0.474054\tvalidation_1-rmse:0.474456\n",
      "[7]\tvalidation_0-rmse:0.466546\tvalidation_1-rmse:0.466984\n",
      "[8]\tvalidation_0-rmse:0.46256\tvalidation_1-rmse:0.463025\n",
      "[9]\tvalidation_0-rmse:0.460333\tvalidation_1-rmse:0.460823\n",
      "[10]\tvalidation_0-rmse:0.459101\tvalidation_1-rmse:0.459597\n",
      "[11]\tvalidation_0-rmse:0.458173\tvalidation_1-rmse:0.458684\n",
      "[12]\tvalidation_0-rmse:0.457636\tvalidation_1-rmse:0.458176\n",
      "[13]\tvalidation_0-rmse:0.457249\tvalidation_1-rmse:0.457801\n",
      "[14]\tvalidation_0-rmse:0.456871\tvalidation_1-rmse:0.457452\n",
      "[15]\tvalidation_0-rmse:0.456544\tvalidation_1-rmse:0.457155\n",
      "[16]\tvalidation_0-rmse:0.456254\tvalidation_1-rmse:0.45688\n",
      "[17]\tvalidation_0-rmse:0.456095\tvalidation_1-rmse:0.456739\n",
      "[18]\tvalidation_0-rmse:0.455908\tvalidation_1-rmse:0.456578\n",
      "[19]\tvalidation_0-rmse:0.455755\tvalidation_1-rmse:0.456442\n",
      "[20]\tvalidation_0-rmse:0.455617\tvalidation_1-rmse:0.456314\n",
      "[21]\tvalidation_0-rmse:0.455428\tvalidation_1-rmse:0.456145\n",
      "[22]\tvalidation_0-rmse:0.455315\tvalidation_1-rmse:0.456044\n",
      "[23]\tvalidation_0-rmse:0.455159\tvalidation_1-rmse:0.455896\n",
      "[24]\tvalidation_0-rmse:0.454994\tvalidation_1-rmse:0.455744\n",
      "[25]\tvalidation_0-rmse:0.454874\tvalidation_1-rmse:0.455646\n",
      "[26]\tvalidation_0-rmse:0.454714\tvalidation_1-rmse:0.455506\n",
      "[27]\tvalidation_0-rmse:0.454594\tvalidation_1-rmse:0.4554\n",
      "[28]\tvalidation_0-rmse:0.454477\tvalidation_1-rmse:0.4553\n",
      "[29]\tvalidation_0-rmse:0.454408\tvalidation_1-rmse:0.455241\n",
      "[30]\tvalidation_0-rmse:0.454273\tvalidation_1-rmse:0.455117\n",
      "[31]\tvalidation_0-rmse:0.454164\tvalidation_1-rmse:0.455035\n",
      "[32]\tvalidation_0-rmse:0.454077\tvalidation_1-rmse:0.454961\n",
      "[33]\tvalidation_0-rmse:0.453977\tvalidation_1-rmse:0.454882\n",
      "[34]\tvalidation_0-rmse:0.453837\tvalidation_1-rmse:0.454754\n",
      "[35]\tvalidation_0-rmse:0.453758\tvalidation_1-rmse:0.454687\n",
      "[36]\tvalidation_0-rmse:0.453688\tvalidation_1-rmse:0.454622\n",
      "[37]\tvalidation_0-rmse:0.4536\tvalidation_1-rmse:0.454548\n",
      "[38]\tvalidation_0-rmse:0.453544\tvalidation_1-rmse:0.454513\n",
      "[39]\tvalidation_0-rmse:0.453445\tvalidation_1-rmse:0.454424\n",
      "[40]\tvalidation_0-rmse:0.453338\tvalidation_1-rmse:0.454329\n",
      "[41]\tvalidation_0-rmse:0.453299\tvalidation_1-rmse:0.454297\n",
      "[42]\tvalidation_0-rmse:0.453239\tvalidation_1-rmse:0.45425\n",
      "[43]\tvalidation_0-rmse:0.453155\tvalidation_1-rmse:0.454179\n",
      "[44]\tvalidation_0-rmse:0.453071\tvalidation_1-rmse:0.454107\n",
      "[45]\tvalidation_0-rmse:0.453008\tvalidation_1-rmse:0.454066\n",
      "[46]\tvalidation_0-rmse:0.452828\tvalidation_1-rmse:0.453896\n",
      "[47]\tvalidation_0-rmse:0.452795\tvalidation_1-rmse:0.453864\n",
      "[48]\tvalidation_0-rmse:0.452735\tvalidation_1-rmse:0.453814\n",
      "[49]\tvalidation_0-rmse:0.452709\tvalidation_1-rmse:0.453793\n",
      "[50]\tvalidation_0-rmse:0.452665\tvalidation_1-rmse:0.453764\n",
      "[51]\tvalidation_0-rmse:0.452606\tvalidation_1-rmse:0.453717\n",
      "[52]\tvalidation_0-rmse:0.45257\tvalidation_1-rmse:0.453693\n",
      "[53]\tvalidation_0-rmse:0.452488\tvalidation_1-rmse:0.453624\n",
      "[54]\tvalidation_0-rmse:0.452412\tvalidation_1-rmse:0.453556\n",
      "[55]\tvalidation_0-rmse:0.452383\tvalidation_1-rmse:0.453533\n",
      "[56]\tvalidation_0-rmse:0.45233\tvalidation_1-rmse:0.453497\n",
      "[57]\tvalidation_0-rmse:0.452257\tvalidation_1-rmse:0.453432\n",
      "[58]\tvalidation_0-rmse:0.452176\tvalidation_1-rmse:0.453369\n",
      "[59]\tvalidation_0-rmse:0.452137\tvalidation_1-rmse:0.453345\n",
      "[60]\tvalidation_0-rmse:0.452106\tvalidation_1-rmse:0.453325\n",
      "[61]\tvalidation_0-rmse:0.452059\tvalidation_1-rmse:0.453292\n",
      "[62]\tvalidation_0-rmse:0.451963\tvalidation_1-rmse:0.453198\n",
      "[63]\tvalidation_0-rmse:0.451905\tvalidation_1-rmse:0.453157\n",
      "[64]\tvalidation_0-rmse:0.451877\tvalidation_1-rmse:0.453135\n",
      "[65]\tvalidation_0-rmse:0.451811\tvalidation_1-rmse:0.45308\n",
      "[66]\tvalidation_0-rmse:0.451771\tvalidation_1-rmse:0.453057\n",
      "[67]\tvalidation_0-rmse:0.451736\tvalidation_1-rmse:0.453027\n",
      "[68]\tvalidation_0-rmse:0.451713\tvalidation_1-rmse:0.453006\n",
      "[69]\tvalidation_0-rmse:0.451681\tvalidation_1-rmse:0.452979\n",
      "[70]\tvalidation_0-rmse:0.451658\tvalidation_1-rmse:0.452959\n",
      "[71]\tvalidation_0-rmse:0.451606\tvalidation_1-rmse:0.452927\n",
      "[72]\tvalidation_0-rmse:0.451543\tvalidation_1-rmse:0.452868\n",
      "[73]\tvalidation_0-rmse:0.451502\tvalidation_1-rmse:0.452836\n",
      "[74]\tvalidation_0-rmse:0.45147\tvalidation_1-rmse:0.452824\n",
      "[75]\tvalidation_0-rmse:0.451406\tvalidation_1-rmse:0.452776\n",
      "[76]\tvalidation_0-rmse:0.451344\tvalidation_1-rmse:0.452734\n",
      "[77]\tvalidation_0-rmse:0.451307\tvalidation_1-rmse:0.452711\n",
      "[78]\tvalidation_0-rmse:0.451276\tvalidation_1-rmse:0.452686\n",
      "[79]\tvalidation_0-rmse:0.451221\tvalidation_1-rmse:0.452639\n",
      "[80]\tvalidation_0-rmse:0.451188\tvalidation_1-rmse:0.452623\n",
      "[81]\tvalidation_0-rmse:0.451157\tvalidation_1-rmse:0.452604\n",
      "[82]\tvalidation_0-rmse:0.451135\tvalidation_1-rmse:0.452589\n",
      "[83]\tvalidation_0-rmse:0.451089\tvalidation_1-rmse:0.452555\n",
      "[84]\tvalidation_0-rmse:0.451049\tvalidation_1-rmse:0.452527\n",
      "[85]\tvalidation_0-rmse:0.450995\tvalidation_1-rmse:0.452479\n",
      "[86]\tvalidation_0-rmse:0.450971\tvalidation_1-rmse:0.452467\n",
      "[87]\tvalidation_0-rmse:0.450922\tvalidation_1-rmse:0.45243\n",
      "[88]\tvalidation_0-rmse:0.450892\tvalidation_1-rmse:0.452414\n",
      "[89]\tvalidation_0-rmse:0.450863\tvalidation_1-rmse:0.452393\n",
      "[90]\tvalidation_0-rmse:0.450834\tvalidation_1-rmse:0.452382\n",
      "[91]\tvalidation_0-rmse:0.450801\tvalidation_1-rmse:0.45236\n",
      "[92]\tvalidation_0-rmse:0.450761\tvalidation_1-rmse:0.452325\n",
      "[93]\tvalidation_0-rmse:0.450725\tvalidation_1-rmse:0.452302\n",
      "[94]\tvalidation_0-rmse:0.450669\tvalidation_1-rmse:0.452266\n",
      "[95]\tvalidation_0-rmse:0.450631\tvalidation_1-rmse:0.452237\n",
      "[96]\tvalidation_0-rmse:0.450576\tvalidation_1-rmse:0.45219\n",
      "[97]\tvalidation_0-rmse:0.450542\tvalidation_1-rmse:0.452162\n",
      "[98]\tvalidation_0-rmse:0.450511\tvalidation_1-rmse:0.45214\n",
      "[99]\tvalidation_0-rmse:0.450481\tvalidation_1-rmse:0.452117\n",
      "[100]\tvalidation_0-rmse:0.450441\tvalidation_1-rmse:0.452086\n",
      "[101]\tvalidation_0-rmse:0.4504\tvalidation_1-rmse:0.452053\n",
      "[102]\tvalidation_0-rmse:0.450377\tvalidation_1-rmse:0.452035\n",
      "[103]\tvalidation_0-rmse:0.450347\tvalidation_1-rmse:0.452015\n",
      "[104]\tvalidation_0-rmse:0.450311\tvalidation_1-rmse:0.451988\n",
      "[105]\tvalidation_0-rmse:0.450286\tvalidation_1-rmse:0.451968\n",
      "[106]\tvalidation_0-rmse:0.450239\tvalidation_1-rmse:0.451933\n",
      "[107]\tvalidation_0-rmse:0.450218\tvalidation_1-rmse:0.451929\n",
      "[108]\tvalidation_0-rmse:0.450193\tvalidation_1-rmse:0.451918\n",
      "[109]\tvalidation_0-rmse:0.450178\tvalidation_1-rmse:0.451906\n",
      "[110]\tvalidation_0-rmse:0.45016\tvalidation_1-rmse:0.451898\n",
      "[111]\tvalidation_0-rmse:0.450143\tvalidation_1-rmse:0.45189\n",
      "[112]\tvalidation_0-rmse:0.450116\tvalidation_1-rmse:0.451872\n",
      "[113]\tvalidation_0-rmse:0.45007\tvalidation_1-rmse:0.45184\n",
      "[114]\tvalidation_0-rmse:0.450049\tvalidation_1-rmse:0.451832\n",
      "[115]\tvalidation_0-rmse:0.450041\tvalidation_1-rmse:0.451829\n",
      "[116]\tvalidation_0-rmse:0.450007\tvalidation_1-rmse:0.451802\n",
      "[117]\tvalidation_0-rmse:0.449995\tvalidation_1-rmse:0.451796\n",
      "[118]\tvalidation_0-rmse:0.449963\tvalidation_1-rmse:0.451776\n",
      "[119]\tvalidation_0-rmse:0.449948\tvalidation_1-rmse:0.451768\n",
      "[120]\tvalidation_0-rmse:0.449915\tvalidation_1-rmse:0.451754\n",
      "[121]\tvalidation_0-rmse:0.449896\tvalidation_1-rmse:0.451749\n",
      "[122]\tvalidation_0-rmse:0.449865\tvalidation_1-rmse:0.451733\n",
      "[123]\tvalidation_0-rmse:0.449851\tvalidation_1-rmse:0.451727\n",
      "[124]\tvalidation_0-rmse:0.449839\tvalidation_1-rmse:0.451718\n",
      "[125]\tvalidation_0-rmse:0.44982\tvalidation_1-rmse:0.451713\n",
      "[126]\tvalidation_0-rmse:0.449799\tvalidation_1-rmse:0.4517\n",
      "[127]\tvalidation_0-rmse:0.449784\tvalidation_1-rmse:0.451691\n",
      "[128]\tvalidation_0-rmse:0.449774\tvalidation_1-rmse:0.451687\n",
      "[129]\tvalidation_0-rmse:0.449727\tvalidation_1-rmse:0.451644\n",
      "[130]\tvalidation_0-rmse:0.44971\tvalidation_1-rmse:0.451635\n"
     ]
    },
    {
     "name": "stdout",
     "output_type": "stream",
     "text": [
      "[131]\tvalidation_0-rmse:0.449687\tvalidation_1-rmse:0.45162\n",
      "[132]\tvalidation_0-rmse:0.44967\tvalidation_1-rmse:0.451608\n",
      "[133]\tvalidation_0-rmse:0.449657\tvalidation_1-rmse:0.451606\n",
      "[134]\tvalidation_0-rmse:0.449627\tvalidation_1-rmse:0.451585\n",
      "[135]\tvalidation_0-rmse:0.449599\tvalidation_1-rmse:0.451561\n",
      "[136]\tvalidation_0-rmse:0.449585\tvalidation_1-rmse:0.451553\n",
      "[137]\tvalidation_0-rmse:0.449577\tvalidation_1-rmse:0.451547\n",
      "[138]\tvalidation_0-rmse:0.449549\tvalidation_1-rmse:0.451533\n",
      "[139]\tvalidation_0-rmse:0.449524\tvalidation_1-rmse:0.451522\n",
      "[140]\tvalidation_0-rmse:0.449512\tvalidation_1-rmse:0.451513\n",
      "[141]\tvalidation_0-rmse:0.449499\tvalidation_1-rmse:0.451504\n",
      "[142]\tvalidation_0-rmse:0.449462\tvalidation_1-rmse:0.45148\n",
      "[143]\tvalidation_0-rmse:0.449431\tvalidation_1-rmse:0.451463\n",
      "[144]\tvalidation_0-rmse:0.449419\tvalidation_1-rmse:0.451457\n",
      "[145]\tvalidation_0-rmse:0.449405\tvalidation_1-rmse:0.451454\n",
      "[146]\tvalidation_0-rmse:0.449358\tvalidation_1-rmse:0.451423\n",
      "[147]\tvalidation_0-rmse:0.449337\tvalidation_1-rmse:0.451409\n",
      "[148]\tvalidation_0-rmse:0.449325\tvalidation_1-rmse:0.451408\n",
      "[149]\tvalidation_0-rmse:0.449317\tvalidation_1-rmse:0.451409\n",
      "Stopping. Best iteration:\n",
      "[148]\tvalidation_0-rmse:0.449325\tvalidation_1-rmse:0.451408\n",
      "\n"
     ]
    },
    {
     "data": {
      "text/plain": [
       "XGBRegressor(base_score=0.5, booster='gbtree', colsample_bylevel=1,\n",
       "             colsample_bynode=1, colsample_bytree=0.8, eta=0.3, gamma=0,\n",
       "             importance_type='gain', learning_rate=0.3, max_delta_step=0,\n",
       "             max_depth=7, min_child_weight=300, missing=None, n_estimators=1000,\n",
       "             n_jobs=1, nthread=None, objective='reg:linear', random_state=0,\n",
       "             reg_alpha=0, reg_lambda=1, scale_pos_weight=1, seed=42,\n",
       "             silent=None, subsample=0.7, verbosity=1)"
      ]
     },
     "execution_count": 15,
     "metadata": {},
     "output_type": "execute_result"
    }
   ],
   "source": [
    "from xgboost import XGBRegressor\n",
    "\n",
    "# model = XGBRegressor(\n",
    "#     max_depth=8,\n",
    "#     n_estimators=1000,\n",
    "#     min_child_weight=300, \n",
    "#     colsample_bytree=0.8, \n",
    "#     subsample=0.8, \n",
    "#     eta=0.3,    \n",
    "#     seed=42)\n",
    "\n",
    "model = XGBRegressor(\n",
    "             base_score=0.5, \n",
    "             booster='gbtree',\n",
    "             colsample_bylevel=1,\n",
    "             colsample_bynode=1, \n",
    "             colsample_bytree=0.8, \n",
    "             eta=0.3, \n",
    "             gamma=0,\n",
    "             importance_type='gain', \n",
    "             learning_rate=0.3, \n",
    "             max_delta_step=0,\n",
    "             max_depth=7, \n",
    "             min_child_weight=300, \n",
    "             missing=None, \n",
    "             n_estimators=1000,\n",
    "             n_jobs=1, \n",
    "             nthread=None, \n",
    "             objective='reg:linear', \n",
    "             random_state=0,\n",
    "             reg_alpha=0, \n",
    "             reg_lambda=1, \n",
    "             scale_pos_weight=1, \n",
    "             seed=42,\n",
    "             silent=None, \n",
    "             subsample=0.7, \n",
    "             verbosity=1\n",
    "         )\n",
    "\n",
    "model.fit(\n",
    "    X_train, \n",
    "    y_train, \n",
    "    eval_metric=\"rmse\", \n",
    "    eval_set=[(X_train, y_train), (X_val, y_val)], \n",
    "    verbose=True, \n",
    "    early_stopping_rounds = 1)"
   ]
  },
  {
   "cell_type": "code",
   "execution_count": null,
   "metadata": {},
   "outputs": [],
   "source": [
    "# fourth try\n",
    "# XGBRegressor(base_score=0.5, booster='gbtree', colsample_bylevel=1,\n",
    "#              colsample_bynode=1, colsample_bytree=0.8, eta=0.3, gamma=0,\n",
    "#              importance_type='gain', learning_rate=0.3, max_delta_step=0,\n",
    "#              max_depth=7, min_child_weight=300, missing=None, n_estimators=1000,\n",
    "#              n_jobs=1, nthread=None, objective='reg:linear', random_state=0,\n",
    "#              reg_alpha=0, reg_lambda=1, scale_pos_weight=1, seed=42,\n",
    "#              silent=None, subsample=0.7, verbosity=1)"
   ]
  },
  {
   "cell_type": "code",
   "execution_count": 17,
   "metadata": {},
   "outputs": [
    {
     "name": "stdout",
     "output_type": "stream",
     "text": [
      "Saved model to: xgboost.pickle.dat\n"
     ]
    }
   ],
   "source": [
    "import pickle\n",
    "\n",
    "# save model to file\n",
    "pickle.dump(model, open(\"xgboost.pickle.dat\", \"wb\")) \n",
    "print(\"Saved model to: xgboost.pickle.dat\")"
   ]
  },
  {
   "cell_type": "markdown",
   "metadata": {},
   "source": [
    "Mettre early stopping rounds à 2. Stop à 207 pour les paramètres suivants :\n",
    "`model = XGBRegressor(\n",
    "    max_depth=8,\n",
    "    n_estimators=1000,\n",
    "    min_child_weight=300, \n",
    "    colsample_bytree=0.8, \n",
    "    subsample=0.8, \n",
    "    eta=0.3,    \n",
    "    seed=42)``\n",
    "et eval_metric=\"rmse\""
   ]
  },
  {
   "cell_type": "code",
   "execution_count": 19,
   "metadata": {},
   "outputs": [],
   "source": [
    "y_pred = model.predict(processed_test_df)\n",
    "\n",
    "y_pred_exp = np.expm1(y_pred).round().astype(int)"
   ]
  },
  {
   "cell_type": "code",
   "execution_count": 24,
   "metadata": {},
   "outputs": [
    {
     "data": {
      "text/plain": [
       "6999251"
      ]
     },
     "execution_count": 24,
     "metadata": {},
     "output_type": "execute_result"
    }
   ],
   "source": [
    "len(y_pred_exp)"
   ]
  },
  {
   "cell_type": "code",
   "execution_count": 25,
   "metadata": {},
   "outputs": [
    {
     "data": {
      "text/plain": [
       "range(0, 6999251)"
      ]
     },
     "execution_count": 25,
     "metadata": {},
     "output_type": "execute_result"
    }
   ],
   "source": [
    "test_id = range(len(y_pred_exp))\n",
    "test_id"
   ]
  },
  {
   "cell_type": "code",
   "execution_count": 26,
   "metadata": {},
   "outputs": [],
   "source": [
    "result1 = pd.DataFrame( {'id':test_id,\n",
    "           'Demanda_uni_equil':y_pred_exp} )\n",
    "\n",
    "result1.to_csv('pred.csv',index=False)"
   ]
  },
  {
   "cell_type": "code",
   "execution_count": 28,
   "metadata": {},
   "outputs": [
    {
     "data": {
      "text/html": [
       "<div>\n",
       "<style scoped>\n",
       "    .dataframe tbody tr th:only-of-type {\n",
       "        vertical-align: middle;\n",
       "    }\n",
       "\n",
       "    .dataframe tbody tr th {\n",
       "        vertical-align: top;\n",
       "    }\n",
       "\n",
       "    .dataframe thead th {\n",
       "        text-align: right;\n",
       "    }\n",
       "</style>\n",
       "<table border=\"1\" class=\"dataframe\">\n",
       "  <thead>\n",
       "    <tr style=\"text-align: right;\">\n",
       "      <th></th>\n",
       "      <th>id</th>\n",
       "      <th>Demanda_uni_equil</th>\n",
       "    </tr>\n",
       "  </thead>\n",
       "  <tbody>\n",
       "    <tr>\n",
       "      <th>0</th>\n",
       "      <td>0</td>\n",
       "      <td>4</td>\n",
       "    </tr>\n",
       "    <tr>\n",
       "      <th>1</th>\n",
       "      <td>1</td>\n",
       "      <td>1</td>\n",
       "    </tr>\n",
       "    <tr>\n",
       "      <th>2</th>\n",
       "      <td>2</td>\n",
       "      <td>2</td>\n",
       "    </tr>\n",
       "    <tr>\n",
       "      <th>3</th>\n",
       "      <td>3</td>\n",
       "      <td>1</td>\n",
       "    </tr>\n",
       "    <tr>\n",
       "      <th>4</th>\n",
       "      <td>4</td>\n",
       "      <td>2</td>\n",
       "    </tr>\n",
       "  </tbody>\n",
       "</table>\n",
       "</div>"
      ],
      "text/plain": [
       "   id  Demanda_uni_equil\n",
       "0   0                  4\n",
       "1   1                  1\n",
       "2   2                  2\n",
       "3   3                  1\n",
       "4   4                  2"
      ]
     },
     "execution_count": 28,
     "metadata": {},
     "output_type": "execute_result"
    }
   ],
   "source": [
    "result1.head()"
   ]
  }
 ],
 "metadata": {
  "kernelspec": {
   "display_name": "Python 3",
   "language": "python",
   "name": "python3"
  },
  "language_info": {
   "codemirror_mode": {
    "name": "ipython",
    "version": 3
   },
   "file_extension": ".py",
   "mimetype": "text/x-python",
   "name": "python",
   "nbconvert_exporter": "python",
   "pygments_lexer": "ipython3",
   "version": "3.7.6"
  },
  "toc": {
   "base_numbering": 1,
   "nav_menu": {},
   "number_sections": false,
   "sideBar": true,
   "skip_h1_title": false,
   "title_cell": "Table of Contents",
   "title_sidebar": "Contents",
   "toc_cell": false,
   "toc_position": {},
   "toc_section_display": true,
   "toc_window_display": false
  }
 },
 "nbformat": 4,
 "nbformat_minor": 4
}
