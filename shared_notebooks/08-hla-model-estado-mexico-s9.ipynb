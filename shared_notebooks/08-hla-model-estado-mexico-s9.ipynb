{
 "cells": [
  {
   "cell_type": "markdown",
   "metadata": {},
   "source": [
    "# Model on Estado de México"
   ]
  },
  {
   "cell_type": "markdown",
   "metadata": {},
   "source": [
    "### Load model"
   ]
  },
  {
   "cell_type": "code",
   "execution_count": 1,
   "metadata": {},
   "outputs": [
    {
     "name": "stdout",
     "output_type": "stream",
     "text": [
      "Memory usage of dataframe is 0.04 MB\n",
      "Memory usage after optimization is: 0.11 MB\n",
      "Decreased by -184.7%\n",
      "Memory usage of dataframe is 14.27 MB\n",
      "Memory usage after optimization is: 19.51 MB\n",
      "Decreased by -36.7%\n",
      "Memory usage of dataframe is 373.80 MB\n",
      "Memory usage after optimization is: 120.15 MB\n",
      "Decreased by 67.9%\n",
      "Memory usage of dataframe is 0.02 MB\n",
      "Memory usage after optimization is: 0.02 MB\n",
      "Decreased by 6.0%\n",
      "Memory usage of dataframe is 6225.47 MB\n",
      "Memory usage after optimization is: 2122.32 MB\n",
      "Decreased by 65.9%\n",
      "Memory usage of dataframe is 106.80 MB\n",
      "Memory usage after optimization is: 33.38 MB\n",
      "Decreased by 68.7%\n"
     ]
    },
    {
     "data": {
      "text/plain": [
       "42"
      ]
     },
     "execution_count": 1,
     "metadata": {},
     "output_type": "execute_result"
    }
   ],
   "source": [
    "# Import packages\n",
    "import pandas as pd\n",
    "import numpy as np\n",
    "\n",
    "import matplotlib.pyplot as plt\n",
    "\n",
    "# Autoreload\n",
    "%load_ext autoreload\n",
    "%autoreload 2\n",
    "\n",
    "# Warnings\n",
    "import warnings\n",
    "warnings.filterwarnings('ignore')\n",
    "\n",
    "# Import data\n",
    "from bimbo.data import Bimbo\n",
    "\n",
    "data = Bimbo().get_data()\n",
    "\n",
    "# Load in the train and test datasets\n",
    "train_df = data['train']\n",
    "# test_df = data['test']\n",
    "# cliente_tabla_df = data['cliente_tabla']\n",
    "# producto_tabla_df = data['producto_tabla']\n",
    "town_state_df = data['town_state']\n",
    "# sample_submission_df = data['sample_submission']\n",
    "\n",
    "# Delete data\n",
    "import gc\n",
    "del data\n",
    "gc.collect()"
   ]
  },
  {
   "cell_type": "markdown",
   "metadata": {},
   "source": [
    "### Create clusters of Products"
   ]
  },
  {
   "cell_type": "code",
   "execution_count": 2,
   "metadata": {},
   "outputs": [],
   "source": [
    "products_id_clusters_df = pd.read_csv('../data/producto_clusters.csv')"
   ]
  },
  {
   "cell_type": "code",
   "execution_count": 3,
   "metadata": {},
   "outputs": [],
   "source": [
    "new_train_df = pd.merge(train_df, products_id_clusters_df, how='left', on='Producto_ID')"
   ]
  },
  {
   "cell_type": "markdown",
   "metadata": {},
   "source": [
    "### Create a category of location based on zip code"
   ]
  },
  {
   "cell_type": "code",
   "execution_count": 4,
   "metadata": {},
   "outputs": [],
   "source": [
    "new_train_df = pd.merge(new_train_df, town_state_df, how='left', on='Agencia_ID')"
   ]
  },
  {
   "cell_type": "markdown",
   "metadata": {},
   "source": [
    "### Feature Engineering"
   ]
  },
  {
   "cell_type": "code",
   "execution_count": 5,
   "metadata": {},
   "outputs": [],
   "source": [
    "from bimbo.preprocessing import *\n",
    "from bimbo.feature_engineering import *"
   ]
  },
  {
   "cell_type": "code",
   "execution_count": 6,
   "metadata": {},
   "outputs": [],
   "source": [
    "new_train_df = new_train_df[new_train_df['State'] == 'ESTADO DE MÉXICO']"
   ]
  },
  {
   "cell_type": "code",
   "execution_count": 7,
   "metadata": {},
   "outputs": [
    {
     "data": {
      "text/html": [
       "<div>\n",
       "<style scoped>\n",
       "    .dataframe tbody tr th:only-of-type {\n",
       "        vertical-align: middle;\n",
       "    }\n",
       "\n",
       "    .dataframe tbody tr th {\n",
       "        vertical-align: top;\n",
       "    }\n",
       "\n",
       "    .dataframe thead th {\n",
       "        text-align: right;\n",
       "    }\n",
       "</style>\n",
       "<table border=\"1\" class=\"dataframe\">\n",
       "  <thead>\n",
       "    <tr style=\"text-align: right;\">\n",
       "      <th></th>\n",
       "      <th>Semana</th>\n",
       "      <th>Agencia_ID</th>\n",
       "      <th>Canal_ID</th>\n",
       "      <th>Ruta_SAK</th>\n",
       "      <th>Cliente_ID</th>\n",
       "      <th>Producto_ID</th>\n",
       "      <th>Venta_uni_hoy</th>\n",
       "      <th>Venta_hoy</th>\n",
       "      <th>Dev_uni_proxima</th>\n",
       "      <th>Dev_proxima</th>\n",
       "      <th>Demanda_uni_equil</th>\n",
       "      <th>short_name</th>\n",
       "      <th>brand</th>\n",
       "      <th>Town</th>\n",
       "      <th>State</th>\n",
       "    </tr>\n",
       "  </thead>\n",
       "  <tbody>\n",
       "    <tr>\n",
       "      <th>75360</th>\n",
       "      <td>3</td>\n",
       "      <td>1112</td>\n",
       "      <td>1</td>\n",
       "      <td>1001</td>\n",
       "      <td>327267</td>\n",
       "      <td>693</td>\n",
       "      <td>5</td>\n",
       "      <td>48.000000</td>\n",
       "      <td>0</td>\n",
       "      <td>0.0</td>\n",
       "      <td>5</td>\n",
       "      <td>Tostada Plana</td>\n",
       "      <td>MR</td>\n",
       "      <td>2004 AG. CUAUTITLAN</td>\n",
       "      <td>ESTADO DE MÉXICO</td>\n",
       "    </tr>\n",
       "    <tr>\n",
       "      <th>75361</th>\n",
       "      <td>3</td>\n",
       "      <td>1112</td>\n",
       "      <td>1</td>\n",
       "      <td>1001</td>\n",
       "      <td>327267</td>\n",
       "      <td>1109</td>\n",
       "      <td>5</td>\n",
       "      <td>75.050003</td>\n",
       "      <td>0</td>\n",
       "      <td>0.0</td>\n",
       "      <td>5</td>\n",
       "      <td>Pan Blanco Chico</td>\n",
       "      <td>BIM</td>\n",
       "      <td>2004 AG. CUAUTITLAN</td>\n",
       "      <td>ESTADO DE MÉXICO</td>\n",
       "    </tr>\n",
       "    <tr>\n",
       "      <th>75362</th>\n",
       "      <td>3</td>\n",
       "      <td>1112</td>\n",
       "      <td>1</td>\n",
       "      <td>1001</td>\n",
       "      <td>327267</td>\n",
       "      <td>1125</td>\n",
       "      <td>10</td>\n",
       "      <td>96.000000</td>\n",
       "      <td>0</td>\n",
       "      <td>0.0</td>\n",
       "      <td>10</td>\n",
       "      <td>Tortillinas</td>\n",
       "      <td>TR</td>\n",
       "      <td>2004 AG. CUAUTITLAN</td>\n",
       "      <td>ESTADO DE MÉXICO</td>\n",
       "    </tr>\n",
       "  </tbody>\n",
       "</table>\n",
       "</div>"
      ],
      "text/plain": [
       "       Semana  Agencia_ID  Canal_ID  Ruta_SAK  Cliente_ID  Producto_ID  \\\n",
       "75360       3        1112         1      1001      327267          693   \n",
       "75361       3        1112         1      1001      327267         1109   \n",
       "75362       3        1112         1      1001      327267         1125   \n",
       "\n",
       "       Venta_uni_hoy  Venta_hoy  Dev_uni_proxima  Dev_proxima  \\\n",
       "75360              5  48.000000                0          0.0   \n",
       "75361              5  75.050003                0          0.0   \n",
       "75362             10  96.000000                0          0.0   \n",
       "\n",
       "       Demanda_uni_equil         short_name brand                 Town  \\\n",
       "75360                  5     Tostada Plana     MR  2004 AG. CUAUTITLAN   \n",
       "75361                  5  Pan Blanco Chico    BIM  2004 AG. CUAUTITLAN   \n",
       "75362                 10       Tortillinas     TR  2004 AG. CUAUTITLAN   \n",
       "\n",
       "                  State  \n",
       "75360  ESTADO DE MÉXICO  \n",
       "75361  ESTADO DE MÉXICO  \n",
       "75362  ESTADO DE MÉXICO  "
      ]
     },
     "execution_count": 7,
     "metadata": {},
     "output_type": "execute_result"
    }
   ],
   "source": [
    "new_train_df.head(3)"
   ]
  },
  {
   "cell_type": "code",
   "execution_count": 8,
   "metadata": {},
   "outputs": [
    {
     "data": {
      "text/plain": [
       "41"
      ]
     },
     "execution_count": 8,
     "metadata": {},
     "output_type": "execute_result"
    }
   ],
   "source": [
    "val_df = new_train_df[new_train_df['Semana'] == 8]\n",
    "test_df = new_train_df[new_train_df['Semana'] == 9]\n",
    "train_df = new_train_df[new_train_df['Semana'] < 8]\n",
    "\n",
    "final_y_test = test_df['Demanda_uni_equil'] # for later\n",
    "\n",
    "del new_train_df\n",
    "gc.collect()"
   ]
  },
  {
   "cell_type": "code",
   "execution_count": 9,
   "metadata": {},
   "outputs": [],
   "source": [
    "train_df = data_preprocess(train_df)\n",
    "val_df = data_preprocess(val_df)\n",
    "test_df = data_preprocess(test_df)"
   ]
  },
  {
   "cell_type": "code",
   "execution_count": 10,
   "metadata": {},
   "outputs": [],
   "source": [
    "train_df = change_type_to_categ2(train_df)\n",
    "val_df = change_type_to_categ2(val_df)\n",
    "test_df = change_type_to_categ2(test_df)"
   ]
  },
  {
   "cell_type": "code",
   "execution_count": 11,
   "metadata": {},
   "outputs": [],
   "source": [
    "temp = feature_engineering2(train_df)"
   ]
  },
  {
   "cell_type": "code",
   "execution_count": 12,
   "metadata": {},
   "outputs": [],
   "source": [
    "val = merge_feature2(val_df, temp, 'val')"
   ]
  },
  {
   "cell_type": "code",
   "execution_count": 13,
   "metadata": {},
   "outputs": [],
   "source": [
    "val.to_csv('../data/processed_val_3.csv', index=False)"
   ]
  },
  {
   "cell_type": "code",
   "execution_count": 14,
   "metadata": {},
   "outputs": [],
   "source": [
    "frames = [train_df, val_df]\n",
    "result = pd.concat(frames)\n",
    "temp = feature_engineering2(result)"
   ]
  },
  {
   "cell_type": "code",
   "execution_count": 15,
   "metadata": {},
   "outputs": [],
   "source": [
    "test = merge_feature2(test_df, temp, 'test')"
   ]
  },
  {
   "cell_type": "code",
   "execution_count": 16,
   "metadata": {},
   "outputs": [],
   "source": [
    "test.to_csv('../data/processed_test_3.csv', index=False)"
   ]
  },
  {
   "cell_type": "code",
   "execution_count": 17,
   "metadata": {},
   "outputs": [
    {
     "data": {
      "text/html": [
       "<div>\n",
       "<style scoped>\n",
       "    .dataframe tbody tr th:only-of-type {\n",
       "        vertical-align: middle;\n",
       "    }\n",
       "\n",
       "    .dataframe tbody tr th {\n",
       "        vertical-align: top;\n",
       "    }\n",
       "\n",
       "    .dataframe thead th {\n",
       "        text-align: right;\n",
       "    }\n",
       "</style>\n",
       "<table border=\"1\" class=\"dataframe\">\n",
       "  <thead>\n",
       "    <tr style=\"text-align: right;\">\n",
       "      <th></th>\n",
       "      <th>Demanda_uni_equil</th>\n",
       "      <th>log_demanda_uni_equil</th>\n",
       "      <th>mean_due_agencia</th>\n",
       "      <th>mean_due_canal</th>\n",
       "      <th>mean_due_ruta</th>\n",
       "      <th>mean_due_cliente</th>\n",
       "      <th>mean_due_prod_age</th>\n",
       "      <th>mean_due_prod_rut</th>\n",
       "      <th>mean_due_prod_cli</th>\n",
       "      <th>mean_due_prod_can</th>\n",
       "      <th>mean_due_prod_cli_age</th>\n",
       "      <th>mean_vh_agencia</th>\n",
       "      <th>std_due_acrcp</th>\n",
       "      <th>mean_due_acrcp</th>\n",
       "      <th>mean_due_cli_clu</th>\n",
       "      <th>max_due_prod_cli</th>\n",
       "    </tr>\n",
       "  </thead>\n",
       "  <tbody>\n",
       "    <tr>\n",
       "      <th>0</th>\n",
       "      <td>3</td>\n",
       "      <td>1.386294</td>\n",
       "      <td>1.554452</td>\n",
       "      <td>1.501275</td>\n",
       "      <td>1.587864</td>\n",
       "      <td>1.547503</td>\n",
       "      <td>1.416350</td>\n",
       "      <td>1.500573</td>\n",
       "      <td>1.454480</td>\n",
       "      <td>1.334197</td>\n",
       "      <td>1.454480</td>\n",
       "      <td>3.502226</td>\n",
       "      <td>0.261586</td>\n",
       "      <td>1.454480</td>\n",
       "      <td>1.454480</td>\n",
       "      <td>1.791759</td>\n",
       "    </tr>\n",
       "    <tr>\n",
       "      <th>1</th>\n",
       "      <td>1</td>\n",
       "      <td>0.693147</td>\n",
       "      <td>1.554452</td>\n",
       "      <td>1.501275</td>\n",
       "      <td>1.587864</td>\n",
       "      <td>1.547503</td>\n",
       "      <td>1.455031</td>\n",
       "      <td>1.525661</td>\n",
       "      <td>1.593109</td>\n",
       "      <td>1.219927</td>\n",
       "      <td>1.593109</td>\n",
       "      <td>3.502226</td>\n",
       "      <td>0.202938</td>\n",
       "      <td>1.593109</td>\n",
       "      <td>1.593109</td>\n",
       "      <td>1.791759</td>\n",
       "    </tr>\n",
       "    <tr>\n",
       "      <th>2</th>\n",
       "      <td>2</td>\n",
       "      <td>1.098612</td>\n",
       "      <td>1.554452</td>\n",
       "      <td>1.501275</td>\n",
       "      <td>1.587864</td>\n",
       "      <td>1.547503</td>\n",
       "      <td>1.913890</td>\n",
       "      <td>2.040523</td>\n",
       "      <td>2.130225</td>\n",
       "      <td>1.698476</td>\n",
       "      <td>2.130225</td>\n",
       "      <td>3.502226</td>\n",
       "      <td>0.235092</td>\n",
       "      <td>2.130225</td>\n",
       "      <td>1.983213</td>\n",
       "      <td>2.397895</td>\n",
       "    </tr>\n",
       "  </tbody>\n",
       "</table>\n",
       "</div>"
      ],
      "text/plain": [
       "   Demanda_uni_equil  log_demanda_uni_equil  mean_due_agencia  mean_due_canal  \\\n",
       "0                  3               1.386294          1.554452        1.501275   \n",
       "1                  1               0.693147          1.554452        1.501275   \n",
       "2                  2               1.098612          1.554452        1.501275   \n",
       "\n",
       "   mean_due_ruta  mean_due_cliente  mean_due_prod_age  mean_due_prod_rut  \\\n",
       "0       1.587864          1.547503           1.416350           1.500573   \n",
       "1       1.587864          1.547503           1.455031           1.525661   \n",
       "2       1.587864          1.547503           1.913890           2.040523   \n",
       "\n",
       "   mean_due_prod_cli  mean_due_prod_can  mean_due_prod_cli_age  \\\n",
       "0           1.454480           1.334197               1.454480   \n",
       "1           1.593109           1.219927               1.593109   \n",
       "2           2.130225           1.698476               2.130225   \n",
       "\n",
       "   mean_vh_agencia  std_due_acrcp  mean_due_acrcp  mean_due_cli_clu  \\\n",
       "0         3.502226       0.261586        1.454480          1.454480   \n",
       "1         3.502226       0.202938        1.593109          1.593109   \n",
       "2         3.502226       0.235092        2.130225          1.983213   \n",
       "\n",
       "   max_due_prod_cli  \n",
       "0          1.791759  \n",
       "1          1.791759  \n",
       "2          2.397895  "
      ]
     },
     "execution_count": 17,
     "metadata": {},
     "output_type": "execute_result"
    }
   ],
   "source": [
    "val.head(3)"
   ]
  },
  {
   "cell_type": "code",
   "execution_count": 18,
   "metadata": {},
   "outputs": [
    {
     "data": {
      "text/html": [
       "<div>\n",
       "<style scoped>\n",
       "    .dataframe tbody tr th:only-of-type {\n",
       "        vertical-align: middle;\n",
       "    }\n",
       "\n",
       "    .dataframe tbody tr th {\n",
       "        vertical-align: top;\n",
       "    }\n",
       "\n",
       "    .dataframe thead th {\n",
       "        text-align: right;\n",
       "    }\n",
       "</style>\n",
       "<table border=\"1\" class=\"dataframe\">\n",
       "  <thead>\n",
       "    <tr style=\"text-align: right;\">\n",
       "      <th></th>\n",
       "      <th>mean_due_agencia</th>\n",
       "      <th>mean_due_canal</th>\n",
       "      <th>mean_due_ruta</th>\n",
       "      <th>mean_due_cliente</th>\n",
       "      <th>mean_due_prod_age</th>\n",
       "      <th>mean_due_prod_rut</th>\n",
       "      <th>mean_due_prod_cli</th>\n",
       "      <th>mean_due_prod_can</th>\n",
       "      <th>mean_due_prod_cli_age</th>\n",
       "      <th>mean_vh_agencia</th>\n",
       "      <th>std_due_acrcp</th>\n",
       "      <th>mean_due_acrcp</th>\n",
       "      <th>mean_due_cli_clu</th>\n",
       "      <th>max_due_prod_cli</th>\n",
       "    </tr>\n",
       "  </thead>\n",
       "  <tbody>\n",
       "    <tr>\n",
       "      <th>0</th>\n",
       "      <td>1.552221</td>\n",
       "      <td>1.50034</td>\n",
       "      <td>1.588804</td>\n",
       "      <td>1.524993</td>\n",
       "      <td>1.453920</td>\n",
       "      <td>1.523583</td>\n",
       "      <td>1.443115</td>\n",
       "      <td>1.219733</td>\n",
       "      <td>1.443115</td>\n",
       "      <td>3.496826</td>\n",
       "      <td>0.409800</td>\n",
       "      <td>1.443115</td>\n",
       "      <td>1.443115</td>\n",
       "      <td>1.791759</td>\n",
       "    </tr>\n",
       "    <tr>\n",
       "      <th>1</th>\n",
       "      <td>1.552221</td>\n",
       "      <td>1.50034</td>\n",
       "      <td>1.588804</td>\n",
       "      <td>1.524993</td>\n",
       "      <td>1.925683</td>\n",
       "      <td>2.034006</td>\n",
       "      <td>1.958289</td>\n",
       "      <td>1.703149</td>\n",
       "      <td>1.958289</td>\n",
       "      <td>3.496826</td>\n",
       "      <td>0.470728</td>\n",
       "      <td>1.958289</td>\n",
       "      <td>1.886415</td>\n",
       "      <td>2.397895</td>\n",
       "    </tr>\n",
       "    <tr>\n",
       "      <th>2</th>\n",
       "      <td>1.552221</td>\n",
       "      <td>1.50034</td>\n",
       "      <td>1.588804</td>\n",
       "      <td>1.524993</td>\n",
       "      <td>1.615046</td>\n",
       "      <td>1.649117</td>\n",
       "      <td>1.804624</td>\n",
       "      <td>1.437196</td>\n",
       "      <td>1.804624</td>\n",
       "      <td>3.496826</td>\n",
       "      <td>0.316486</td>\n",
       "      <td>1.804624</td>\n",
       "      <td>1.886415</td>\n",
       "      <td>2.197225</td>\n",
       "    </tr>\n",
       "  </tbody>\n",
       "</table>\n",
       "</div>"
      ],
      "text/plain": [
       "   mean_due_agencia  mean_due_canal  mean_due_ruta  mean_due_cliente  \\\n",
       "0          1.552221         1.50034       1.588804          1.524993   \n",
       "1          1.552221         1.50034       1.588804          1.524993   \n",
       "2          1.552221         1.50034       1.588804          1.524993   \n",
       "\n",
       "   mean_due_prod_age  mean_due_prod_rut  mean_due_prod_cli  mean_due_prod_can  \\\n",
       "0           1.453920           1.523583           1.443115           1.219733   \n",
       "1           1.925683           2.034006           1.958289           1.703149   \n",
       "2           1.615046           1.649117           1.804624           1.437196   \n",
       "\n",
       "   mean_due_prod_cli_age  mean_vh_agencia  std_due_acrcp  mean_due_acrcp  \\\n",
       "0               1.443115         3.496826       0.409800        1.443115   \n",
       "1               1.958289         3.496826       0.470728        1.958289   \n",
       "2               1.804624         3.496826       0.316486        1.804624   \n",
       "\n",
       "   mean_due_cli_clu  max_due_prod_cli  \n",
       "0          1.443115          1.791759  \n",
       "1          1.886415          2.397895  \n",
       "2          1.886415          2.197225  "
      ]
     },
     "execution_count": 18,
     "metadata": {},
     "output_type": "execute_result"
    }
   ],
   "source": [
    "test.head(3)"
   ]
  },
  {
   "cell_type": "markdown",
   "metadata": {},
   "source": [
    "### Prepare data for XGBoost"
   ]
  },
  {
   "cell_type": "code",
   "execution_count": 19,
   "metadata": {},
   "outputs": [],
   "source": [
    "X = val.drop('log_demanda_uni_equil', axis=1)\n",
    "y = val['log_demanda_uni_equil']"
   ]
  },
  {
   "cell_type": "code",
   "execution_count": 20,
   "metadata": {},
   "outputs": [],
   "source": [
    "from bimbo.xgboost_models import *"
   ]
  },
  {
   "cell_type": "code",
   "execution_count": 21,
   "metadata": {},
   "outputs": [
    {
     "name": "stdout",
     "output_type": "stream",
     "text": [
      "[23:35:38] WARNING: src/objective/regression_obj.cu:152: reg:linear is now deprecated in favor of reg:squarederror.\n",
      "[0]\tvalidation_0-mae:0.775665\tvalidation_0-rmse:0.989818\tvalidation_1-mae:0.777305\tvalidation_1-rmse:0.992126\n",
      "Multiple eval metrics have been passed: 'validation_1-rmse' will be used for early stopping.\n",
      "\n",
      "Will train until validation_1-rmse hasn't improved in 1 rounds.\n",
      "[1]\tvalidation_0-mae:0.591464\tvalidation_0-rmse:0.766728\tvalidation_1-mae:0.592846\tvalidation_1-rmse:0.768323\n",
      "[2]\tvalidation_0-mae:0.481842\tvalidation_0-rmse:0.627221\tvalidation_1-mae:0.483048\tvalidation_1-rmse:0.628367\n",
      "[3]\tvalidation_0-mae:0.418751\tvalidation_0-rmse:0.54528\tvalidation_1-mae:0.419902\tvalidation_1-rmse:0.546136\n",
      "[4]\tvalidation_0-mae:0.3825\tvalidation_0-rmse:0.498863\tvalidation_1-mae:0.383551\tvalidation_1-rmse:0.499637\n",
      "[5]\tvalidation_0-mae:0.362459\tvalidation_0-rmse:0.47443\tvalidation_1-mae:0.363446\tvalidation_1-rmse:0.475112\n",
      "[6]\tvalidation_0-mae:0.350922\tvalidation_0-rmse:0.461191\tvalidation_1-mae:0.351903\tvalidation_1-rmse:0.461892\n",
      "[7]\tvalidation_0-mae:0.344218\tvalidation_0-rmse:0.454331\tvalidation_1-mae:0.3452\tvalidation_1-rmse:0.455042\n",
      "[8]\tvalidation_0-mae:0.340403\tvalidation_0-rmse:0.450469\tvalidation_1-mae:0.341419\tvalidation_1-rmse:0.451236\n",
      "[9]\tvalidation_0-mae:0.337652\tvalidation_0-rmse:0.447927\tvalidation_1-mae:0.338705\tvalidation_1-rmse:0.44877\n",
      "[10]\tvalidation_0-mae:0.336059\tvalidation_0-rmse:0.446737\tvalidation_1-mae:0.337146\tvalidation_1-rmse:0.447643\n",
      "[11]\tvalidation_0-mae:0.334906\tvalidation_0-rmse:0.44569\tvalidation_1-mae:0.336024\tvalidation_1-rmse:0.446667\n",
      "[12]\tvalidation_0-mae:0.334061\tvalidation_0-rmse:0.444819\tvalidation_1-mae:0.33523\tvalidation_1-rmse:0.44587\n",
      "[13]\tvalidation_0-mae:0.333535\tvalidation_0-rmse:0.4443\tvalidation_1-mae:0.334738\tvalidation_1-rmse:0.445436\n",
      "[14]\tvalidation_0-mae:0.333111\tvalidation_0-rmse:0.443887\tvalidation_1-mae:0.334324\tvalidation_1-rmse:0.44507\n",
      "[15]\tvalidation_0-mae:0.332891\tvalidation_0-rmse:0.443657\tvalidation_1-mae:0.334127\tvalidation_1-rmse:0.444896\n",
      "[16]\tvalidation_0-mae:0.332573\tvalidation_0-rmse:0.443315\tvalidation_1-mae:0.333832\tvalidation_1-rmse:0.444604\n",
      "[17]\tvalidation_0-mae:0.33223\tvalidation_0-rmse:0.442964\tvalidation_1-mae:0.333517\tvalidation_1-rmse:0.444295\n",
      "[18]\tvalidation_0-mae:0.331808\tvalidation_0-rmse:0.442324\tvalidation_1-mae:0.333124\tvalidation_1-rmse:0.443724\n",
      "[19]\tvalidation_0-mae:0.331648\tvalidation_0-rmse:0.44215\tvalidation_1-mae:0.332981\tvalidation_1-rmse:0.443592\n",
      "[20]\tvalidation_0-mae:0.331528\tvalidation_0-rmse:0.442004\tvalidation_1-mae:0.3329\tvalidation_1-rmse:0.44349\n",
      "[21]\tvalidation_0-mae:0.331419\tvalidation_0-rmse:0.441828\tvalidation_1-mae:0.332817\tvalidation_1-rmse:0.443384\n",
      "[22]\tvalidation_0-mae:0.331371\tvalidation_0-rmse:0.44175\tvalidation_1-mae:0.332781\tvalidation_1-rmse:0.443317\n",
      "[23]\tvalidation_0-mae:0.331304\tvalidation_0-rmse:0.441609\tvalidation_1-mae:0.332745\tvalidation_1-rmse:0.443227\n",
      "[24]\tvalidation_0-mae:0.331189\tvalidation_0-rmse:0.441449\tvalidation_1-mae:0.332664\tvalidation_1-rmse:0.443115\n",
      "[25]\tvalidation_0-mae:0.331113\tvalidation_0-rmse:0.44133\tvalidation_1-mae:0.332611\tvalidation_1-rmse:0.443015\n",
      "[26]\tvalidation_0-mae:0.330986\tvalidation_0-rmse:0.441138\tvalidation_1-mae:0.33251\tvalidation_1-rmse:0.442874\n",
      "[27]\tvalidation_0-mae:0.330853\tvalidation_0-rmse:0.440975\tvalidation_1-mae:0.332425\tvalidation_1-rmse:0.442764\n",
      "[28]\tvalidation_0-mae:0.330499\tvalidation_0-rmse:0.440364\tvalidation_1-mae:0.332115\tvalidation_1-rmse:0.442213\n",
      "[29]\tvalidation_0-mae:0.330502\tvalidation_0-rmse:0.440286\tvalidation_1-mae:0.332124\tvalidation_1-rmse:0.442171\n",
      "[30]\tvalidation_0-mae:0.330344\tvalidation_0-rmse:0.440119\tvalidation_1-mae:0.332005\tvalidation_1-rmse:0.44206\n",
      "[31]\tvalidation_0-mae:0.330196\tvalidation_0-rmse:0.439886\tvalidation_1-mae:0.331895\tvalidation_1-rmse:0.441899\n",
      "[32]\tvalidation_0-mae:0.330142\tvalidation_0-rmse:0.439846\tvalidation_1-mae:0.331847\tvalidation_1-rmse:0.44188\n",
      "[33]\tvalidation_0-mae:0.329944\tvalidation_0-rmse:0.439605\tvalidation_1-mae:0.331687\tvalidation_1-rmse:0.44169\n",
      "[34]\tvalidation_0-mae:0.329867\tvalidation_0-rmse:0.439508\tvalidation_1-mae:0.331653\tvalidation_1-rmse:0.441647\n",
      "[35]\tvalidation_0-mae:0.329762\tvalidation_0-rmse:0.439358\tvalidation_1-mae:0.331611\tvalidation_1-rmse:0.441578\n",
      "[36]\tvalidation_0-mae:0.329728\tvalidation_0-rmse:0.439287\tvalidation_1-mae:0.331578\tvalidation_1-rmse:0.44152\n",
      "[37]\tvalidation_0-mae:0.329717\tvalidation_0-rmse:0.439258\tvalidation_1-mae:0.331581\tvalidation_1-rmse:0.441515\n",
      "[38]\tvalidation_0-mae:0.329699\tvalidation_0-rmse:0.43922\tvalidation_1-mae:0.331575\tvalidation_1-rmse:0.441491\n",
      "[39]\tvalidation_0-mae:0.329628\tvalidation_0-rmse:0.439117\tvalidation_1-mae:0.331536\tvalidation_1-rmse:0.441464\n",
      "[40]\tvalidation_0-mae:0.329585\tvalidation_0-rmse:0.439022\tvalidation_1-mae:0.331533\tvalidation_1-rmse:0.441433\n",
      "[41]\tvalidation_0-mae:0.329212\tvalidation_0-rmse:0.438416\tvalidation_1-mae:0.331188\tvalidation_1-rmse:0.440888\n",
      "[42]\tvalidation_0-mae:0.329096\tvalidation_0-rmse:0.438249\tvalidation_1-mae:0.331117\tvalidation_1-rmse:0.440805\n",
      "[43]\tvalidation_0-mae:0.32901\tvalidation_0-rmse:0.438167\tvalidation_1-mae:0.331038\tvalidation_1-rmse:0.44073\n",
      "[44]\tvalidation_0-mae:0.328992\tvalidation_0-rmse:0.438143\tvalidation_1-mae:0.331029\tvalidation_1-rmse:0.44072\n",
      "[45]\tvalidation_0-mae:0.32897\tvalidation_0-rmse:0.438104\tvalidation_1-mae:0.331025\tvalidation_1-rmse:0.440712\n",
      "[46]\tvalidation_0-mae:0.328925\tvalidation_0-rmse:0.438029\tvalidation_1-mae:0.331011\tvalidation_1-rmse:0.440688\n",
      "[47]\tvalidation_0-mae:0.328863\tvalidation_0-rmse:0.43791\tvalidation_1-mae:0.330976\tvalidation_1-rmse:0.440633\n",
      "[48]\tvalidation_0-mae:0.328813\tvalidation_0-rmse:0.437842\tvalidation_1-mae:0.330951\tvalidation_1-rmse:0.440605\n",
      "[49]\tvalidation_0-mae:0.328793\tvalidation_0-rmse:0.437783\tvalidation_1-mae:0.330945\tvalidation_1-rmse:0.440566\n",
      "[50]\tvalidation_0-mae:0.328659\tvalidation_0-rmse:0.437586\tvalidation_1-mae:0.33083\tvalidation_1-rmse:0.440401\n",
      "[51]\tvalidation_0-mae:0.3286\tvalidation_0-rmse:0.437523\tvalidation_1-mae:0.330801\tvalidation_1-rmse:0.440391\n",
      "[52]\tvalidation_0-mae:0.328591\tvalidation_0-rmse:0.437495\tvalidation_1-mae:0.330799\tvalidation_1-rmse:0.440376\n",
      "[53]\tvalidation_0-mae:0.328568\tvalidation_0-rmse:0.437451\tvalidation_1-mae:0.330781\tvalidation_1-rmse:0.440358\n",
      "[54]\tvalidation_0-mae:0.328535\tvalidation_0-rmse:0.4374\tvalidation_1-mae:0.330764\tvalidation_1-rmse:0.440331\n",
      "[55]\tvalidation_0-mae:0.328494\tvalidation_0-rmse:0.437347\tvalidation_1-mae:0.330737\tvalidation_1-rmse:0.440305\n",
      "[56]\tvalidation_0-mae:0.328445\tvalidation_0-rmse:0.437297\tvalidation_1-mae:0.330704\tvalidation_1-rmse:0.440282\n",
      "[57]\tvalidation_0-mae:0.328418\tvalidation_0-rmse:0.437237\tvalidation_1-mae:0.330696\tvalidation_1-rmse:0.440262\n",
      "[58]\tvalidation_0-mae:0.328406\tvalidation_0-rmse:0.437211\tvalidation_1-mae:0.330686\tvalidation_1-rmse:0.440241\n",
      "[59]\tvalidation_0-mae:0.328353\tvalidation_0-rmse:0.437106\tvalidation_1-mae:0.330686\tvalidation_1-rmse:0.44021\n",
      "[60]\tvalidation_0-mae:0.328305\tvalidation_0-rmse:0.43703\tvalidation_1-mae:0.330677\tvalidation_1-rmse:0.440179\n",
      "[61]\tvalidation_0-mae:0.328275\tvalidation_0-rmse:0.436994\tvalidation_1-mae:0.33066\tvalidation_1-rmse:0.440174\n",
      "[62]\tvalidation_0-mae:0.328219\tvalidation_0-rmse:0.436931\tvalidation_1-mae:0.330621\tvalidation_1-rmse:0.440145\n",
      "[63]\tvalidation_0-mae:0.328182\tvalidation_0-rmse:0.436881\tvalidation_1-mae:0.330608\tvalidation_1-rmse:0.440142\n",
      "[64]\tvalidation_0-mae:0.328161\tvalidation_0-rmse:0.436839\tvalidation_1-mae:0.330594\tvalidation_1-rmse:0.440121\n",
      "[65]\tvalidation_0-mae:0.328143\tvalidation_0-rmse:0.436811\tvalidation_1-mae:0.330586\tvalidation_1-rmse:0.440109\n",
      "[66]\tvalidation_0-mae:0.328141\tvalidation_0-rmse:0.436794\tvalidation_1-mae:0.330593\tvalidation_1-rmse:0.440104\n",
      "[67]\tvalidation_0-mae:0.328109\tvalidation_0-rmse:0.436745\tvalidation_1-mae:0.330579\tvalidation_1-rmse:0.440092\n",
      "[68]\tvalidation_0-mae:0.328079\tvalidation_0-rmse:0.436733\tvalidation_1-mae:0.330552\tvalidation_1-rmse:0.440085\n",
      "[69]\tvalidation_0-mae:0.328009\tvalidation_0-rmse:0.436633\tvalidation_1-mae:0.330534\tvalidation_1-rmse:0.44005\n",
      "[70]\tvalidation_0-mae:0.32796\tvalidation_0-rmse:0.436533\tvalidation_1-mae:0.330524\tvalidation_1-rmse:0.439999\n",
      "[71]\tvalidation_0-mae:0.327938\tvalidation_0-rmse:0.436485\tvalidation_1-mae:0.330527\tvalidation_1-rmse:0.440003\n"
     ]
    },
    {
     "name": "stdout",
     "output_type": "stream",
     "text": [
      "Stopping. Best iteration:\n",
      "[70]\tvalidation_0-mae:0.32796\tvalidation_0-rmse:0.436533\tvalidation_1-mae:0.330524\tvalidation_1-rmse:0.439999\n",
      "\n"
     ]
    }
   ],
   "source": [
    "model = build_model(X, y)"
   ]
  },
  {
   "cell_type": "markdown",
   "metadata": {},
   "source": [
    "### Save model to file"
   ]
  },
  {
   "cell_type": "code",
   "execution_count": 22,
   "metadata": {},
   "outputs": [
    {
     "name": "stdout",
     "output_type": "stream",
     "text": [
      "Saved model to: model_estado_mex_1.pickle.dat\n",
      "Saved model to: model_estado_mex_1.joblib.dat\n"
     ]
    }
   ],
   "source": [
    "# save model to file (pickle & joblib)\n",
    "save_model(model, \"model_estado_mex_1\")"
   ]
  },
  {
   "cell_type": "markdown",
   "metadata": {},
   "source": [
    "### Data analysis"
   ]
  },
  {
   "cell_type": "code",
   "execution_count": 23,
   "metadata": {},
   "outputs": [
    {
     "data": {
      "image/png": "[encoded data removed]",
      "text/plain": [
       "<Figure size 432x288 with 1 Axes>"
      ]
     },
     "metadata": {
      "needs_background": "light"
     },
     "output_type": "display_data"
    }
   ],
   "source": [
    "from xgboost import plot_importance\n",
    "\n",
    "# plot feature importance\n",
    "plot_importance(model)\n",
    "plt.show()"
   ]
  },
  {
   "cell_type": "markdown",
   "metadata": {},
   "source": [
    "- compute on **validation sets**"
   ]
  },
  {
   "cell_type": "code",
   "execution_count": 24,
   "metadata": {},
   "outputs": [],
   "source": [
    "from sklearn.model_selection import train_test_split\n",
    "\n",
    "X_train, X_val, y_train, y_val = train_test_split(X, y,\n",
    "        test_size=0.5, random_state=42)\n",
    "\n",
    "X_train.drop(['Demanda_uni_equil'], axis=1, inplace=True)\n",
    "X_val.drop(['Demanda_uni_equil'], axis=1, inplace=True)"
   ]
  },
  {
   "cell_type": "code",
   "execution_count": 25,
   "metadata": {},
   "outputs": [],
   "source": [
    "# make predictions for val data and evaluate\n",
    "predictions = model.predict(X_val)"
   ]
  },
  {
   "cell_type": "code",
   "execution_count": 26,
   "metadata": {},
   "outputs": [],
   "source": [
    "final_predictions = np.expm1(predictions).round().astype(int)\n",
    "final_y_val = np.expm1(y_val).round().astype(int)"
   ]
  },
  {
   "cell_type": "code",
   "execution_count": 27,
   "metadata": {},
   "outputs": [
    {
     "data": {
      "image/png": "[encoded data removed]",
      "text/plain": [
       "<Figure size 432x288 with 1 Axes>"
      ]
     },
     "metadata": {
      "needs_background": "light"
     },
     "output_type": "display_data"
    }
   ],
   "source": [
    "x1 = final_y_val\n",
    "x2 = pd.Series(final_predictions)\n",
    "bins = 10000\n",
    "\n",
    "plt.hist([x1, x2], bins = bins, color = ['yellow', 'green'],\n",
    "            edgecolor = 'red', hatch = '/', label = ['target', 'predictions'],\n",
    "            histtype = 'bar')\n",
    "plt.legend(loc='upper right')\n",
    "plt.xlim(0, 9)\n",
    "plt.show()"
   ]
  },
  {
   "cell_type": "markdown",
   "metadata": {},
   "source": [
    "- compute on **test sets**"
   ]
  },
  {
   "cell_type": "code",
   "execution_count": 40,
   "metadata": {},
   "outputs": [
    {
     "data": {
      "text/plain": [
       "0           3\n",
       "1           6\n",
       "2           4\n",
       "3           3\n",
       "4           2\n",
       "5           4\n",
       "6           2\n",
       "7           1\n",
       "8           1\n",
       "9           3\n",
       "10          3\n",
       "11          7\n",
       "12          8\n",
       "13          4\n",
       "14          4\n",
       "15          3\n",
       "16          2\n",
       "17          6\n",
       "18          3\n",
       "19          3\n",
       "20          3\n",
       "21          1\n",
       "22          3\n",
       "23          1\n",
       "24          7\n",
       "25          3\n",
       "26          2\n",
       "27          3\n",
       "28          2\n",
       "29          2\n",
       "           ..\n",
       "1539650     6\n",
       "1539651     8\n",
       "1539652     5\n",
       "1539653     1\n",
       "1539654     1\n",
       "1539655     2\n",
       "1539656     3\n",
       "1539657     7\n",
       "1539658     1\n",
       "1539659     4\n",
       "1539660     2\n",
       "1539661     1\n",
       "1539662     6\n",
       "1539663     3\n",
       "1539664     5\n",
       "1539665     1\n",
       "1539666     3\n",
       "1539667     3\n",
       "1539668     5\n",
       "1539669     2\n",
       "1539670     1\n",
       "1539671     1\n",
       "1539672     4\n",
       "1539673     2\n",
       "1539674     2\n",
       "1539675     6\n",
       "1539676     2\n",
       "1539677     3\n",
       "1539678     2\n",
       "1539679    38\n",
       "Name: Demanda_uni_equil, Length: 1539680, dtype: int64"
      ]
     },
     "execution_count": 40,
     "metadata": {},
     "output_type": "execute_result"
    }
   ],
   "source": [
    "log_y_pred = model.predict(test)\n",
    "final_predictions = np.expm1(log_y_pred).round().astype(int)\n",
    "y_pred = pd.DataFrame( {'Demanda_uni_equil':final_predictions} )\n",
    "y_pred['Demanda_uni_equil']"
   ]
  },
  {
   "cell_type": "code",
   "execution_count": 41,
   "metadata": {},
   "outputs": [
    {
     "data": {
      "text/plain": [
       "63842725     5\n",
       "63842726    10\n",
       "63842727     8\n",
       "63842728     4\n",
       "63842729     2\n",
       "63842730     5\n",
       "63842731     1\n",
       "63842732     1\n",
       "63842733     3\n",
       "63842734     2\n",
       "63842735     6\n",
       "63842736     5\n",
       "63842737    10\n",
       "63842738     4\n",
       "63842739     4\n",
       "63842740     3\n",
       "63842741     1\n",
       "63842742     6\n",
       "63842743     2\n",
       "63842744     3\n",
       "63842745     6\n",
       "63842746     1\n",
       "63842747     4\n",
       "63842748     2\n",
       "63842749    10\n",
       "63842750     2\n",
       "63842751     1\n",
       "63842752     2\n",
       "63842753     2\n",
       "63842754     2\n",
       "            ..\n",
       "73364885     6\n",
       "73364886     9\n",
       "73364887    12\n",
       "73364888     1\n",
       "73364889     1\n",
       "73364890     5\n",
       "73364891     6\n",
       "73364892     9\n",
       "73364893     3\n",
       "73364894     5\n",
       "73364895     6\n",
       "73364896     1\n",
       "73364897     4\n",
       "73364898     4\n",
       "73364899     3\n",
       "73364900     1\n",
       "73364901     3\n",
       "73364902     7\n",
       "73364903     4\n",
       "73364904     1\n",
       "73364905     1\n",
       "73364906     1\n",
       "73364907     3\n",
       "73364908     4\n",
       "73364909     2\n",
       "73364910     3\n",
       "73364911     3\n",
       "73364912     2\n",
       "73364913     1\n",
       "73364914    80\n",
       "Name: Demanda_uni_equil, Length: 1539680, dtype: int16"
      ]
     },
     "execution_count": 41,
     "metadata": {},
     "output_type": "execute_result"
    }
   ],
   "source": [
    "y_true = pd.DataFrame(final_y_test)\n",
    "y_true['Demanda_uni_equil']"
   ]
  },
  {
   "cell_type": "code",
   "execution_count": 42,
   "metadata": {},
   "outputs": [
    {
     "name": "stdout",
     "output_type": "stream",
     "text": [
      "mae: 2.48647381274031\n",
      "rmse: 9.897034135665667\n",
      "rmsle: 0.44978925629463856\n"
     ]
    }
   ],
   "source": [
    "from sklearn.metrics import mean_absolute_error\n",
    "from sklearn.metrics import mean_squared_error\n",
    "from sklearn.metrics import mean_squared_log_error\n",
    "\n",
    "mae = mean_absolute_error(y_true, y_pred)\n",
    "print(f'mae: {mae}')\n",
    "rmse = np.sqrt(mean_squared_error(y_true, y_pred))\n",
    "print(f'rmse: {rmse}')\n",
    "rmsle = np.sqrt(mean_squared_log_error(y_true, y_pred))\n",
    "print(f'rmsle: {rmsle}')"
   ]
  }
 ],
 "metadata": {
  "kernelspec": {
   "display_name": "Python 3",
   "language": "python",
   "name": "python3"
  },
  "language_info": {
   "codemirror_mode": {
    "name": "ipython",
    "version": 3
   },
   "file_extension": ".py",
   "mimetype": "text/x-python",
   "name": "python",
   "nbconvert_exporter": "python",
   "pygments_lexer": "ipython3",
   "version": "3.7.6"
  },
  "toc": {
   "base_numbering": 1,
   "nav_menu": {},
   "number_sections": false,
   "sideBar": true,
   "skip_h1_title": false,
   "title_cell": "Table of Contents",
   "title_sidebar": "Contents",
   "toc_cell": false,
   "toc_position": {},
   "toc_section_display": true,
   "toc_window_display": false
  }
 },
 "nbformat": 4,
 "nbformat_minor": 4
}
