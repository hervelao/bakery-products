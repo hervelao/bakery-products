{
 "cells": [
  {
   "cell_type": "markdown",
   "metadata": {
    "slideshow": {
     "slide_type": "slide"
    }
   },
   "source": [
    "Our goal: forecast the demand of a product for a given week, at a particular store "
   ]
  },
  {
   "cell_type": "markdown",
   "metadata": {
    "slideshow": {
     "slide_type": "subslide"
    }
   },
   "source": [
    "Our dataset: 70M observations with 100+ fresh bakery products on the shelves of over 1 million stores over 7 weeks\n",
    "Difficulty: ...GPR"
   ]
  },
  {
   "cell_type": "markdown",
   "metadata": {
    "slideshow": {
     "slide_type": "slide"
    }
   },
   "source": [
    "HLA\n",
    "We have tested one approach so far\n",
    "\n",
    "Non temporal approach: average sales values over all past weeks to predict next week sales, aggregated at different levels"
   ]
  },
  {
   "cell_type": "code",
   "execution_count": null,
   "metadata": {},
   "outputs": [],
   "source": [
    "Results: model is evaluated on RMSLE on Kaggle \n",
    "Our private Score: 0.47716 vs best one on Kaggle: 0.44260 (146 hours on r3.8xlarge)"
   ]
  },
  {
   "cell_type": "code",
   "execution_count": null,
   "metadata": {},
   "outputs": [],
   "source": [
    "Result analysis \n",
    "....????.... HLA"
   ]
  },
  {
   "cell_type": "code",
   "execution_count": null,
   "metadata": {},
   "outputs": [],
   "source": [
    "We're working a time series approach GPR\n",
    "- approach description - nb features and lines\n",
    "- difficulties tyraining to big"
   ]
  },
  {
   "cell_type": "code",
   "execution_count": null,
   "metadata": {},
   "outputs": [],
   "source": [
    "We're puting models trainings and predictions in production at the same time\n",
    "GMA : schema architecture"
   ]
  },
  {
   "cell_type": "code",
   "execution_count": null,
   "metadata": {
    "slideshow": {
     "slide_type": "-"
    }
   },
   "outputs": [],
   "source": [
    "Next week roadmap:\n",
    "    IMAGE TO INSERT - HLA"
   ]
  },
  {
   "cell_type": "code",
   "execution_count": null,
   "metadata": {},
   "outputs": [],
   "source": [
    "Next week roadmap:\n",
    "    - run time series model on our data (or part of it)\n",
    "    - feature engineering: add product clusters (categories)\n",
    "    - work on dynamic dataviz to present sales at different geographic scales and levels of aggregation (product cats)\n",
    "    - work on a RNN model\n",
    "    - prepare demo: exploratory analysis on our data to show regional and product sales discrepancies\n",
    "    - deep analysis of our model results"
   ]
  }
 ],
 "metadata": {
  "celltoolbar": "Slideshow",
  "kernelspec": {
   "display_name": "Python 3",
   "language": "python",
   "name": "python3"
  },
  "language_info": {
   "codemirror_mode": {
    "name": "ipython",
    "version": 3
   },
   "file_extension": ".py",
   "mimetype": "text/x-python",
   "name": "python",
   "nbconvert_exporter": "python",
   "pygments_lexer": "ipython3",
   "version": "3.7.6"
  },
  "toc": {
   "base_numbering": 1,
   "nav_menu": {},
   "number_sections": true,
   "sideBar": true,
   "skip_h1_title": false,
   "title_cell": "Table of Contents",
   "title_sidebar": "Contents",
   "toc_cell": false,
   "toc_position": {},
   "toc_section_display": true,
   "toc_window_display": false
  }
 },
 "nbformat": 4,
 "nbformat_minor": 4
}
