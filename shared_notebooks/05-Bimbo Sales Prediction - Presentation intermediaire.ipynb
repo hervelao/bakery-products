{
 "cells": [
  {
   "cell_type": "markdown",
   "metadata": {
    "slideshow": {
     "slide_type": "slide"
    }
   },
   "source": [
    "## Grupo Bimbo Inventory Demand\n",
    "\n",
    "__Our goal:__ forecast the demand of a product for a given week, at a particular store "
   ]
  },
  {
   "cell_type": "markdown",
   "metadata": {
    "slideshow": {
     "slide_type": "slide"
    }
   },
   "source": [
    "Our dataset: 70M observations with 100+ fresh bakery products on the shelves of over 1 million stores over 7 weeks\n",
    "Difficulty: big variations in terms of product assortment in store from one week to another --> no trend to observe"
   ]
  },
  {
   "cell_type": "markdown",
   "metadata": {
    "slideshow": {
     "slide_type": "slide"
    }
   },
   "source": [
    "### First approach:\n",
    "\n",
    "**Non-temporal method**: aggregations of target (Adjusted Demand) and sales variables by the different categories we have on the test set (Sales Depot ID // Sales Channel ID // Route ID // Client ID // Product ID).\n",
    "\n",
    "On this approach, we have **13 features**."
   ]
  },
  {
   "cell_type": "markdown",
   "metadata": {
    "slideshow": {
     "slide_type": "subslide"

    }
   },
   "source": [
    "**Results**: model is evaluated on RMSLE on Kaggle.\n",
    "Our private Score: 0.47716 vs best one on Kaggle: 0.44260 (146 hours on r3.8xlarge)"
   ]
  },
  {
   "cell_type": "markdown",
   "metadata": {
    "slideshow": {
     "slide_type": "subslide"
    }
   },
   "source": [
    "<img src='../presentation_images/feature-importance.png' width=800>"
   ]
  },
  {
   "cell_type": "markdown",
   "metadata": {
    "slideshow": {
     "slide_type": "subslide"
    }
   },
   "source": [
    "<img src='../presentation_images/xgboost_rmse.png' width=800>"
   ]
  },
  {
   "cell_type": "markdown",
   "metadata": {
    "slideshow": {
     "slide_type": "subslide"
    }
   },
   "source": [
    "<img src='../presentation_images/week_9_hist.png' width=800>"

   ]
  },
  {
   "cell_type": "markdown",
   "metadata": {
    "slideshow": {
     "slide_type": "subslide"
    }
   },
   "source": [
    "<img src='../presentation_images/week_9_error.png' width=1500>"
   ]
  },
  {
   "cell_type": "code",
   "execution_count": null,
   "metadata": {
    "slideshow": {
     "slide_type": "slide"
    }
   },
   "outputs": [],
   "source": [
    "We're working a time series approach\n",
    "- take into account time by creating lagued variables (sales in week -1, week -2...)\n",
    "- ~225 features created: combinations of lags, aggregation variables and aggregation operators\n",
    "- difficulties on running data processing on all dataset [computing 225 features on 70M obs]"
   ]
  },
  {
   "cell_type": "markdown",
   "metadata": {
    "slideshow": {
     "slide_type": "slide"
    }
   },
   "source": [
    "We're puting models trainings and predictions in production at the same time\n",
    "GMA : schema architecture"
   ]
  },
  {
   "cell_type": "markdown",
   "metadata": {
    "slideshow": {
     "slide_type": "slide"
    }
   },
   "source": [
    "Next week roadmap:\n",
    "    IMAGE TO INSERT - HLA"
   ]
  },
  {
   "cell_type": "markdown",
   "metadata": {
    "slideshow": {
     "slide_type": "slide"
    }
   },
   "source": [
    "Next week roadmap:\n",
    "    - Run time series model on our data (or part of it)\n",
    "    - Feature engineering: add product clusters (categories)\n",
    "    - Work on dynamic dataviz to present sales at different geographic scales and levels of aggregation (product cats)\n",
    "    - Work on a RNN model\n",
    "    - Prepare demo: exploratory analysis on our data to show regional and product sales discrepancies\n",
    "    - Deep analysis of our model results"
   ]
  },
  {
   "cell_type": "code",
   "execution_count": null,
   "metadata": {},
   "outputs": [],
   "source": []
  },
  {
   "cell_type": "code",
   "execution_count": null,
   "metadata": {},
   "outputs": [],
   "source": []
  }
 ],
 "metadata": {
  "celltoolbar": "Slideshow",
  "kernelspec": {
   "display_name": "Python 3",
   "language": "python",
   "name": "python3"
  },
  "language_info": {
   "codemirror_mode": {
    "name": "ipython",
    "version": 3
   },
   "file_extension": ".py",
   "mimetype": "text/x-python",
   "name": "python",
   "nbconvert_exporter": "python",
   "pygments_lexer": "ipython3",
   "version": "3.7.6"
  },
  "toc": {
   "base_numbering": 1,
   "nav_menu": {},
   "number_sections": true,
   "sideBar": true,
   "skip_h1_title": false,
   "title_cell": "Table of Contents",
   "title_sidebar": "Contents",
   "toc_cell": false,
   "toc_position": {},
   "toc_section_display": true,
   "toc_window_display": false
  }
 },
 "nbformat": 4,
 "nbformat_minor": 4
}
