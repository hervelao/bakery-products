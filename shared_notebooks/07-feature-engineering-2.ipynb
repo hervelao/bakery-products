{
 "cells": [
  {
   "cell_type": "markdown",
   "metadata": {},
   "source": [
    "# Feature Engineering 2"
   ]
  },
  {
   "cell_type": "markdown",
   "metadata": {},
   "source": [
    "### Load data"
   ]
  },
  {
   "cell_type": "code",
   "execution_count": 1,
   "metadata": {},
   "outputs": [
    {
     "name": "stdout",
     "output_type": "stream",
     "text": [
      "Memory usage of dataframe is 0.04 MB\n",
      "Memory usage after optimization is: 0.11 MB\n",
      "Decreased by -184.7%\n",
      "Memory usage of dataframe is 14.27 MB\n",
      "Memory usage after optimization is: 19.51 MB\n",
      "Decreased by -36.7%\n",
      "Memory usage of dataframe is 373.80 MB\n",
      "Memory usage after optimization is: 120.15 MB\n",
      "Decreased by 67.9%\n",
      "Memory usage of dataframe is 0.02 MB\n",
      "Memory usage after optimization is: 0.02 MB\n",
      "Decreased by 6.0%\n",
      "Memory usage of dataframe is 6225.47 MB\n",
      "Memory usage after optimization is: 2122.32 MB\n",
      "Decreased by 65.9%\n",
      "Memory usage of dataframe is 106.80 MB\n",
      "Memory usage after optimization is: 33.38 MB\n",
      "Decreased by 68.7%\n"
     ]
    }
   ],
   "source": [
    "# Import packages\n",
    "import pandas as pd\n",
    "import numpy as np\n",
    "\n",
    "import matplotlib.pyplot as plt\n",
    "\n",
    "# Autoreload\n",
    "%load_ext autoreload\n",
    "%autoreload 2\n",
    "\n",
    "# Warnings\n",
    "import warnings\n",
    "warnings.filterwarnings('ignore')\n",
    "\n",
    "# Import data\n",
    "from bimbo.data import Bimbo\n",
    "\n",
    "data = Bimbo().get_data()\n",
    "\n",
    "# Load in the train and test datasets\n",
    "train_df = data['train']\n",
    "test_df = data['test']\n",
    "cliente_tabla_df = data['cliente_tabla']\n",
    "producto_tabla_df = data['producto_tabla']\n",
    "town_state_df = data['town_state']\n",
    "sample_submission_df = data['sample_submission']"
   ]
  },
  {
   "cell_type": "markdown",
   "metadata": {},
   "source": [
    "### Create clusters of Products"
   ]
  },
  {
   "cell_type": "code",
   "execution_count": 2,
   "metadata": {},
   "outputs": [],
   "source": [
    "products_id_clusters_df = pd.read_csv('../data/producto_clusters.csv')"
   ]
  },
  {
   "cell_type": "code",
   "execution_count": 3,
   "metadata": {},
   "outputs": [
    {
     "data": {
      "text/html": [
       "<div>\n",
       "<style scoped>\n",
       "    .dataframe tbody tr th:only-of-type {\n",
       "        vertical-align: middle;\n",
       "    }\n",
       "\n",
       "    .dataframe tbody tr th {\n",
       "        vertical-align: top;\n",
       "    }\n",
       "\n",
       "    .dataframe thead th {\n",
       "        text-align: right;\n",
       "    }\n",
       "</style>\n",
       "<table border=\"1\" class=\"dataframe\">\n",
       "  <thead>\n",
       "    <tr style=\"text-align: right;\">\n",
       "      <th></th>\n",
       "      <th>Producto_ID</th>\n",
       "      <th>short_name</th>\n",
       "      <th>brand</th>\n",
       "    </tr>\n",
       "  </thead>\n",
       "  <tbody>\n",
       "    <tr>\n",
       "      <th>0</th>\n",
       "      <td>0</td>\n",
       "      <td>NO IDENTIFICADO</td>\n",
       "      <td>IDENTIFICADO</td>\n",
       "    </tr>\n",
       "    <tr>\n",
       "      <th>1</th>\n",
       "      <td>9</td>\n",
       "      <td>Capuccino Moka</td>\n",
       "      <td>NES</td>\n",
       "    </tr>\n",
       "    <tr>\n",
       "      <th>2</th>\n",
       "      <td>41</td>\n",
       "      <td>Bimbollos Ext sAjonjoli</td>\n",
       "      <td>BIM</td>\n",
       "    </tr>\n",
       "  </tbody>\n",
       "</table>\n",
       "</div>"
      ],
      "text/plain": [
       "   Producto_ID                short_name         brand\n",
       "0            0          NO IDENTIFICADO   IDENTIFICADO\n",
       "1            9           Capuccino Moka            NES\n",
       "2           41  Bimbollos Ext sAjonjoli            BIM"
      ]
     },
     "execution_count": 3,
     "metadata": {},
     "output_type": "execute_result"
    }
   ],
   "source": [
    "products_id_clusters_df.head(3)"
   ]
  },
  {
   "cell_type": "code",
   "execution_count": 4,
   "metadata": {},
   "outputs": [],
   "source": [
    "new_train_df = pd.merge(train_df, products_id_clusters_df, on='Producto_ID')"
   ]
  },
  {
   "cell_type": "markdown",
   "metadata": {},
   "source": [
    "### Create a category of location based on zip code"
   ]
  },
  {
   "cell_type": "code",
   "execution_count": 5,
   "metadata": {},
   "outputs": [
    {
     "data": {
      "text/html": [
       "<div>\n",
       "<style scoped>\n",
       "    .dataframe tbody tr th:only-of-type {\n",
       "        vertical-align: middle;\n",
       "    }\n",
       "\n",
       "    .dataframe tbody tr th {\n",
       "        vertical-align: top;\n",
       "    }\n",
       "\n",
       "    .dataframe thead th {\n",
       "        text-align: right;\n",
       "    }\n",
       "</style>\n",
       "<table border=\"1\" class=\"dataframe\">\n",
       "  <thead>\n",
       "    <tr style=\"text-align: right;\">\n",
       "      <th></th>\n",
       "      <th>Agencia_ID</th>\n",
       "      <th>Town</th>\n",
       "      <th>State</th>\n",
       "    </tr>\n",
       "  </thead>\n",
       "  <tbody>\n",
       "    <tr>\n",
       "      <th>0</th>\n",
       "      <td>1110</td>\n",
       "      <td>2008 AG. LAGO FILT</td>\n",
       "      <td>MÉXICO, D.F.</td>\n",
       "    </tr>\n",
       "    <tr>\n",
       "      <th>1</th>\n",
       "      <td>1111</td>\n",
       "      <td>2002 AG. AZCAPOTZALCO</td>\n",
       "      <td>MÉXICO, D.F.</td>\n",
       "    </tr>\n",
       "    <tr>\n",
       "      <th>2</th>\n",
       "      <td>1112</td>\n",
       "      <td>2004 AG. CUAUTITLAN</td>\n",
       "      <td>ESTADO DE MÉXICO</td>\n",
       "    </tr>\n",
       "  </tbody>\n",
       "</table>\n",
       "</div>"
      ],
      "text/plain": [
       "   Agencia_ID                   Town             State\n",
       "0        1110     2008 AG. LAGO FILT      MÉXICO, D.F.\n",
       "1        1111  2002 AG. AZCAPOTZALCO      MÉXICO, D.F.\n",
       "2        1112    2004 AG. CUAUTITLAN  ESTADO DE MÉXICO"
      ]
     },
     "execution_count": 5,
     "metadata": {},
     "output_type": "execute_result"
    }
   ],
   "source": [
    "town_state_df.head(3)"
   ]
  },
  {
   "cell_type": "code",
   "execution_count": 6,
   "metadata": {},
   "outputs": [
    {
     "data": {
      "text/plain": [
       "Agencia_ID    790\n",
       "Town          260\n",
       "State          33\n",
       "dtype: int64"
      ]
     },
     "execution_count": 6,
     "metadata": {},
     "output_type": "execute_result"
    }
   ],
   "source": [
    "town_state_df.nunique()"
   ]
  },
  {
   "cell_type": "markdown",
   "metadata": {},
   "source": [
    "There are **33 States** in Mexico."
   ]
  },
  {
   "cell_type": "code",
   "execution_count": 7,
   "metadata": {},
   "outputs": [
    {
     "data": {
      "text/plain": [
       "['MÉXICO, D.F.',\n",
       " 'ESTADO DE MÉXICO',\n",
       " 'HIDALGO',\n",
       " 'Queretaro de Arteaga',\n",
       " 'PUEBLA',\n",
       " 'OAXACA',\n",
       " 'MORELOS',\n",
       " 'GUERRERO',\n",
       " 'TLAXCALA',\n",
       " 'JALISCO',\n",
       " 'COLIMA',\n",
       " 'ZACATECAS',\n",
       " 'NAYARIT',\n",
       " 'SAN LUIS POTOSÍ',\n",
       " 'AGUASCALIENTES',\n",
       " 'MICHOACÁN',\n",
       " 'TAMAULIPAS',\n",
       " 'NUEVO LEÓN',\n",
       " 'COAHUILA',\n",
       " 'CHIHUAHUA',\n",
       " 'DURANGO',\n",
       " 'SONORA',\n",
       " 'BAJA CALIFORNIA NORTE',\n",
       " 'SINALOA',\n",
       " 'BAJA CALIFORNIA SUR',\n",
       " 'VERACRUZ',\n",
       " 'GUANAJUATO',\n",
       " 'QUERETARO',\n",
       " 'TABASCO',\n",
       " 'YUCATÁN',\n",
       " 'CAMPECHE',\n",
       " 'QUINTANA ROO',\n",
       " 'CHIAPAS']"
      ]
     },
     "execution_count": 7,
     "metadata": {},
     "output_type": "execute_result"
    }
   ],
   "source": [
    "town_state_df['State'].unique().tolist()"
   ]
  },
  {
   "cell_type": "code",
   "execution_count": 8,
   "metadata": {},
   "outputs": [
    {
     "data": {
      "text/plain": [
       "['2008 AG. LAGO FILT',\n",
       " '2002 AG. AZCAPOTZALCO',\n",
       " '2004 AG. CUAUTITLAN',\n",
       " '2029 AG.IZTAPALAPA 2',\n",
       " '2011 AG. SAN ANTONIO',\n",
       " '2001 AG. ATIZAPAN',\n",
       " '2007 AG. LA VILLA',\n",
       " '2013 AG. MEGA NAUCALPAN',\n",
       " '2018 AG. TEPALCATES 2',\n",
       " '2016 AG. SAN LORENZO',\n",
       " '2019 AG. XALOSTOC',\n",
       " '2094 CHALCO_BM',\n",
       " '2021 AG. XOCHIMILCO 2',\n",
       " '2017 AG. SANTA CLARA',\n",
       " '2003 AG. COACALCO',\n",
       " '2010 AG. LOS REYES',\n",
       " '2014 AG. NEZA',\n",
       " '2015 AG. ROJO GOMEZ',\n",
       " '2078 AG. TEXCOCO',\n",
       " '2088 AG. CEYLAN',\n",
       " '2087 AG. TIZAYUCA',\n",
       " '2089 AG. AZCAPOTZALCO INSTITUCIONALES',\n",
       " '2048 AG. IXTAPALUCA 1',\n",
       " '2116 Cruce De Anden Región Mexico',\n",
       " '2092 AG. SANTA CLARA AUTOSERVICIOS',\n",
       " '2059 Queretaro Balvanera',\n",
       " '2027 AG. VALLEJO',\n",
       " '2064 AG. TEPALCATES 1',\n",
       " '2041 AG. TULTITLAN',\n",
       " '2049 AG. IZTAPALAPA 1',\n",
       " '2050 AG. MIXCOAC',\n",
       " '2040 AG. CENTRO',\n",
       " '2042 AG. TEPOZOTLAN',\n",
       " '2070 AG. XOCHIMILCO 1',\n",
       " '2066 TOLUCA PONIENTE',\n",
       " '2056 PUEBLA NORTE MARINELA',\n",
       " '2057 PUEBLA SUR MARINELA',\n",
       " '2063 TEHUACAN MARINELA',\n",
       " '2053 OAXACA MARINELA',\n",
       " '2044 CUERNAVACA BUENAVISTA',\n",
       " '2034 ACAPULCO COSTERA',\n",
       " '2065 TOLUCA CENTRO',\n",
       " '2036 APIZACO MARINELA',\n",
       " '2175 TOLUCA AEROPUERTO',\n",
       " '2031 AG. PANTITLAN',\n",
       " '2260 GONZALEZ GALLO',\n",
       " '2273 SAN PEDRO',\n",
       " '2278 ZAPOPAN BIMBO',\n",
       " '2293 GRANJAS MARINELA',\n",
       " '2263 LIBERTAD',\n",
       " '2268 PALOMAR',\n",
       " '2253 ATOTONILCO',\n",
       " '2254 AUTLAN_BM',\n",
       " '2255 CD GUZMAN',\n",
       " '2258 COLIMA BIMBO',\n",
       " '2259 FRESNILLO BIMBO',\n",
       " '2264 MANZANILLO BIMBO',\n",
       " '2269 PUERTO VALLARTA BIMBO',\n",
       " '2277 ZACATECAS BIMBO',\n",
       " '2274 TEPATITLAN BIMBO',\n",
       " '2267 OCOTLAN BIMBO',\n",
       " '2275 TEPIC BIMBO',\n",
       " '2262 LA PEÑITA',\n",
       " '2265 MATEHUALA BIMBO',\n",
       " '2315 SAN LUIS POTOSI MARINELA',\n",
       " '2272 SAN LUIS REY',\n",
       " '2276 WONDER LA RAZA',\n",
       " '2251 AGUASCALIENTES NORTE',\n",
       " '2256 CD. MANTE',\n",
       " '2257 CD. VALLES',\n",
       " '2271 RIO VERDE BIMBO',\n",
       " '2252 AGUASCALIENTES SIGLO XXI',\n",
       " '2504 TAMPICO MARINELA',\n",
       " '2304 MARIANO OTERO_MM',\n",
       " '2321 ZACATECAS MARINELA',\n",
       " '2325 TECOMAN',\n",
       " '2329 AG.HUEJUTLA',\n",
       " '2368 TAMPICO BIMBO',\n",
       " '2328 SANTIAGO IXCUINTLA',\n",
       " '2330 TLAQUEPARQUE',\n",
       " '2309 NORTE',\n",
       " '2465 LAREDO',\n",
       " '2467 LINCOLN',\n",
       " '2478 SAN NICOLAS',\n",
       " '2468 MATAMOROS BIMBO',\n",
       " '2469 MONCLOVA BIMBO',\n",
       " '2451 ACUÑA',\n",
       " '2474 PIEDRAS NEGRAS',\n",
       " '2480 VICTORIA BIMBO',\n",
       " '2477 SALTILLO BIMBO',\n",
       " '2476 SABINAS',\n",
       " '2461 HIDALGO BIMBO',\n",
       " '2479 SANTA CATARINA BIMBO',\n",
       " '2505 TORREON',\n",
       " '2145 Cruce De Anden Norte',\n",
       " '2481 WONDER GUERRERO',\n",
       " '2455 CHIHUAHUA BIMBO',\n",
       " '2472 OJINAGA',\n",
       " '2473 PARRAL BIMBO',\n",
       " '2457 DELICIAS BIMBO',\n",
       " '2454 CUAHUTEMOC',\n",
       " '2458 GOMEZ PALACIO BIMBO',\n",
       " '2475 REYNOSA BIMBO',\n",
       " '2488 JUAREZ',\n",
       " '2515 CAVAZOS',\n",
       " '2516 ESCOBEDO',\n",
       " '2499 REYNOSA MARINELA',\n",
       " '2487 AEROPUERTO',\n",
       " '2485 CHIHUAHUA MARINELA',\n",
       " '2496 LA FE',\n",
       " '2462 JUAREZ BIMBO',\n",
       " '2520 HERMOSILLO SUR',\n",
       " '2563 MEXICALI PONIENTE',\n",
       " '2152 Cruce De Anden Noroeste',\n",
       " '2552 CABORCA',\n",
       " '2566 NOGALES_BW',\n",
       " '2551 AGUA PRIETA',\n",
       " '2558 GUAYMAS',\n",
       " '2554 CD. OBREGON',\n",
       " '2565 NAVOJOA',\n",
       " '2564 MOCTEZUMA',\n",
       " '2553 CANANEA',\n",
       " '2555 ENSENADA II',\n",
       " '2570 SANTA ANA',\n",
       " '2567 PUERTO PEÑASCO',\n",
       " '2561 LOS MOCHIS',\n",
       " '2557 BW_GUASAVE',\n",
       " '2556 GUAMUCHIL',\n",
       " '2572 TIJUANA EL FLORIDO',\n",
       " '2573 TIJUANA GATO BRONCO',\n",
       " '2574 TIJUANA PACIFICO',\n",
       " '2571 TECATE',\n",
       " '2562 MEXICALI PLAZA',\n",
       " '2568 SAN LUIS R.C.',\n",
       " '2305 MAZATLAN BIMBO',\n",
       " '2290 DURANGO BIMBO',\n",
       " '2289 CULIACAN MARINELA',\n",
       " '2297 LA PAZ',\n",
       " '2314 SAN LUCAS',\n",
       " '2417 ZACATLAN',\n",
       " '2376 CONVENIENCIA VERACRUZ SUR',\n",
       " '2352 CORDOBA',\n",
       " '2361 ORIZABA',\n",
       " '2355 JALAPA I',\n",
       " '2358 MARTINEZ DE LA TORRE',\n",
       " '2363 POZA RICA',\n",
       " '2370 TEZIUTLAN',\n",
       " '2373 TUXPAM',\n",
       " '2374 TUXTEPEC',\n",
       " '2375 VERACRUZ NORTE',\n",
       " '2354 ISLA',\n",
       " '2377 VERACRUZ SUR MLA',\n",
       " '2364 PUEBLA NORTE BIMBO',\n",
       " '2365 PUEBLA SUR BIMBO',\n",
       " '2372 AG.TULANCINGO',\n",
       " '2353 HUAJUAPAN',\n",
       " '2360 OAXACA BIMBO',\n",
       " '2415 JUXTLAHUACA',\n",
       " '2416 PACHUCA II',\n",
       " '2359 AG.MIXQUIAHUALA',\n",
       " '2367 SAN MARTIN T.',\n",
       " '2407 TEPEACA',\n",
       " '2169 Cruce De Andén Sureste',\n",
       " '2412 APAN',\n",
       " '2413 CIUDAD SERDÁN',\n",
       " '2294 GUADALAJARA',\n",
       " '2161 IRAPUATO GUADALUPE',\n",
       " '2300 LEON MILENIUM',\n",
       " '2322 ZAMORA MADERO',\n",
       " '2288 CULIACAN BIMBO',\n",
       " '2279 ACAPONETA',\n",
       " '2306 MAZATLAN MARINELA',\n",
       " '2310 NUEVO IDEAL',\n",
       " '2313 SAN JOSE DEL CABO',\n",
       " '2285 CD. CONSTITUCION',\n",
       " '2316 SANTA ROSALIA',\n",
       " '2576 GUERRERO NEGRO',\n",
       " '2168 MORELIA ABASTOS',\n",
       " '2176 TOLUCA SAN ANTONIO',\n",
       " '2177 AGENCIA SUANDY',\n",
       " '2151 ACAPULCO ESCENICA',\n",
       " '2154 ATLACOMULCO',\n",
       " '2157 CUAUTLA',\n",
       " '2158 CUERNAVACA CIVAC',\n",
       " '2159 CHILPANCINGO',\n",
       " '2160 IGUALA',\n",
       " '2182 ZITACUARO',\n",
       " '2162 JOJUTLA_BM',\n",
       " '2152 ALTAMIRANO_BM',\n",
       " '2169 PINOTEPA',\n",
       " '2170 PUERTO ESCONDIDO',\n",
       " '2165 LEON SAN JUAN BOSCO',\n",
       " '2178 URIANGATO',\n",
       " '2155 CELAYA NORPONIENTE',\n",
       " '2167 MORELIA LA HUERTA',\n",
       " '2179 URUAPAN',\n",
       " '2153 APATZINGAN',\n",
       " '2164 LAZARO CARDENAS',\n",
       " '2181 ZIHUATANEJO',\n",
       " '2156 CELAYA INDUSTRIAL WONDER',\n",
       " '2163 LA PIEDAD',\n",
       " '2174 SAN MIGUEL DE ALLENDE',\n",
       " '2055 Pinotepa',\n",
       " '2059 QUERETARO BALVANERA',\n",
       " '2301 CUBILETE',\n",
       " '2186 LAGOS DE MORENO',\n",
       " '2296 IRAPUATO SAN MIGUELITO',\n",
       " '2080 TEXCOCO WONDER',\n",
       " '2081 NAUCALPAN II',\n",
       " '2083 AZCAPOTZALCO II MARINELA',\n",
       " '2090 AG. TEPEJI DEL RIO',\n",
       " '2390 INDUSTRIAL',\n",
       " '2396 RUIZ CORTINEZ',\n",
       " '2393 MERIDA SUR',\n",
       " '2392 MERIDA NORTE',\n",
       " '2380 CAMPECHE',\n",
       " '2388 CHETUMAL',\n",
       " '2381 CANCUN_BM',\n",
       " '2395 PLAYA DEL CARMEN',\n",
       " '2401 TEKAX',\n",
       " '2386 COATZACOALCOS MLA.',\n",
       " '2382 CARDENAS',\n",
       " '2394 MINATITLAN',\n",
       " '2378 ACAYUCAN',\n",
       " '2384 CIUDAD DEL CARMEN',\n",
       " '2402 TUXTLA',\n",
       " '2398 SAN CRISTOBAL',\n",
       " '2399 TAPACHULA',\n",
       " '2379 ARRIAGA_BM',\n",
       " '2391 IXTEPEC',\n",
       " '2397 SALINA CRUZ',\n",
       " '2410 CANCUN II',\n",
       " '2411 COMITAN',\n",
       " '2408 ESCARCEGA',\n",
       " '2188 MARAVATIO',\n",
       " '2189 ACAPULCO SAN ISIDRO',\n",
       " '2647 BLM_AG. CAMPESINOS AUTOSERVICI',\n",
       " '2190 BI_SAN FRANCISCO DEL RINCON',\n",
       " '2655 LOS MOCHIS',\n",
       " '3216 NUEVO LAREDO',\n",
       " '2032 AG. SANTA LUCIA',\n",
       " '2493 MITRAS',\n",
       " '2502 SALTILLO MARINELA',\n",
       " '2517 SENDERO AUTOSERVICIO',\n",
       " '2171 QUERETARO SAN PABLO',\n",
       " '2173 SAN JUAN DEL RIO',\n",
       " '2187 SALAMANCA',\n",
       " '2362 AG.PACHUCA',\n",
       " '2414 IZUCAR DE MATAMOROS',\n",
       " '2560 LAS TORRES',\n",
       " '2366 SAN ANDRES',\n",
       " '2371 TIERRA BLANCA',\n",
       " '2387 COZUMEL',\n",
       " '2389 EMILIANO ZAPATA',\n",
       " '2404 VALLADOLID',\n",
       " '2418 COMALCALCO',\n",
       " '2453 CASAS GRANDES',\n",
       " '2466 LINARES',\n",
       " '2569 SAN QUINTÍN',\n",
       " '2575 TIJUANA ROSARITO']"
      ]
     },
     "execution_count": 8,
     "metadata": {},
     "output_type": "execute_result"
    }
   ],
   "source": [
    "town_state_df['Town'].unique().tolist()"
   ]
  },
  {
   "cell_type": "code",
   "execution_count": 9,
   "metadata": {},
   "outputs": [],
   "source": [
    "new_train_df = pd.merge(new_train_df, town_state_df, on='Agencia_ID')"
   ]
  },
  {
   "cell_type": "markdown",
   "metadata": {},
   "source": [
    "### Feature Engineering"
   ]
  },
  {
   "cell_type": "code",
   "execution_count": 10,
   "metadata": {},
   "outputs": [],
   "source": [
    "new_new_train_df = new_train_df[new_train_df['Semana'] < 9]\n",
    "val_df = new_train_df[new_train_df['Semana'] == 9]"
   ]
  },
  {
   "cell_type": "code",
   "execution_count": 12,
   "metadata": {},
   "outputs": [],
   "source": [
    "from bimbo.preprocessing import *\n",
    "from bimbo.feature_engineering import *"
   ]
  },
  {
   "cell_type": "markdown",
   "metadata": {},
   "source": [
    "#### for the training/validation data"
   ]
  },
  {
   "cell_type": "code",
   "execution_count": 13,
   "metadata": {},
   "outputs": [],
   "source": [
    "new_new_train_df = data_preprocess(new_new_train_df)\n",
    "val_df = data_preprocess(val_df)"
   ]
  },
  {
   "cell_type": "code",
   "execution_count": 14,
   "metadata": {},
   "outputs": [],
   "source": [
    "new_new_train_df = change_type_to_categ2(new_new_train_df)\n",
    "val_df = change_type_to_categ2(val_df)"
   ]
  },
  {
   "cell_type": "code",
   "execution_count": 18,
   "metadata": {},
   "outputs": [],
   "source": [
    "temp = feature_engineering2(new_new_train_df)"
   ]
  },
  {
   "cell_type": "code",
   "execution_count": 19,
   "metadata": {},
   "outputs": [],
   "source": [
    "val = merge_feature2(val_df, temp, 'val')"
   ]
  },
  {
   "cell_type": "code",
   "execution_count": 20,
   "metadata": {},
   "outputs": [],
   "source": [
    "val.to_csv('../data/processed_val_2.csv', index=False)"
   ]
  },
  {
   "cell_type": "markdown",
   "metadata": {},
   "source": [
    "#### for the test data"
   ]
  },
  {
   "cell_type": "code",
   "execution_count": 21,
   "metadata": {},
   "outputs": [],
   "source": [
    "real_train_df = data_preprocess(new_train_df)"
   ]
  },
  {
   "cell_type": "code",
   "execution_count": 22,
   "metadata": {},
   "outputs": [],
   "source": [
    "real_train_df = change_type_to_categ2(real_train_df)"
   ]
  },
  {
   "cell_type": "code",
   "execution_count": 23,
   "metadata": {},
   "outputs": [],
   "source": [
    "temp = feature_engineering2(real_train_df)"
   ]
  },
  {
   "cell_type": "code",
   "execution_count": 25,
   "metadata": {},
   "outputs": [],
   "source": [
    "new_test_df = pd.merge(test_df, products_id_clusters_df, on='Producto_ID')\n",
    "new_test_df = pd.merge(new_test_df, town_state_df, on='Agencia_ID')"
   ]
  },
  {
   "cell_type": "code",
   "execution_count": 26,
   "metadata": {},
   "outputs": [],
   "source": [
    "test = merge_feature2(new_test_df, temp, 'test')"
   ]
  },
  {
   "cell_type": "code",
   "execution_count": 27,
   "metadata": {},
   "outputs": [],
   "source": [
    "test.to_csv('../data/processed_test_2.csv', index=False)"
   ]
  }
 ],
 "metadata": {
  "kernelspec": {
   "display_name": "Python 3",
   "language": "python",
   "name": "python3"
  },
  "language_info": {
   "codemirror_mode": {
    "name": "ipython",
    "version": 3
   },
   "file_extension": ".py",
   "mimetype": "text/x-python",
   "name": "python",
   "nbconvert_exporter": "python",
   "pygments_lexer": "ipython3",
   "version": "3.7.6"
  },
  "toc": {
   "base_numbering": 1,
   "nav_menu": {},
   "number_sections": false,
   "sideBar": true,
   "skip_h1_title": false,
   "title_cell": "Table of Contents",
   "title_sidebar": "Contents",
   "toc_cell": false,
   "toc_position": {},
   "toc_section_display": true,
   "toc_window_display": false
  }
 },
 "nbformat": 4,
 "nbformat_minor": 4
}
